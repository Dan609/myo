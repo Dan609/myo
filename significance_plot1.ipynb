{
 "cells": [
  {
   "cell_type": "code",
   "execution_count": null,
   "metadata": {},
   "outputs": [],
   "source": [
    "\"\"\"\n",
    "`bonferroni` : one-step correction\n",
    "`sidak` : one-step correction\n",
    "`holm-sidak` : step down method using Sidak adjustments\n",
    "`holm` : step-down method using Bonferroni adjustments\n",
    "`simes-hochberg` : step-up method  (independent)\n",
    "`hommel` : closed method based on Simes tests (non-negative)\n",
    "`fdr_bh` : Benjamini/Hochberg  (non-negative)\n",
    "`fdr_by` : Benjamini/Yekutieli (negative)\n",
    "`fdr_tsbh` : two stage fdr correction (non-negative)\n",
    "`fdr_tsbky` : two stage fdr correction (non-negative)\n",
    "\"\"\""
   ]
  },
  {
   "cell_type": "code",
   "execution_count": 2,
   "metadata": {},
   "outputs": [],
   "source": [
    "import statsmodels.api as sa\n",
    "import statsmodels.formula.api as sfa"
   ]
  },
  {
   "cell_type": "code",
   "execution_count": 3,
   "metadata": {},
   "outputs": [],
   "source": [
    "import scikit_posthocs as sp"
   ]
  },
  {
   "cell_type": "code",
   "execution_count": 4,
   "metadata": {},
   "outputs": [],
   "source": [
    "import scipy.stats as ss\n",
    "import pandas as pd\n",
    "import numpy as np\n",
    "import seaborn as sns\n",
    "import os, sys"
   ]
  },
  {
   "cell_type": "code",
   "execution_count": 5,
   "metadata": {},
   "outputs": [
    {
     "name": "stdout",
     "output_type": "stream",
     "text": [
      "Current working dir : /Users/danilabobkov/Dropbox/p/stepik\n"
     ]
    }
   ],
   "source": [
    "import os\n",
    "print(\"Current working dir : %s\" % os.getcwd())"
   ]
  },
  {
   "cell_type": "code",
   "execution_count": 6,
   "metadata": {},
   "outputs": [
    {
     "name": "stdout",
     "output_type": "stream",
     "text": [
      "d:\\Dropbox\\cells\\WJ1\\coloc\n"
     ]
    }
   ],
   "source": [
    "#%cd cells/WJ1/coloc"
   ]
  },
  {
   "cell_type": "code",
   "execution_count": 21,
   "metadata": {},
   "outputs": [],
   "source": [
    "coloc = pd.read_csv('colocM9mod1.csv', sep = ';')"
   ]
  },
  {
   "cell_type": "code",
   "execution_count": 22,
   "metadata": {},
   "outputs": [
    {
     "data": {
      "text/html": [
       "<div>\n",
       "<style scoped>\n",
       "    .dataframe tbody tr th:only-of-type {\n",
       "        vertical-align: middle;\n",
       "    }\n",
       "\n",
       "    .dataframe tbody tr th {\n",
       "        vertical-align: top;\n",
       "    }\n",
       "\n",
       "    .dataframe thead th {\n",
       "        text-align: right;\n",
       "    }\n",
       "</style>\n",
       "<table border=\"1\" class=\"dataframe\">\n",
       "  <thead>\n",
       "    <tr style=\"text-align: right;\">\n",
       "      <th></th>\n",
       "      <th>probe</th>\n",
       "      <th>Rval</th>\n",
       "      <th>tM1</th>\n",
       "      <th>tM2</th>\n",
       "      <th>bTau</th>\n",
       "      <th>Rs</th>\n",
       "    </tr>\n",
       "  </thead>\n",
       "  <tbody>\n",
       "    <tr>\n",
       "      <th>0</th>\n",
       "      <td>p07</td>\n",
       "      <td>0.68</td>\n",
       "      <td>0.899</td>\n",
       "      <td>0.936</td>\n",
       "      <td>0.6028</td>\n",
       "      <td>0.776807</td>\n",
       "    </tr>\n",
       "    <tr>\n",
       "      <th>1</th>\n",
       "      <td>p07</td>\n",
       "      <td>0.89</td>\n",
       "      <td>0.975</td>\n",
       "      <td>1.000</td>\n",
       "      <td>0.7802</td>\n",
       "      <td>0.914970</td>\n",
       "    </tr>\n",
       "    <tr>\n",
       "      <th>2</th>\n",
       "      <td>p07</td>\n",
       "      <td>0.74</td>\n",
       "      <td>0.922</td>\n",
       "      <td>0.867</td>\n",
       "      <td>0.7680</td>\n",
       "      <td>0.912862</td>\n",
       "    </tr>\n",
       "    <tr>\n",
       "      <th>3</th>\n",
       "      <td>p07</td>\n",
       "      <td>0.69</td>\n",
       "      <td>0.886</td>\n",
       "      <td>0.889</td>\n",
       "      <td>0.5560</td>\n",
       "      <td>0.731622</td>\n",
       "    </tr>\n",
       "    <tr>\n",
       "      <th>4</th>\n",
       "      <td>p07</td>\n",
       "      <td>0.54</td>\n",
       "      <td>0.870</td>\n",
       "      <td>0.876</td>\n",
       "      <td>0.4581</td>\n",
       "      <td>0.625792</td>\n",
       "    </tr>\n",
       "  </tbody>\n",
       "</table>\n",
       "</div>"
      ],
      "text/plain": [
       "  probe  Rval    tM1    tM2    bTau        Rs\n",
       "0   p07  0.68  0.899  0.936  0.6028  0.776807\n",
       "1   p07  0.89  0.975  1.000  0.7802  0.914970\n",
       "2   p07  0.74  0.922  0.867  0.7680  0.912862\n",
       "3   p07  0.69  0.886  0.889  0.5560  0.731622\n",
       "4   p07  0.54  0.870  0.876  0.4581  0.625792"
      ]
     },
     "execution_count": 22,
     "metadata": {},
     "output_type": "execute_result"
    }
   ],
   "source": [
    "coloc.head()"
   ]
  },
  {
   "cell_type": "code",
   "execution_count": 23,
   "metadata": {},
   "outputs": [
    {
     "data": {
      "text/html": [
       "<div>\n",
       "<style scoped>\n",
       "    .dataframe tbody tr th:only-of-type {\n",
       "        vertical-align: middle;\n",
       "    }\n",
       "\n",
       "    .dataframe tbody tr th {\n",
       "        vertical-align: top;\n",
       "    }\n",
       "\n",
       "    .dataframe thead th {\n",
       "        text-align: right;\n",
       "    }\n",
       "</style>\n",
       "<table border=\"1\" class=\"dataframe\">\n",
       "  <thead>\n",
       "    <tr style=\"text-align: right;\">\n",
       "      <th></th>\n",
       "      <th>bTau</th>\n",
       "    </tr>\n",
       "    <tr>\n",
       "      <th>probe</th>\n",
       "      <th></th>\n",
       "    </tr>\n",
       "  </thead>\n",
       "  <tbody>\n",
       "    <tr>\n",
       "      <th>Ctrl</th>\n",
       "      <td>0.131293</td>\n",
       "    </tr>\n",
       "    <tr>\n",
       "      <th>p07</th>\n",
       "      <td>0.596620</td>\n",
       "    </tr>\n",
       "    <tr>\n",
       "      <th>p09</th>\n",
       "      <td>0.635982</td>\n",
       "    </tr>\n",
       "    <tr>\n",
       "      <th>p12</th>\n",
       "      <td>0.610633</td>\n",
       "    </tr>\n",
       "    <tr>\n",
       "      <th>p15</th>\n",
       "      <td>0.487021</td>\n",
       "    </tr>\n",
       "    <tr>\n",
       "      <th>p18</th>\n",
       "      <td>0.533589</td>\n",
       "    </tr>\n",
       "    <tr>\n",
       "      <th>p21</th>\n",
       "      <td>0.634888</td>\n",
       "    </tr>\n",
       "    <tr>\n",
       "      <th>p25</th>\n",
       "      <td>0.632750</td>\n",
       "    </tr>\n",
       "    <tr>\n",
       "      <th>p27</th>\n",
       "      <td>0.700225</td>\n",
       "    </tr>\n",
       "    <tr>\n",
       "      <th>p28</th>\n",
       "      <td>0.735267</td>\n",
       "    </tr>\n",
       "    <tr>\n",
       "      <th>p35</th>\n",
       "      <td>0.651082</td>\n",
       "    </tr>\n",
       "    <tr>\n",
       "      <th>p36</th>\n",
       "      <td>0.631009</td>\n",
       "    </tr>\n",
       "  </tbody>\n",
       "</table>\n",
       "</div>"
      ],
      "text/plain": [
       "           bTau\n",
       "probe          \n",
       "Ctrl   0.131293\n",
       "p07    0.596620\n",
       "p09    0.635982\n",
       "p12    0.610633\n",
       "p15    0.487021\n",
       "p18    0.533589\n",
       "p21    0.634888\n",
       "p25    0.632750\n",
       "p27    0.700225\n",
       "p28    0.735267\n",
       "p35    0.651082\n",
       "p36    0.631009"
      ]
     },
     "execution_count": 23,
     "metadata": {},
     "output_type": "execute_result"
    }
   ],
   "source": [
    "coloc.groupby('probe').aggregate({'bTau' : 'mean'})"
   ]
  },
  {
   "cell_type": "code",
   "execution_count": 24,
   "metadata": {},
   "outputs": [],
   "source": [
    "df = coloc"
   ]
  },
  {
   "cell_type": "code",
   "execution_count": 25,
   "metadata": {},
   "outputs": [
    {
     "data": {
      "text/html": [
       "<div>\n",
       "<style scoped>\n",
       "    .dataframe tbody tr th:only-of-type {\n",
       "        vertical-align: middle;\n",
       "    }\n",
       "\n",
       "    .dataframe tbody tr th {\n",
       "        vertical-align: top;\n",
       "    }\n",
       "\n",
       "    .dataframe thead th {\n",
       "        text-align: right;\n",
       "    }\n",
       "</style>\n",
       "<table border=\"1\" class=\"dataframe\">\n",
       "  <thead>\n",
       "    <tr style=\"text-align: right;\">\n",
       "      <th></th>\n",
       "      <th>probe</th>\n",
       "      <th>Rval</th>\n",
       "      <th>tM1</th>\n",
       "      <th>tM2</th>\n",
       "      <th>bTau</th>\n",
       "      <th>Rs</th>\n",
       "    </tr>\n",
       "  </thead>\n",
       "  <tbody>\n",
       "    <tr>\n",
       "      <th>0</th>\n",
       "      <td>p07</td>\n",
       "      <td>0.68</td>\n",
       "      <td>0.899</td>\n",
       "      <td>0.936</td>\n",
       "      <td>0.6028</td>\n",
       "      <td>0.776807</td>\n",
       "    </tr>\n",
       "    <tr>\n",
       "      <th>1</th>\n",
       "      <td>p07</td>\n",
       "      <td>0.89</td>\n",
       "      <td>0.975</td>\n",
       "      <td>1.000</td>\n",
       "      <td>0.7802</td>\n",
       "      <td>0.914970</td>\n",
       "    </tr>\n",
       "    <tr>\n",
       "      <th>2</th>\n",
       "      <td>p07</td>\n",
       "      <td>0.74</td>\n",
       "      <td>0.922</td>\n",
       "      <td>0.867</td>\n",
       "      <td>0.7680</td>\n",
       "      <td>0.912862</td>\n",
       "    </tr>\n",
       "    <tr>\n",
       "      <th>3</th>\n",
       "      <td>p07</td>\n",
       "      <td>0.69</td>\n",
       "      <td>0.886</td>\n",
       "      <td>0.889</td>\n",
       "      <td>0.5560</td>\n",
       "      <td>0.731622</td>\n",
       "    </tr>\n",
       "    <tr>\n",
       "      <th>4</th>\n",
       "      <td>p07</td>\n",
       "      <td>0.54</td>\n",
       "      <td>0.870</td>\n",
       "      <td>0.876</td>\n",
       "      <td>0.4581</td>\n",
       "      <td>0.625792</td>\n",
       "    </tr>\n",
       "    <tr>\n",
       "      <th>...</th>\n",
       "      <td>...</td>\n",
       "      <td>...</td>\n",
       "      <td>...</td>\n",
       "      <td>...</td>\n",
       "      <td>...</td>\n",
       "      <td>...</td>\n",
       "    </tr>\n",
       "    <tr>\n",
       "      <th>126</th>\n",
       "      <td>Ctrl</td>\n",
       "      <td>-0.34</td>\n",
       "      <td>0.376</td>\n",
       "      <td>0.235</td>\n",
       "      <td>0.1925</td>\n",
       "      <td>0.245767</td>\n",
       "    </tr>\n",
       "    <tr>\n",
       "      <th>127</th>\n",
       "      <td>Ctrl</td>\n",
       "      <td>-0.22</td>\n",
       "      <td>0.367</td>\n",
       "      <td>0.255</td>\n",
       "      <td>0.2342</td>\n",
       "      <td>0.295750</td>\n",
       "    </tr>\n",
       "    <tr>\n",
       "      <th>128</th>\n",
       "      <td>Ctrl</td>\n",
       "      <td>-0.28</td>\n",
       "      <td>0.325</td>\n",
       "      <td>0.232</td>\n",
       "      <td>0.2272</td>\n",
       "      <td>0.278124</td>\n",
       "    </tr>\n",
       "    <tr>\n",
       "      <th>129</th>\n",
       "      <td>Ctrl</td>\n",
       "      <td>-0.31</td>\n",
       "      <td>0.333</td>\n",
       "      <td>0.252</td>\n",
       "      <td>0.2239</td>\n",
       "      <td>0.278861</td>\n",
       "    </tr>\n",
       "    <tr>\n",
       "      <th>130</th>\n",
       "      <td>Ctrl</td>\n",
       "      <td>-0.42</td>\n",
       "      <td>0.359</td>\n",
       "      <td>0.149</td>\n",
       "      <td>0.1168</td>\n",
       "      <td>0.150552</td>\n",
       "    </tr>\n",
       "  </tbody>\n",
       "</table>\n",
       "<p>131 rows × 6 columns</p>\n",
       "</div>"
      ],
      "text/plain": [
       "    probe  Rval    tM1    tM2    bTau        Rs\n",
       "0     p07  0.68  0.899  0.936  0.6028  0.776807\n",
       "1     p07  0.89  0.975  1.000  0.7802  0.914970\n",
       "2     p07  0.74  0.922  0.867  0.7680  0.912862\n",
       "3     p07  0.69  0.886  0.889  0.5560  0.731622\n",
       "4     p07  0.54  0.870  0.876  0.4581  0.625792\n",
       "..    ...   ...    ...    ...     ...       ...\n",
       "126  Ctrl -0.34  0.376  0.235  0.1925  0.245767\n",
       "127  Ctrl -0.22  0.367  0.255  0.2342  0.295750\n",
       "128  Ctrl -0.28  0.325  0.232  0.2272  0.278124\n",
       "129  Ctrl -0.31  0.333  0.252  0.2239  0.278861\n",
       "130  Ctrl -0.42  0.359  0.149  0.1168  0.150552\n",
       "\n",
       "[131 rows x 6 columns]"
      ]
     },
     "execution_count": 25,
     "metadata": {},
     "output_type": "execute_result"
    }
   ],
   "source": [
    "df"
   ]
  },
  {
   "cell_type": "code",
   "execution_count": 26,
   "metadata": {
    "jupyter": {
     "source_hidden": true
    }
   },
   "outputs": [
    {
     "data": {
      "text/html": [
       "<div>\n",
       "<style scoped>\n",
       "    .dataframe tbody tr th:only-of-type {\n",
       "        vertical-align: middle;\n",
       "    }\n",
       "\n",
       "    .dataframe tbody tr th {\n",
       "        vertical-align: top;\n",
       "    }\n",
       "\n",
       "    .dataframe thead th {\n",
       "        text-align: right;\n",
       "    }\n",
       "</style>\n",
       "<table border=\"1\" class=\"dataframe\">\n",
       "  <thead>\n",
       "    <tr style=\"text-align: right;\">\n",
       "      <th></th>\n",
       "      <th>probe</th>\n",
       "      <th>Rval</th>\n",
       "      <th>tM1</th>\n",
       "      <th>tM2</th>\n",
       "      <th>bTau</th>\n",
       "      <th>Rs</th>\n",
       "    </tr>\n",
       "  </thead>\n",
       "  <tbody>\n",
       "    <tr>\n",
       "      <th>0</th>\n",
       "      <td>p07</td>\n",
       "      <td>0.68</td>\n",
       "      <td>0.899</td>\n",
       "      <td>0.936</td>\n",
       "      <td>0.6028</td>\n",
       "      <td>0.776807</td>\n",
       "    </tr>\n",
       "    <tr>\n",
       "      <th>1</th>\n",
       "      <td>p07</td>\n",
       "      <td>0.89</td>\n",
       "      <td>0.975</td>\n",
       "      <td>1.000</td>\n",
       "      <td>0.7802</td>\n",
       "      <td>0.914970</td>\n",
       "    </tr>\n",
       "    <tr>\n",
       "      <th>2</th>\n",
       "      <td>p07</td>\n",
       "      <td>0.74</td>\n",
       "      <td>0.922</td>\n",
       "      <td>0.867</td>\n",
       "      <td>0.7680</td>\n",
       "      <td>0.912862</td>\n",
       "    </tr>\n",
       "    <tr>\n",
       "      <th>3</th>\n",
       "      <td>p07</td>\n",
       "      <td>0.69</td>\n",
       "      <td>0.886</td>\n",
       "      <td>0.889</td>\n",
       "      <td>0.5560</td>\n",
       "      <td>0.731622</td>\n",
       "    </tr>\n",
       "    <tr>\n",
       "      <th>4</th>\n",
       "      <td>p07</td>\n",
       "      <td>0.54</td>\n",
       "      <td>0.870</td>\n",
       "      <td>0.876</td>\n",
       "      <td>0.4581</td>\n",
       "      <td>0.625792</td>\n",
       "    </tr>\n",
       "  </tbody>\n",
       "</table>\n",
       "</div>"
      ],
      "text/plain": [
       "  probe  Rval    tM1    tM2    bTau        Rs\n",
       "0   p07  0.68  0.899  0.936  0.6028  0.776807\n",
       "1   p07  0.89  0.975  1.000  0.7802  0.914970\n",
       "2   p07  0.74  0.922  0.867  0.7680  0.912862\n",
       "3   p07  0.69  0.886  0.889  0.5560  0.731622\n",
       "4   p07  0.54  0.870  0.876  0.4581  0.625792"
      ]
     },
     "execution_count": 26,
     "metadata": {},
     "output_type": "execute_result"
    }
   ],
   "source": [
    "df.head()"
   ]
  },
  {
   "cell_type": "code",
   "execution_count": 27,
   "metadata": {},
   "outputs": [],
   "source": [
    "# https://github.com/maximtrp/scikit-posthocs"
   ]
  },
  {
   "cell_type": "code",
   "execution_count": 28,
   "metadata": {},
   "outputs": [
    {
     "name": "stdout",
     "output_type": "stream",
     "text": [
      "             df    sum_sq   mean_sq          F        PR(>F)\n",
      "C(probe)   11.0  3.649827  0.331802  32.115602  1.508600e-30\n",
      "Residual  119.0  1.229449  0.010332        NaN           NaN\n"
     ]
    }
   ],
   "source": [
    "lm = sfa.ols('bTau ~ C(probe)', data=df).fit()\n",
    "anova = sa.stats.anova_lm(lm)\n",
    "print(anova)"
   ]
  },
  {
   "cell_type": "code",
   "execution_count": 29,
   "metadata": {},
   "outputs": [
    {
     "data": {
      "text/html": [
       "<div>\n",
       "<style scoped>\n",
       "    .dataframe tbody tr th:only-of-type {\n",
       "        vertical-align: middle;\n",
       "    }\n",
       "\n",
       "    .dataframe tbody tr th {\n",
       "        vertical-align: top;\n",
       "    }\n",
       "\n",
       "    .dataframe thead th {\n",
       "        text-align: right;\n",
       "    }\n",
       "</style>\n",
       "<table border=\"1\" class=\"dataframe\">\n",
       "  <thead>\n",
       "    <tr style=\"text-align: right;\">\n",
       "      <th></th>\n",
       "      <th>p07</th>\n",
       "      <th>p09</th>\n",
       "      <th>p12</th>\n",
       "      <th>p15</th>\n",
       "      <th>p18</th>\n",
       "      <th>p21</th>\n",
       "      <th>p25</th>\n",
       "      <th>p27</th>\n",
       "      <th>p28</th>\n",
       "      <th>p35</th>\n",
       "      <th>p36</th>\n",
       "      <th>Ctrl</th>\n",
       "    </tr>\n",
       "  </thead>\n",
       "  <tbody>\n",
       "    <tr>\n",
       "      <th>p07</th>\n",
       "      <td>-1.000000e+00</td>\n",
       "      <td>1.000000e+00</td>\n",
       "      <td>1.000000e+00</td>\n",
       "      <td>1.000000e+00</td>\n",
       "      <td>1.000000e+00</td>\n",
       "      <td>1.000000e+00</td>\n",
       "      <td>1.000000e+00</td>\n",
       "      <td>1.000000e+00</td>\n",
       "      <td>1.000000e+00</td>\n",
       "      <td>1.000000e+00</td>\n",
       "      <td>1.000000e+00</td>\n",
       "      <td>4.554500e-08</td>\n",
       "    </tr>\n",
       "    <tr>\n",
       "      <th>p09</th>\n",
       "      <td>1.000000e+00</td>\n",
       "      <td>-1.000000e+00</td>\n",
       "      <td>1.000000e+00</td>\n",
       "      <td>5.070327e-01</td>\n",
       "      <td>1.000000e+00</td>\n",
       "      <td>1.000000e+00</td>\n",
       "      <td>1.000000e+00</td>\n",
       "      <td>1.000000e+00</td>\n",
       "      <td>1.000000e+00</td>\n",
       "      <td>1.000000e+00</td>\n",
       "      <td>1.000000e+00</td>\n",
       "      <td>3.674814e-10</td>\n",
       "    </tr>\n",
       "    <tr>\n",
       "      <th>p12</th>\n",
       "      <td>1.000000e+00</td>\n",
       "      <td>1.000000e+00</td>\n",
       "      <td>-1.000000e+00</td>\n",
       "      <td>1.000000e+00</td>\n",
       "      <td>1.000000e+00</td>\n",
       "      <td>1.000000e+00</td>\n",
       "      <td>1.000000e+00</td>\n",
       "      <td>1.000000e+00</td>\n",
       "      <td>7.923967e-01</td>\n",
       "      <td>1.000000e+00</td>\n",
       "      <td>1.000000e+00</td>\n",
       "      <td>6.388356e-10</td>\n",
       "    </tr>\n",
       "    <tr>\n",
       "      <th>p15</th>\n",
       "      <td>1.000000e+00</td>\n",
       "      <td>5.070327e-01</td>\n",
       "      <td>1.000000e+00</td>\n",
       "      <td>-1.000000e+00</td>\n",
       "      <td>1.000000e+00</td>\n",
       "      <td>5.265326e-02</td>\n",
       "      <td>7.089121e-01</td>\n",
       "      <td>4.154206e-02</td>\n",
       "      <td>7.808905e-03</td>\n",
       "      <td>6.122394e-02</td>\n",
       "      <td>3.426572e-01</td>\n",
       "      <td>2.043842e-07</td>\n",
       "    </tr>\n",
       "    <tr>\n",
       "      <th>p18</th>\n",
       "      <td>1.000000e+00</td>\n",
       "      <td>1.000000e+00</td>\n",
       "      <td>1.000000e+00</td>\n",
       "      <td>1.000000e+00</td>\n",
       "      <td>-1.000000e+00</td>\n",
       "      <td>1.138547e-01</td>\n",
       "      <td>7.844432e-01</td>\n",
       "      <td>9.766740e-03</td>\n",
       "      <td>4.133902e-03</td>\n",
       "      <td>9.814800e-03</td>\n",
       "      <td>6.014978e-01</td>\n",
       "      <td>3.135435e-10</td>\n",
       "    </tr>\n",
       "    <tr>\n",
       "      <th>p21</th>\n",
       "      <td>1.000000e+00</td>\n",
       "      <td>1.000000e+00</td>\n",
       "      <td>1.000000e+00</td>\n",
       "      <td>5.265326e-02</td>\n",
       "      <td>1.138547e-01</td>\n",
       "      <td>-1.000000e+00</td>\n",
       "      <td>1.000000e+00</td>\n",
       "      <td>1.000000e+00</td>\n",
       "      <td>4.851741e-01</td>\n",
       "      <td>1.000000e+00</td>\n",
       "      <td>1.000000e+00</td>\n",
       "      <td>2.491994e-15</td>\n",
       "    </tr>\n",
       "    <tr>\n",
       "      <th>p25</th>\n",
       "      <td>1.000000e+00</td>\n",
       "      <td>1.000000e+00</td>\n",
       "      <td>1.000000e+00</td>\n",
       "      <td>7.089121e-01</td>\n",
       "      <td>7.844432e-01</td>\n",
       "      <td>1.000000e+00</td>\n",
       "      <td>-1.000000e+00</td>\n",
       "      <td>1.000000e+00</td>\n",
       "      <td>1.000000e+00</td>\n",
       "      <td>1.000000e+00</td>\n",
       "      <td>1.000000e+00</td>\n",
       "      <td>5.329109e-10</td>\n",
       "    </tr>\n",
       "    <tr>\n",
       "      <th>p27</th>\n",
       "      <td>1.000000e+00</td>\n",
       "      <td>1.000000e+00</td>\n",
       "      <td>1.000000e+00</td>\n",
       "      <td>4.154206e-02</td>\n",
       "      <td>9.766740e-03</td>\n",
       "      <td>1.000000e+00</td>\n",
       "      <td>1.000000e+00</td>\n",
       "      <td>-1.000000e+00</td>\n",
       "      <td>1.000000e+00</td>\n",
       "      <td>1.000000e+00</td>\n",
       "      <td>1.000000e+00</td>\n",
       "      <td>1.592892e-11</td>\n",
       "    </tr>\n",
       "    <tr>\n",
       "      <th>p28</th>\n",
       "      <td>1.000000e+00</td>\n",
       "      <td>1.000000e+00</td>\n",
       "      <td>7.923967e-01</td>\n",
       "      <td>7.808905e-03</td>\n",
       "      <td>4.133902e-03</td>\n",
       "      <td>4.851741e-01</td>\n",
       "      <td>1.000000e+00</td>\n",
       "      <td>1.000000e+00</td>\n",
       "      <td>-1.000000e+00</td>\n",
       "      <td>1.000000e+00</td>\n",
       "      <td>1.000000e+00</td>\n",
       "      <td>5.306389e-12</td>\n",
       "    </tr>\n",
       "    <tr>\n",
       "      <th>p35</th>\n",
       "      <td>1.000000e+00</td>\n",
       "      <td>1.000000e+00</td>\n",
       "      <td>1.000000e+00</td>\n",
       "      <td>6.122394e-02</td>\n",
       "      <td>9.814800e-03</td>\n",
       "      <td>1.000000e+00</td>\n",
       "      <td>1.000000e+00</td>\n",
       "      <td>1.000000e+00</td>\n",
       "      <td>1.000000e+00</td>\n",
       "      <td>-1.000000e+00</td>\n",
       "      <td>1.000000e+00</td>\n",
       "      <td>6.298053e-14</td>\n",
       "    </tr>\n",
       "    <tr>\n",
       "      <th>p36</th>\n",
       "      <td>1.000000e+00</td>\n",
       "      <td>1.000000e+00</td>\n",
       "      <td>1.000000e+00</td>\n",
       "      <td>3.426572e-01</td>\n",
       "      <td>6.014978e-01</td>\n",
       "      <td>1.000000e+00</td>\n",
       "      <td>1.000000e+00</td>\n",
       "      <td>1.000000e+00</td>\n",
       "      <td>1.000000e+00</td>\n",
       "      <td>1.000000e+00</td>\n",
       "      <td>-1.000000e+00</td>\n",
       "      <td>1.087618e-11</td>\n",
       "    </tr>\n",
       "    <tr>\n",
       "      <th>Ctrl</th>\n",
       "      <td>4.554500e-08</td>\n",
       "      <td>3.674814e-10</td>\n",
       "      <td>6.388356e-10</td>\n",
       "      <td>2.043842e-07</td>\n",
       "      <td>3.135435e-10</td>\n",
       "      <td>2.491994e-15</td>\n",
       "      <td>5.329109e-10</td>\n",
       "      <td>1.592892e-11</td>\n",
       "      <td>5.306389e-12</td>\n",
       "      <td>6.298053e-14</td>\n",
       "      <td>1.087618e-11</td>\n",
       "      <td>-1.000000e+00</td>\n",
       "    </tr>\n",
       "  </tbody>\n",
       "</table>\n",
       "</div>"
      ],
      "text/plain": [
       "               p07           p09           p12           p15           p18  \\\n",
       "p07  -1.000000e+00  1.000000e+00  1.000000e+00  1.000000e+00  1.000000e+00   \n",
       "p09   1.000000e+00 -1.000000e+00  1.000000e+00  5.070327e-01  1.000000e+00   \n",
       "p12   1.000000e+00  1.000000e+00 -1.000000e+00  1.000000e+00  1.000000e+00   \n",
       "p15   1.000000e+00  5.070327e-01  1.000000e+00 -1.000000e+00  1.000000e+00   \n",
       "p18   1.000000e+00  1.000000e+00  1.000000e+00  1.000000e+00 -1.000000e+00   \n",
       "p21   1.000000e+00  1.000000e+00  1.000000e+00  5.265326e-02  1.138547e-01   \n",
       "p25   1.000000e+00  1.000000e+00  1.000000e+00  7.089121e-01  7.844432e-01   \n",
       "p27   1.000000e+00  1.000000e+00  1.000000e+00  4.154206e-02  9.766740e-03   \n",
       "p28   1.000000e+00  1.000000e+00  7.923967e-01  7.808905e-03  4.133902e-03   \n",
       "p35   1.000000e+00  1.000000e+00  1.000000e+00  6.122394e-02  9.814800e-03   \n",
       "p36   1.000000e+00  1.000000e+00  1.000000e+00  3.426572e-01  6.014978e-01   \n",
       "Ctrl  4.554500e-08  3.674814e-10  6.388356e-10  2.043842e-07  3.135435e-10   \n",
       "\n",
       "               p21           p25           p27           p28           p35  \\\n",
       "p07   1.000000e+00  1.000000e+00  1.000000e+00  1.000000e+00  1.000000e+00   \n",
       "p09   1.000000e+00  1.000000e+00  1.000000e+00  1.000000e+00  1.000000e+00   \n",
       "p12   1.000000e+00  1.000000e+00  1.000000e+00  7.923967e-01  1.000000e+00   \n",
       "p15   5.265326e-02  7.089121e-01  4.154206e-02  7.808905e-03  6.122394e-02   \n",
       "p18   1.138547e-01  7.844432e-01  9.766740e-03  4.133902e-03  9.814800e-03   \n",
       "p21  -1.000000e+00  1.000000e+00  1.000000e+00  4.851741e-01  1.000000e+00   \n",
       "p25   1.000000e+00 -1.000000e+00  1.000000e+00  1.000000e+00  1.000000e+00   \n",
       "p27   1.000000e+00  1.000000e+00 -1.000000e+00  1.000000e+00  1.000000e+00   \n",
       "p28   4.851741e-01  1.000000e+00  1.000000e+00 -1.000000e+00  1.000000e+00   \n",
       "p35   1.000000e+00  1.000000e+00  1.000000e+00  1.000000e+00 -1.000000e+00   \n",
       "p36   1.000000e+00  1.000000e+00  1.000000e+00  1.000000e+00  1.000000e+00   \n",
       "Ctrl  2.491994e-15  5.329109e-10  1.592892e-11  5.306389e-12  6.298053e-14   \n",
       "\n",
       "               p36          Ctrl  \n",
       "p07   1.000000e+00  4.554500e-08  \n",
       "p09   1.000000e+00  3.674814e-10  \n",
       "p12   1.000000e+00  6.388356e-10  \n",
       "p15   3.426572e-01  2.043842e-07  \n",
       "p18   6.014978e-01  3.135435e-10  \n",
       "p21   1.000000e+00  2.491994e-15  \n",
       "p25   1.000000e+00  5.329109e-10  \n",
       "p27   1.000000e+00  1.592892e-11  \n",
       "p28   1.000000e+00  5.306389e-12  \n",
       "p35   1.000000e+00  6.298053e-14  \n",
       "p36  -1.000000e+00  1.087618e-11  \n",
       "Ctrl  1.087618e-11 -1.000000e+00  "
      ]
     },
     "execution_count": 29,
     "metadata": {},
     "output_type": "execute_result"
    }
   ],
   "source": [
    "sp.posthoc_ttest(df, val_col='bTau', group_col='probe', p_adjust='holm')"
   ]
  },
  {
   "cell_type": "code",
   "execution_count": 30,
   "metadata": {},
   "outputs": [
    {
     "data": {
      "text/plain": [
       "5.132684443193424e-10"
      ]
     },
     "execution_count": 30,
     "metadata": {},
     "output_type": "execute_result"
    }
   ],
   "source": [
    "data = [df.loc[ids, 'bTau'].values for ids in df.groupby('probe').groups.values()]\n",
    "H, p = ss.kruskal(*data)\n",
    "p"
   ]
  },
  {
   "cell_type": "code",
   "execution_count": 31,
   "metadata": {},
   "outputs": [
    {
     "data": {
      "text/html": [
       "<div>\n",
       "<style scoped>\n",
       "    .dataframe tbody tr th:only-of-type {\n",
       "        vertical-align: middle;\n",
       "    }\n",
       "\n",
       "    .dataframe tbody tr th {\n",
       "        vertical-align: top;\n",
       "    }\n",
       "\n",
       "    .dataframe thead th {\n",
       "        text-align: right;\n",
       "    }\n",
       "</style>\n",
       "<table border=\"1\" class=\"dataframe\">\n",
       "  <thead>\n",
       "    <tr style=\"text-align: right;\">\n",
       "      <th></th>\n",
       "      <th>Ctrl</th>\n",
       "      <th>p07</th>\n",
       "      <th>p09</th>\n",
       "      <th>p12</th>\n",
       "      <th>p15</th>\n",
       "      <th>p18</th>\n",
       "      <th>p21</th>\n",
       "      <th>p25</th>\n",
       "      <th>p27</th>\n",
       "      <th>p28</th>\n",
       "      <th>p35</th>\n",
       "      <th>p36</th>\n",
       "    </tr>\n",
       "  </thead>\n",
       "  <tbody>\n",
       "    <tr>\n",
       "      <th>Ctrl</th>\n",
       "      <td>-1.000000e+00</td>\n",
       "      <td>0.000013</td>\n",
       "      <td>9.731104e-08</td>\n",
       "      <td>0.000014</td>\n",
       "      <td>0.071783</td>\n",
       "      <td>0.191507</td>\n",
       "      <td>1.472370e-08</td>\n",
       "      <td>0.000003</td>\n",
       "      <td>1.792998e-09</td>\n",
       "      <td>5.932340e-12</td>\n",
       "      <td>4.453700e-08</td>\n",
       "      <td>6.318651e-07</td>\n",
       "    </tr>\n",
       "    <tr>\n",
       "      <th>p07</th>\n",
       "      <td>1.264876e-05</td>\n",
       "      <td>-1.000000</td>\n",
       "      <td>1.000000e+00</td>\n",
       "      <td>1.000000</td>\n",
       "      <td>0.509713</td>\n",
       "      <td>0.951170</td>\n",
       "      <td>1.000000e+00</td>\n",
       "      <td>1.000000</td>\n",
       "      <td>1.000000e+00</td>\n",
       "      <td>2.214296e-01</td>\n",
       "      <td>1.000000e+00</td>\n",
       "      <td>1.000000e+00</td>\n",
       "    </tr>\n",
       "    <tr>\n",
       "      <th>p09</th>\n",
       "      <td>9.731104e-08</td>\n",
       "      <td>1.000000</td>\n",
       "      <td>-1.000000e+00</td>\n",
       "      <td>1.000000</td>\n",
       "      <td>0.041109</td>\n",
       "      <td>0.133043</td>\n",
       "      <td>1.000000e+00</td>\n",
       "      <td>1.000000</td>\n",
       "      <td>1.000000e+00</td>\n",
       "      <td>1.000000e+00</td>\n",
       "      <td>1.000000e+00</td>\n",
       "      <td>1.000000e+00</td>\n",
       "    </tr>\n",
       "    <tr>\n",
       "      <th>p12</th>\n",
       "      <td>1.394336e-05</td>\n",
       "      <td>1.000000</td>\n",
       "      <td>1.000000e+00</td>\n",
       "      <td>-1.000000</td>\n",
       "      <td>0.448919</td>\n",
       "      <td>0.814146</td>\n",
       "      <td>1.000000e+00</td>\n",
       "      <td>1.000000</td>\n",
       "      <td>1.000000e+00</td>\n",
       "      <td>3.679101e-01</td>\n",
       "      <td>1.000000e+00</td>\n",
       "      <td>1.000000e+00</td>\n",
       "    </tr>\n",
       "    <tr>\n",
       "      <th>p15</th>\n",
       "      <td>7.178310e-02</td>\n",
       "      <td>0.509713</td>\n",
       "      <td>4.110871e-02</td>\n",
       "      <td>0.448919</td>\n",
       "      <td>-1.000000</td>\n",
       "      <td>1.000000</td>\n",
       "      <td>3.491111e-02</td>\n",
       "      <td>0.133043</td>\n",
       "      <td>8.020259e-04</td>\n",
       "      <td>1.350782e-05</td>\n",
       "      <td>2.484472e-02</td>\n",
       "      <td>1.330433e-01</td>\n",
       "    </tr>\n",
       "    <tr>\n",
       "      <th>p18</th>\n",
       "      <td>1.915067e-01</td>\n",
       "      <td>0.951170</td>\n",
       "      <td>1.330433e-01</td>\n",
       "      <td>0.814146</td>\n",
       "      <td>1.000000</td>\n",
       "      <td>-1.000000</td>\n",
       "      <td>1.330433e-01</td>\n",
       "      <td>0.288956</td>\n",
       "      <td>4.129086e-03</td>\n",
       "      <td>1.403985e-04</td>\n",
       "      <td>8.733786e-02</td>\n",
       "      <td>3.161453e-01</td>\n",
       "    </tr>\n",
       "    <tr>\n",
       "      <th>p21</th>\n",
       "      <td>1.472370e-08</td>\n",
       "      <td>1.000000</td>\n",
       "      <td>1.000000e+00</td>\n",
       "      <td>1.000000</td>\n",
       "      <td>0.034911</td>\n",
       "      <td>0.133043</td>\n",
       "      <td>-1.000000e+00</td>\n",
       "      <td>1.000000</td>\n",
       "      <td>1.000000e+00</td>\n",
       "      <td>4.489192e-01</td>\n",
       "      <td>1.000000e+00</td>\n",
       "      <td>1.000000e+00</td>\n",
       "    </tr>\n",
       "    <tr>\n",
       "      <th>p25</th>\n",
       "      <td>2.619791e-06</td>\n",
       "      <td>1.000000</td>\n",
       "      <td>1.000000e+00</td>\n",
       "      <td>1.000000</td>\n",
       "      <td>0.133043</td>\n",
       "      <td>0.288956</td>\n",
       "      <td>1.000000e+00</td>\n",
       "      <td>-1.000000</td>\n",
       "      <td>1.000000e+00</td>\n",
       "      <td>1.000000e+00</td>\n",
       "      <td>1.000000e+00</td>\n",
       "      <td>1.000000e+00</td>\n",
       "    </tr>\n",
       "    <tr>\n",
       "      <th>p27</th>\n",
       "      <td>1.792998e-09</td>\n",
       "      <td>1.000000</td>\n",
       "      <td>1.000000e+00</td>\n",
       "      <td>1.000000</td>\n",
       "      <td>0.000802</td>\n",
       "      <td>0.004129</td>\n",
       "      <td>1.000000e+00</td>\n",
       "      <td>1.000000</td>\n",
       "      <td>-1.000000e+00</td>\n",
       "      <td>1.000000e+00</td>\n",
       "      <td>1.000000e+00</td>\n",
       "      <td>1.000000e+00</td>\n",
       "    </tr>\n",
       "    <tr>\n",
       "      <th>p28</th>\n",
       "      <td>5.932340e-12</td>\n",
       "      <td>0.221430</td>\n",
       "      <td>1.000000e+00</td>\n",
       "      <td>0.367910</td>\n",
       "      <td>0.000014</td>\n",
       "      <td>0.000140</td>\n",
       "      <td>4.489192e-01</td>\n",
       "      <td>1.000000</td>\n",
       "      <td>1.000000e+00</td>\n",
       "      <td>-1.000000e+00</td>\n",
       "      <td>1.000000e+00</td>\n",
       "      <td>5.267502e-01</td>\n",
       "    </tr>\n",
       "    <tr>\n",
       "      <th>p35</th>\n",
       "      <td>4.453700e-08</td>\n",
       "      <td>1.000000</td>\n",
       "      <td>1.000000e+00</td>\n",
       "      <td>1.000000</td>\n",
       "      <td>0.024845</td>\n",
       "      <td>0.087338</td>\n",
       "      <td>1.000000e+00</td>\n",
       "      <td>1.000000</td>\n",
       "      <td>1.000000e+00</td>\n",
       "      <td>1.000000e+00</td>\n",
       "      <td>-1.000000e+00</td>\n",
       "      <td>1.000000e+00</td>\n",
       "    </tr>\n",
       "    <tr>\n",
       "      <th>p36</th>\n",
       "      <td>6.318651e-07</td>\n",
       "      <td>1.000000</td>\n",
       "      <td>1.000000e+00</td>\n",
       "      <td>1.000000</td>\n",
       "      <td>0.133043</td>\n",
       "      <td>0.316145</td>\n",
       "      <td>1.000000e+00</td>\n",
       "      <td>1.000000</td>\n",
       "      <td>1.000000e+00</td>\n",
       "      <td>5.267502e-01</td>\n",
       "      <td>1.000000e+00</td>\n",
       "      <td>-1.000000e+00</td>\n",
       "    </tr>\n",
       "  </tbody>\n",
       "</table>\n",
       "</div>"
      ],
      "text/plain": [
       "              Ctrl       p07           p09       p12       p15       p18  \\\n",
       "Ctrl -1.000000e+00  0.000013  9.731104e-08  0.000014  0.071783  0.191507   \n",
       "p07   1.264876e-05 -1.000000  1.000000e+00  1.000000  0.509713  0.951170   \n",
       "p09   9.731104e-08  1.000000 -1.000000e+00  1.000000  0.041109  0.133043   \n",
       "p12   1.394336e-05  1.000000  1.000000e+00 -1.000000  0.448919  0.814146   \n",
       "p15   7.178310e-02  0.509713  4.110871e-02  0.448919 -1.000000  1.000000   \n",
       "p18   1.915067e-01  0.951170  1.330433e-01  0.814146  1.000000 -1.000000   \n",
       "p21   1.472370e-08  1.000000  1.000000e+00  1.000000  0.034911  0.133043   \n",
       "p25   2.619791e-06  1.000000  1.000000e+00  1.000000  0.133043  0.288956   \n",
       "p27   1.792998e-09  1.000000  1.000000e+00  1.000000  0.000802  0.004129   \n",
       "p28   5.932340e-12  0.221430  1.000000e+00  0.367910  0.000014  0.000140   \n",
       "p35   4.453700e-08  1.000000  1.000000e+00  1.000000  0.024845  0.087338   \n",
       "p36   6.318651e-07  1.000000  1.000000e+00  1.000000  0.133043  0.316145   \n",
       "\n",
       "               p21       p25           p27           p28           p35  \\\n",
       "Ctrl  1.472370e-08  0.000003  1.792998e-09  5.932340e-12  4.453700e-08   \n",
       "p07   1.000000e+00  1.000000  1.000000e+00  2.214296e-01  1.000000e+00   \n",
       "p09   1.000000e+00  1.000000  1.000000e+00  1.000000e+00  1.000000e+00   \n",
       "p12   1.000000e+00  1.000000  1.000000e+00  3.679101e-01  1.000000e+00   \n",
       "p15   3.491111e-02  0.133043  8.020259e-04  1.350782e-05  2.484472e-02   \n",
       "p18   1.330433e-01  0.288956  4.129086e-03  1.403985e-04  8.733786e-02   \n",
       "p21  -1.000000e+00  1.000000  1.000000e+00  4.489192e-01  1.000000e+00   \n",
       "p25   1.000000e+00 -1.000000  1.000000e+00  1.000000e+00  1.000000e+00   \n",
       "p27   1.000000e+00  1.000000 -1.000000e+00  1.000000e+00  1.000000e+00   \n",
       "p28   4.489192e-01  1.000000  1.000000e+00 -1.000000e+00  1.000000e+00   \n",
       "p35   1.000000e+00  1.000000  1.000000e+00  1.000000e+00 -1.000000e+00   \n",
       "p36   1.000000e+00  1.000000  1.000000e+00  5.267502e-01  1.000000e+00   \n",
       "\n",
       "               p36  \n",
       "Ctrl  6.318651e-07  \n",
       "p07   1.000000e+00  \n",
       "p09   1.000000e+00  \n",
       "p12   1.000000e+00  \n",
       "p15   1.330433e-01  \n",
       "p18   3.161453e-01  \n",
       "p21   1.000000e+00  \n",
       "p25   1.000000e+00  \n",
       "p27   1.000000e+00  \n",
       "p28   5.267502e-01  \n",
       "p35   1.000000e+00  \n",
       "p36  -1.000000e+00  "
      ]
     },
     "execution_count": 31,
     "metadata": {},
     "output_type": "execute_result"
    }
   ],
   "source": [
    "sp.posthoc_conover(df, val_col='bTau', group_col='probe', p_adjust = 'holm')"
   ]
  },
  {
   "cell_type": "code",
   "execution_count": 32,
   "metadata": {},
   "outputs": [
    {
     "data": {
      "text/html": [
       "<div>\n",
       "<style scoped>\n",
       "    .dataframe tbody tr th:only-of-type {\n",
       "        vertical-align: middle;\n",
       "    }\n",
       "\n",
       "    .dataframe tbody tr th {\n",
       "        vertical-align: top;\n",
       "    }\n",
       "\n",
       "    .dataframe thead th {\n",
       "        text-align: right;\n",
       "    }\n",
       "</style>\n",
       "<table border=\"1\" class=\"dataframe\">\n",
       "  <thead>\n",
       "    <tr style=\"text-align: right;\">\n",
       "      <th></th>\n",
       "      <th>Ctrl</th>\n",
       "      <th>p07</th>\n",
       "      <th>p09</th>\n",
       "      <th>p12</th>\n",
       "      <th>p15</th>\n",
       "      <th>p18</th>\n",
       "      <th>p21</th>\n",
       "      <th>p25</th>\n",
       "      <th>p27</th>\n",
       "      <th>p28</th>\n",
       "      <th>p35</th>\n",
       "      <th>p36</th>\n",
       "    </tr>\n",
       "  </thead>\n",
       "  <tbody>\n",
       "    <tr>\n",
       "      <th>Ctrl</th>\n",
       "      <td>-1.000000e+00</td>\n",
       "      <td>0.000014</td>\n",
       "      <td>1.035892e-07</td>\n",
       "      <td>0.000016</td>\n",
       "      <td>0.094754</td>\n",
       "      <td>0.287260</td>\n",
       "      <td>1.518382e-08</td>\n",
       "      <td>0.000003</td>\n",
       "      <td>1.820583e-09</td>\n",
       "      <td>5.932340e-12</td>\n",
       "      <td>4.665781e-08</td>\n",
       "      <td>6.836573e-07</td>\n",
       "    </tr>\n",
       "    <tr>\n",
       "      <th>p07</th>\n",
       "      <td>1.414946e-05</td>\n",
       "      <td>-1.000000</td>\n",
       "      <td>1.000000e+00</td>\n",
       "      <td>1.000000</td>\n",
       "      <td>0.909218</td>\n",
       "      <td>1.000000</td>\n",
       "      <td>1.000000e+00</td>\n",
       "      <td>1.000000</td>\n",
       "      <td>1.000000e+00</td>\n",
       "      <td>3.398687e-01</td>\n",
       "      <td>1.000000e+00</td>\n",
       "      <td>1.000000e+00</td>\n",
       "    </tr>\n",
       "    <tr>\n",
       "      <th>p09</th>\n",
       "      <td>1.035892e-07</td>\n",
       "      <td>1.000000</td>\n",
       "      <td>-1.000000e+00</td>\n",
       "      <td>1.000000</td>\n",
       "      <td>0.053200</td>\n",
       "      <td>0.183971</td>\n",
       "      <td>1.000000e+00</td>\n",
       "      <td>1.000000</td>\n",
       "      <td>1.000000e+00</td>\n",
       "      <td>1.000000e+00</td>\n",
       "      <td>1.000000e+00</td>\n",
       "      <td>1.000000e+00</td>\n",
       "    </tr>\n",
       "    <tr>\n",
       "      <th>p12</th>\n",
       "      <td>1.614494e-05</td>\n",
       "      <td>1.000000</td>\n",
       "      <td>1.000000e+00</td>\n",
       "      <td>-1.000000</td>\n",
       "      <td>0.759709</td>\n",
       "      <td>1.000000</td>\n",
       "      <td>1.000000e+00</td>\n",
       "      <td>1.000000</td>\n",
       "      <td>1.000000e+00</td>\n",
       "      <td>6.070517e-01</td>\n",
       "      <td>1.000000e+00</td>\n",
       "      <td>1.000000e+00</td>\n",
       "    </tr>\n",
       "    <tr>\n",
       "      <th>p15</th>\n",
       "      <td>9.475369e-02</td>\n",
       "      <td>0.909218</td>\n",
       "      <td>5.319951e-02</td>\n",
       "      <td>0.759709</td>\n",
       "      <td>-1.000000</td>\n",
       "      <td>1.000000</td>\n",
       "      <td>4.431026e-02</td>\n",
       "      <td>0.189285</td>\n",
       "      <td>9.624310e-04</td>\n",
       "      <td>1.537096e-05</td>\n",
       "      <td>3.093871e-02</td>\n",
       "      <td>1.829346e-01</td>\n",
       "    </tr>\n",
       "    <tr>\n",
       "      <th>p18</th>\n",
       "      <td>2.872600e-01</td>\n",
       "      <td>1.000000</td>\n",
       "      <td>1.839709e-01</td>\n",
       "      <td>1.000000</td>\n",
       "      <td>1.000000</td>\n",
       "      <td>-1.000000</td>\n",
       "      <td>1.938454e-01</td>\n",
       "      <td>0.454074</td>\n",
       "      <td>5.046661e-03</td>\n",
       "      <td>1.654697e-04</td>\n",
       "      <td>1.176387e-01</td>\n",
       "      <td>5.089168e-01</td>\n",
       "    </tr>\n",
       "    <tr>\n",
       "      <th>p21</th>\n",
       "      <td>1.518382e-08</td>\n",
       "      <td>1.000000</td>\n",
       "      <td>1.000000e+00</td>\n",
       "      <td>1.000000</td>\n",
       "      <td>0.044310</td>\n",
       "      <td>0.193845</td>\n",
       "      <td>-1.000000e+00</td>\n",
       "      <td>1.000000</td>\n",
       "      <td>1.000000e+00</td>\n",
       "      <td>7.744118e-01</td>\n",
       "      <td>1.000000e+00</td>\n",
       "      <td>1.000000e+00</td>\n",
       "    </tr>\n",
       "    <tr>\n",
       "      <th>p25</th>\n",
       "      <td>2.881770e-06</td>\n",
       "      <td>1.000000</td>\n",
       "      <td>1.000000e+00</td>\n",
       "      <td>1.000000</td>\n",
       "      <td>0.189285</td>\n",
       "      <td>0.454074</td>\n",
       "      <td>1.000000e+00</td>\n",
       "      <td>-1.000000</td>\n",
       "      <td>1.000000e+00</td>\n",
       "      <td>1.000000e+00</td>\n",
       "      <td>1.000000e+00</td>\n",
       "      <td>1.000000e+00</td>\n",
       "    </tr>\n",
       "    <tr>\n",
       "      <th>p27</th>\n",
       "      <td>1.820583e-09</td>\n",
       "      <td>1.000000</td>\n",
       "      <td>1.000000e+00</td>\n",
       "      <td>1.000000</td>\n",
       "      <td>0.000962</td>\n",
       "      <td>0.005047</td>\n",
       "      <td>1.000000e+00</td>\n",
       "      <td>1.000000</td>\n",
       "      <td>-1.000000e+00</td>\n",
       "      <td>1.000000e+00</td>\n",
       "      <td>1.000000e+00</td>\n",
       "      <td>1.000000e+00</td>\n",
       "    </tr>\n",
       "    <tr>\n",
       "      <th>p28</th>\n",
       "      <td>5.932340e-12</td>\n",
       "      <td>0.339869</td>\n",
       "      <td>1.000000e+00</td>\n",
       "      <td>0.607052</td>\n",
       "      <td>0.000015</td>\n",
       "      <td>0.000165</td>\n",
       "      <td>7.744118e-01</td>\n",
       "      <td>1.000000</td>\n",
       "      <td>1.000000e+00</td>\n",
       "      <td>-1.000000e+00</td>\n",
       "      <td>1.000000e+00</td>\n",
       "      <td>9.657088e-01</td>\n",
       "    </tr>\n",
       "    <tr>\n",
       "      <th>p35</th>\n",
       "      <td>4.665781e-08</td>\n",
       "      <td>1.000000</td>\n",
       "      <td>1.000000e+00</td>\n",
       "      <td>1.000000</td>\n",
       "      <td>0.030939</td>\n",
       "      <td>0.117639</td>\n",
       "      <td>1.000000e+00</td>\n",
       "      <td>1.000000</td>\n",
       "      <td>1.000000e+00</td>\n",
       "      <td>1.000000e+00</td>\n",
       "      <td>-1.000000e+00</td>\n",
       "      <td>1.000000e+00</td>\n",
       "    </tr>\n",
       "    <tr>\n",
       "      <th>p36</th>\n",
       "      <td>6.836573e-07</td>\n",
       "      <td>1.000000</td>\n",
       "      <td>1.000000e+00</td>\n",
       "      <td>1.000000</td>\n",
       "      <td>0.182935</td>\n",
       "      <td>0.508917</td>\n",
       "      <td>1.000000e+00</td>\n",
       "      <td>1.000000</td>\n",
       "      <td>1.000000e+00</td>\n",
       "      <td>9.657088e-01</td>\n",
       "      <td>1.000000e+00</td>\n",
       "      <td>-1.000000e+00</td>\n",
       "    </tr>\n",
       "  </tbody>\n",
       "</table>\n",
       "</div>"
      ],
      "text/plain": [
       "              Ctrl       p07           p09       p12       p15       p18  \\\n",
       "Ctrl -1.000000e+00  0.000014  1.035892e-07  0.000016  0.094754  0.287260   \n",
       "p07   1.414946e-05 -1.000000  1.000000e+00  1.000000  0.909218  1.000000   \n",
       "p09   1.035892e-07  1.000000 -1.000000e+00  1.000000  0.053200  0.183971   \n",
       "p12   1.614494e-05  1.000000  1.000000e+00 -1.000000  0.759709  1.000000   \n",
       "p15   9.475369e-02  0.909218  5.319951e-02  0.759709 -1.000000  1.000000   \n",
       "p18   2.872600e-01  1.000000  1.839709e-01  1.000000  1.000000 -1.000000   \n",
       "p21   1.518382e-08  1.000000  1.000000e+00  1.000000  0.044310  0.193845   \n",
       "p25   2.881770e-06  1.000000  1.000000e+00  1.000000  0.189285  0.454074   \n",
       "p27   1.820583e-09  1.000000  1.000000e+00  1.000000  0.000962  0.005047   \n",
       "p28   5.932340e-12  0.339869  1.000000e+00  0.607052  0.000015  0.000165   \n",
       "p35   4.665781e-08  1.000000  1.000000e+00  1.000000  0.030939  0.117639   \n",
       "p36   6.836573e-07  1.000000  1.000000e+00  1.000000  0.182935  0.508917   \n",
       "\n",
       "               p21       p25           p27           p28           p35  \\\n",
       "Ctrl  1.518382e-08  0.000003  1.820583e-09  5.932340e-12  4.665781e-08   \n",
       "p07   1.000000e+00  1.000000  1.000000e+00  3.398687e-01  1.000000e+00   \n",
       "p09   1.000000e+00  1.000000  1.000000e+00  1.000000e+00  1.000000e+00   \n",
       "p12   1.000000e+00  1.000000  1.000000e+00  6.070517e-01  1.000000e+00   \n",
       "p15   4.431026e-02  0.189285  9.624310e-04  1.537096e-05  3.093871e-02   \n",
       "p18   1.938454e-01  0.454074  5.046661e-03  1.654697e-04  1.176387e-01   \n",
       "p21  -1.000000e+00  1.000000  1.000000e+00  7.744118e-01  1.000000e+00   \n",
       "p25   1.000000e+00 -1.000000  1.000000e+00  1.000000e+00  1.000000e+00   \n",
       "p27   1.000000e+00  1.000000 -1.000000e+00  1.000000e+00  1.000000e+00   \n",
       "p28   7.744118e-01  1.000000  1.000000e+00 -1.000000e+00  1.000000e+00   \n",
       "p35   1.000000e+00  1.000000  1.000000e+00  1.000000e+00 -1.000000e+00   \n",
       "p36   1.000000e+00  1.000000  1.000000e+00  9.657088e-01  1.000000e+00   \n",
       "\n",
       "               p36  \n",
       "Ctrl  6.836573e-07  \n",
       "p07   1.000000e+00  \n",
       "p09   1.000000e+00  \n",
       "p12   1.000000e+00  \n",
       "p15   1.829346e-01  \n",
       "p18   5.089168e-01  \n",
       "p21   1.000000e+00  \n",
       "p25   1.000000e+00  \n",
       "p27   1.000000e+00  \n",
       "p28   9.657088e-01  \n",
       "p35   1.000000e+00  \n",
       "p36  -1.000000e+00  "
      ]
     },
     "execution_count": 32,
     "metadata": {},
     "output_type": "execute_result"
    }
   ],
   "source": [
    "sp.posthoc_conover(df, val_col='bTau', group_col='probe', p_adjust = 'bonferroni')"
   ]
  },
  {
   "cell_type": "code",
   "execution_count": 33,
   "metadata": {},
   "outputs": [],
   "source": [
    "# color variant 1\n",
    "heatmap_args = {'linewidths': 0.25, 'linecolor': '0.5', 'clip_on': False, 'square': True, 'cbar_ax_bbox': [0.80, 0.35, 0.04, 0.3]}"
   ]
  },
  {
   "cell_type": "code",
   "execution_count": 34,
   "metadata": {},
   "outputs": [],
   "source": [
    "# color variant 2\n",
    "cmap = ['1', '#fb6a4a',  '#08306b',  '#4292c6', '#c6dbef']\n",
    "heatmap_args = {'cmap': cmap, 'linewidths': 0.25, 'linecolor': '0.5', 'clip_on': False, 'square': True, 'cbar_ax_bbox': [0.80, 0.35, 0.04, 0.3]}"
   ]
  },
  {
   "cell_type": "code",
   "execution_count": 35,
   "metadata": {},
   "outputs": [],
   "source": [
    "# color variant 3\n",
    "cmap = ['1', '#ffffff',  '#000000',  '#696969', '#c0c0c0']\n",
    "heatmap_args = {'cmap': cmap, 'linewidths': 0.25, 'linecolor': '0.5', 'clip_on': True, 'square': True, 'cbar_ax_bbox': [0.80, 0.35, 0.04, 0.3]}"
   ]
  },
  {
   "cell_type": "code",
   "execution_count": 36,
   "metadata": {},
   "outputs": [
    {
     "data": {
      "text/plain": [
       "(<matplotlib.axes._subplots.AxesSubplot at 0x11f222160>,\n",
       " <matplotlib.colorbar.ColorbarBase at 0x108e33b80>)"
      ]
     },
     "execution_count": 36,
     "metadata": {},
     "output_type": "execute_result"
    },
    {
     "data": {
      "image/png": "[encoded data removed]",
      "text/plain": [
       "<Figure size 432x288 with 2 Axes>"
      ]
     },
     "metadata": {
      "needs_background": "light"
     },
     "output_type": "display_data"
    }
   ],
   "source": [
    "pc = sp.posthoc_conover(df, val_col='bTau', group_col='probe', p_adjust='fdr_bh')\n",
    "sp.sign_plot(pc, **heatmap_args)"
   ]
  },
  {
   "cell_type": "code",
   "execution_count": 37,
   "metadata": {},
   "outputs": [
    {
     "data": {
      "text/plain": [
       "(<matplotlib.axes._subplots.AxesSubplot at 0x108e4a6a0>,\n",
       " <matplotlib.colorbar.ColorbarBase at 0x108f4a040>)"
      ]
     },
     "execution_count": 37,
     "metadata": {},
     "output_type": "execute_result"
    },
    {
     "data": {
      "image/png": "[encoded data removed]",
      "text/plain": [
       "<Figure size 432x288 with 2 Axes>"
      ]
     },
     "metadata": {
      "needs_background": "light"
     },
     "output_type": "display_data"
    }
   ],
   "source": [
    "pc = sp.posthoc_mannwhitney(df, val_col='bTau', group_col='probe', p_adjust='holm')\n",
    "sp.sign_plot(pc, **heatmap_args)"
   ]
  },
  {
   "cell_type": "code",
   "execution_count": 38,
   "metadata": {},
   "outputs": [
    {
     "data": {
      "text/plain": [
       "(<matplotlib.axes._subplots.AxesSubplot at 0x108f4a820>,\n",
       " <matplotlib.colorbar.ColorbarBase at 0x11f339a60>)"
      ]
     },
     "execution_count": 38,
     "metadata": {},
     "output_type": "execute_result"
    },
    {
     "data": {
      "image/png": "[encoded data removed]",
      "text/plain": [
       "<Figure size 432x288 with 2 Axes>"
      ]
     },
     "metadata": {
      "needs_background": "light"
     },
     "output_type": "display_data"
    }
   ],
   "source": [
    "pc = sp.posthoc_mannwhitney(df, val_col='bTau', group_col='probe')\n",
    "sp.sign_plot(pc, **heatmap_args)"
   ]
  },
  {
   "cell_type": "code",
   "execution_count": 39,
   "metadata": {},
   "outputs": [
    {
     "data": {
      "text/plain": [
       "(<matplotlib.axes._subplots.AxesSubplot at 0x11f34e730>,\n",
       " <matplotlib.colorbar.ColorbarBase at 0x11f438940>)"
      ]
     },
     "execution_count": 39,
     "metadata": {},
     "output_type": "execute_result"
    },
    {
     "data": {
      "image/png": "[encoded data removed]",
      "text/plain": [
       "<Figure size 432x288 with 2 Axes>"
      ]
     },
     "metadata": {
      "needs_background": "light"
     },
     "output_type": "display_data"
    }
   ],
   "source": [
    "pc = sp.posthoc_ttest(df, val_col='bTau', group_col='probe', p_adjust = 'bonferroni')\n",
    "sp.sign_plot(pc, **heatmap_args)"
   ]
  },
  {
   "cell_type": "code",
   "execution_count": 40,
   "metadata": {},
   "outputs": [
    {
     "data": {
      "text/plain": [
       "(<matplotlib.axes._subplots.AxesSubplot at 0x11f44c3d0>,\n",
       " <matplotlib.colorbar.ColorbarBase at 0x11f53d340>)"
      ]
     },
     "execution_count": 40,
     "metadata": {},
     "output_type": "execute_result"
    },
    {
     "data": {
      "image/png": "[encoded data removed]",
      "text/plain": [
       "<Figure size 432x288 with 2 Axes>"
      ]
     },
     "metadata": {
      "needs_background": "light"
     },
     "output_type": "display_data"
    }
   ],
   "source": [
    "pc = sp.posthoc_scheffe(df, val_col='bTau', group_col='probe')\n",
    "sp.sign_plot(pc, **heatmap_args)"
   ]
  },
  {
   "cell_type": "code",
   "execution_count": 41,
   "metadata": {},
   "outputs": [
    {
     "data": {
      "text/plain": [
       "(<matplotlib.axes._subplots.AxesSubplot at 0x11f4e8430>,\n",
       " <matplotlib.colorbar.ColorbarBase at 0x11f632e80>)"
      ]
     },
     "execution_count": 41,
     "metadata": {},
     "output_type": "execute_result"
    },
    {
     "data": {
      "image/png": "[encoded data removed]",
      "text/plain": [
       "<Figure size 432x288 with 2 Axes>"
      ]
     },
     "metadata": {
      "needs_background": "light"
     },
     "output_type": "display_data"
    }
   ],
   "source": [
    "pc = sp.posthoc_dunn(df, val_col='bTau', group_col='probe')\n",
    "sp.sign_plot(pc, **heatmap_args)"
   ]
  },
  {
   "cell_type": "code",
   "execution_count": 42,
   "metadata": {},
   "outputs": [
    {
     "data": {
      "text/plain": [
       "(<matplotlib.axes._subplots.AxesSubplot at 0x11f655bb0>,\n",
       " <matplotlib.colorbar.ColorbarBase at 0x11f734a90>)"
      ]
     },
     "execution_count": 42,
     "metadata": {},
     "output_type": "execute_result"
    },
    {
     "data": {
      "image/png": "[encoded data removed]",
      "text/plain": [
       "<Figure size 432x288 with 2 Axes>"
      ]
     },
     "metadata": {
      "needs_background": "light"
     },
     "output_type": "display_data"
    }
   ],
   "source": [
    "pc = sp.posthoc_conover(df, val_col='Rval', group_col='probe', p_adjust='fdr_bh')\n",
    "sp.sign_plot(pc, **heatmap_args)"
   ]
  },
  {
   "cell_type": "code",
   "execution_count": 43,
   "metadata": {},
   "outputs": [
    {
     "data": {
      "text/plain": [
       "(<matplotlib.axes._subplots.AxesSubplot at 0x11f757700>,\n",
       " <matplotlib.colorbar.ColorbarBase at 0x11f836520>)"
      ]
     },
     "execution_count": 43,
     "metadata": {},
     "output_type": "execute_result"
    },
    {
     "data": {
      "image/png": "[encoded data removed]",
      "text/plain": [
       "<Figure size 432x288 with 2 Axes>"
      ]
     },
     "metadata": {
      "needs_background": "light"
     },
     "output_type": "display_data"
    }
   ],
   "source": [
    "pc = sp.posthoc_conover(df, val_col='Rs', group_col='probe', p_adjust='fdr_bh')\n",
    "sp.sign_plot(pc, **heatmap_args)"
   ]
  },
  {
   "cell_type": "code",
   "execution_count": 44,
   "metadata": {},
   "outputs": [
    {
     "data": {
      "text/plain": [
       "(<matplotlib.axes._subplots.AxesSubplot at 0x11f8552b0>,\n",
       " <matplotlib.colorbar.ColorbarBase at 0x11f9461c0>)"
      ]
     },
     "execution_count": 44,
     "metadata": {},
     "output_type": "execute_result"
    },
    {
     "data": {
      "image/png": "[encoded data removed]",
      "text/plain": [
       "<Figure size 432x288 with 2 Axes>"
      ]
     },
     "metadata": {
      "needs_background": "light"
     },
     "output_type": "display_data"
    }
   ],
   "source": [
    "pc = sp.posthoc_conover(df, val_col='tM1', group_col='probe', p_adjust='fdr_bh')\n",
    "sp.sign_plot(pc, **heatmap_args)"
   ]
  },
  {
   "cell_type": "code",
   "execution_count": 45,
   "metadata": {},
   "outputs": [
    {
     "data": {
      "text/plain": [
       "(<matplotlib.axes._subplots.AxesSubplot at 0x11f95ed90>,\n",
       " <matplotlib.colorbar.ColorbarBase at 0x11fa4db80>)"
      ]
     },
     "execution_count": 45,
     "metadata": {},
     "output_type": "execute_result"
    },
    {
     "data": {
      "image/png": "[encoded data removed]",
      "text/plain": [
       "<Figure size 432x288 with 2 Axes>"
      ]
     },
     "metadata": {
      "needs_background": "light"
     },
     "output_type": "display_data"
    }
   ],
   "source": [
    "pc = sp.posthoc_conover(df, val_col='tM2', group_col='probe', p_adjust='fdr_bh')\n",
    "sp.sign_plot(pc, **heatmap_args)"
   ]
  },
  {
   "cell_type": "code",
   "execution_count": 46,
   "metadata": {},
   "outputs": [
    {
     "data": {
      "text/plain": [
       "(<matplotlib.axes._subplots.AxesSubplot at 0x11fa6f8b0>,\n",
       " <matplotlib.colorbar.ColorbarBase at 0x11fb595e0>)"
      ]
     },
     "execution_count": 46,
     "metadata": {},
     "output_type": "execute_result"
    },
    {
     "data": {
      "image/png": "[encoded data removed]",
      "text/plain": [
       "<Figure size 432x288 with 2 Axes>"
      ]
     },
     "metadata": {
      "needs_background": "light"
     },
     "output_type": "display_data"
    }
   ],
   "source": [
    "pc = sp.posthoc_conover(df, val_col='bTau', group_col='probe', p_adjust = 'bonferroni')\n",
    "sp.sign_plot(pc, **heatmap_args)"
   ]
  },
  {
   "cell_type": "code",
   "execution_count": 47,
   "metadata": {},
   "outputs": [
    {
     "data": {
      "text/plain": [
       "(<matplotlib.axes._subplots.AxesSubplot at 0x11fb77310>,\n",
       " <matplotlib.colorbar.ColorbarBase at 0x11fc680d0>)"
      ]
     },
     "execution_count": 47,
     "metadata": {},
     "output_type": "execute_result"
    },
    {
     "data": {
      "image/png": "[encoded data removed]",
      "text/plain": [
       "<Figure size 432x288 with 2 Axes>"
      ]
     },
     "metadata": {
      "needs_background": "light"
     },
     "output_type": "display_data"
    }
   ],
   "source": [
    "pc = sp.posthoc_conover(df, val_col='Rval', group_col='probe', p_adjust = 'bonferroni')\n",
    "sp.sign_plot(pc, **heatmap_args)"
   ]
  },
  {
   "cell_type": "code",
   "execution_count": 48,
   "metadata": {},
   "outputs": [
    {
     "data": {
      "text/plain": [
       "(<matplotlib.axes._subplots.AxesSubplot at 0x11fc7dee0>,\n",
       " <matplotlib.colorbar.ColorbarBase at 0x11fd4dd90>)"
      ]
     },
     "execution_count": 48,
     "metadata": {},
     "output_type": "execute_result"
    },
    {
     "data": {
      "image/png": "[encoded data removed]",
      "text/plain": [
       "<Figure size 432x288 with 2 Axes>"
      ]
     },
     "metadata": {
      "needs_background": "light"
     },
     "output_type": "display_data"
    }
   ],
   "source": [
    "pc = sp.posthoc_conover(df, val_col='Rs', group_col='probe', p_adjust = 'bonferroni')\n",
    "sp.sign_plot(pc, **heatmap_args)"
   ]
  },
  {
   "cell_type": "code",
   "execution_count": 49,
   "metadata": {},
   "outputs": [
    {
     "data": {
      "text/plain": [
       "(<matplotlib.axes._subplots.AxesSubplot at 0x11fd67970>,\n",
       " <matplotlib.colorbar.ColorbarBase at 0x11fe509a0>)"
      ]
     },
     "execution_count": 49,
     "metadata": {},
     "output_type": "execute_result"
    },
    {
     "data": {
      "image/png": "[encoded data removed]",
      "text/plain": [
       "<Figure size 432x288 with 2 Axes>"
      ]
     },
     "metadata": {
      "needs_background": "light"
     },
     "output_type": "display_data"
    }
   ],
   "source": [
    "pc = sp.posthoc_conover(df, val_col='tM1', group_col='probe', p_adjust = 'bonferroni')\n",
    "sp.sign_plot(pc, **heatmap_args)"
   ]
  },
  {
   "cell_type": "code",
   "execution_count": 50,
   "metadata": {},
   "outputs": [
    {
     "data": {
      "text/plain": [
       "(<matplotlib.axes._subplots.AxesSubplot at 0x11fe75580>,\n",
       " <matplotlib.colorbar.ColorbarBase at 0x11ff643d0>)"
      ]
     },
     "execution_count": 50,
     "metadata": {},
     "output_type": "execute_result"
    },
    {
     "data": {
      "image/png": "[encoded data removed]",
      "text/plain": [
       "<Figure size 432x288 with 2 Axes>"
      ]
     },
     "metadata": {
      "needs_background": "light"
     },
     "output_type": "display_data"
    }
   ],
   "source": [
    "pc = sp.posthoc_conover(df, val_col='tM2', group_col='probe', p_adjust = 'bonferroni')\n",
    "sp.sign_plot(pc, **heatmap_args)"
   ]
  },
  {
   "cell_type": "code",
   "execution_count": 51,
   "metadata": {},
   "outputs": [
    {
     "ename": "FileNotFoundError",
     "evalue": "[Errno 2] File /Users/danilabobkov/Book333.csv does not exist: '/Users/danilabobkov/Book333.csv'",
     "output_type": "error",
     "traceback": [
      "\u001b[0;31m---------------------------------------------------------------------------\u001b[0m",
      "\u001b[0;31mFileNotFoundError\u001b[0m                         Traceback (most recent call last)",
      "\u001b[0;32m<ipython-input-51-cb751462af61>\u001b[0m in \u001b[0;36m<module>\u001b[0;34m\u001b[0m\n\u001b[0;32m----> 1\u001b[0;31m \u001b[0mtmrm\u001b[0m \u001b[0;34m=\u001b[0m \u001b[0mpd\u001b[0m\u001b[0;34m.\u001b[0m\u001b[0mread_csv\u001b[0m\u001b[0;34m(\u001b[0m\u001b[0;34m'~/Book333.csv'\u001b[0m\u001b[0;34m)\u001b[0m\u001b[0;34m\u001b[0m\u001b[0;34m\u001b[0m\u001b[0m\n\u001b[0m",
      "\u001b[0;32m/Library/Frameworks/Python.framework/Versions/3.8/lib/python3.8/site-packages/pandas/io/parsers.py\u001b[0m in \u001b[0;36mparser_f\u001b[0;34m(filepath_or_buffer, sep, delimiter, header, names, index_col, usecols, squeeze, prefix, mangle_dupe_cols, dtype, engine, converters, true_values, false_values, skipinitialspace, skiprows, skipfooter, nrows, na_values, keep_default_na, na_filter, verbose, skip_blank_lines, parse_dates, infer_datetime_format, keep_date_col, date_parser, dayfirst, cache_dates, iterator, chunksize, compression, thousands, decimal, lineterminator, quotechar, quoting, doublequote, escapechar, comment, encoding, dialect, error_bad_lines, warn_bad_lines, delim_whitespace, low_memory, memory_map, float_precision)\u001b[0m\n\u001b[1;32m    674\u001b[0m         )\n\u001b[1;32m    675\u001b[0m \u001b[0;34m\u001b[0m\u001b[0m\n\u001b[0;32m--> 676\u001b[0;31m         \u001b[0;32mreturn\u001b[0m \u001b[0m_read\u001b[0m\u001b[0;34m(\u001b[0m\u001b[0mfilepath_or_buffer\u001b[0m\u001b[0;34m,\u001b[0m \u001b[0mkwds\u001b[0m\u001b[0;34m)\u001b[0m\u001b[0;34m\u001b[0m\u001b[0;34m\u001b[0m\u001b[0m\n\u001b[0m\u001b[1;32m    677\u001b[0m \u001b[0;34m\u001b[0m\u001b[0m\n\u001b[1;32m    678\u001b[0m     \u001b[0mparser_f\u001b[0m\u001b[0;34m.\u001b[0m\u001b[0m__name__\u001b[0m \u001b[0;34m=\u001b[0m \u001b[0mname\u001b[0m\u001b[0;34m\u001b[0m\u001b[0;34m\u001b[0m\u001b[0m\n",
      "\u001b[0;32m/Library/Frameworks/Python.framework/Versions/3.8/lib/python3.8/site-packages/pandas/io/parsers.py\u001b[0m in \u001b[0;36m_read\u001b[0;34m(filepath_or_buffer, kwds)\u001b[0m\n\u001b[1;32m    446\u001b[0m \u001b[0;34m\u001b[0m\u001b[0m\n\u001b[1;32m    447\u001b[0m     \u001b[0;31m# Create the parser.\u001b[0m\u001b[0;34m\u001b[0m\u001b[0;34m\u001b[0m\u001b[0;34m\u001b[0m\u001b[0m\n\u001b[0;32m--> 448\u001b[0;31m     \u001b[0mparser\u001b[0m \u001b[0;34m=\u001b[0m \u001b[0mTextFileReader\u001b[0m\u001b[0;34m(\u001b[0m\u001b[0mfp_or_buf\u001b[0m\u001b[0;34m,\u001b[0m \u001b[0;34m**\u001b[0m\u001b[0mkwds\u001b[0m\u001b[0;34m)\u001b[0m\u001b[0;34m\u001b[0m\u001b[0;34m\u001b[0m\u001b[0m\n\u001b[0m\u001b[1;32m    449\u001b[0m \u001b[0;34m\u001b[0m\u001b[0m\n\u001b[1;32m    450\u001b[0m     \u001b[0;32mif\u001b[0m \u001b[0mchunksize\u001b[0m \u001b[0;32mor\u001b[0m \u001b[0miterator\u001b[0m\u001b[0;34m:\u001b[0m\u001b[0;34m\u001b[0m\u001b[0;34m\u001b[0m\u001b[0m\n",
      "\u001b[0;32m/Library/Frameworks/Python.framework/Versions/3.8/lib/python3.8/site-packages/pandas/io/parsers.py\u001b[0m in \u001b[0;36m__init__\u001b[0;34m(self, f, engine, **kwds)\u001b[0m\n\u001b[1;32m    878\u001b[0m             \u001b[0mself\u001b[0m\u001b[0;34m.\u001b[0m\u001b[0moptions\u001b[0m\u001b[0;34m[\u001b[0m\u001b[0;34m\"has_index_names\"\u001b[0m\u001b[0;34m]\u001b[0m \u001b[0;34m=\u001b[0m \u001b[0mkwds\u001b[0m\u001b[0;34m[\u001b[0m\u001b[0;34m\"has_index_names\"\u001b[0m\u001b[0;34m]\u001b[0m\u001b[0;34m\u001b[0m\u001b[0;34m\u001b[0m\u001b[0m\n\u001b[1;32m    879\u001b[0m \u001b[0;34m\u001b[0m\u001b[0m\n\u001b[0;32m--> 880\u001b[0;31m         \u001b[0mself\u001b[0m\u001b[0;34m.\u001b[0m\u001b[0m_make_engine\u001b[0m\u001b[0;34m(\u001b[0m\u001b[0mself\u001b[0m\u001b[0;34m.\u001b[0m\u001b[0mengine\u001b[0m\u001b[0;34m)\u001b[0m\u001b[0;34m\u001b[0m\u001b[0;34m\u001b[0m\u001b[0m\n\u001b[0m\u001b[1;32m    881\u001b[0m \u001b[0;34m\u001b[0m\u001b[0m\n\u001b[1;32m    882\u001b[0m     \u001b[0;32mdef\u001b[0m \u001b[0mclose\u001b[0m\u001b[0;34m(\u001b[0m\u001b[0mself\u001b[0m\u001b[0;34m)\u001b[0m\u001b[0;34m:\u001b[0m\u001b[0;34m\u001b[0m\u001b[0;34m\u001b[0m\u001b[0m\n",
      "\u001b[0;32m/Library/Frameworks/Python.framework/Versions/3.8/lib/python3.8/site-packages/pandas/io/parsers.py\u001b[0m in \u001b[0;36m_make_engine\u001b[0;34m(self, engine)\u001b[0m\n\u001b[1;32m   1112\u001b[0m     \u001b[0;32mdef\u001b[0m \u001b[0m_make_engine\u001b[0m\u001b[0;34m(\u001b[0m\u001b[0mself\u001b[0m\u001b[0;34m,\u001b[0m \u001b[0mengine\u001b[0m\u001b[0;34m=\u001b[0m\u001b[0;34m\"c\"\u001b[0m\u001b[0;34m)\u001b[0m\u001b[0;34m:\u001b[0m\u001b[0;34m\u001b[0m\u001b[0;34m\u001b[0m\u001b[0m\n\u001b[1;32m   1113\u001b[0m         \u001b[0;32mif\u001b[0m \u001b[0mengine\u001b[0m \u001b[0;34m==\u001b[0m \u001b[0;34m\"c\"\u001b[0m\u001b[0;34m:\u001b[0m\u001b[0;34m\u001b[0m\u001b[0;34m\u001b[0m\u001b[0m\n\u001b[0;32m-> 1114\u001b[0;31m             \u001b[0mself\u001b[0m\u001b[0;34m.\u001b[0m\u001b[0m_engine\u001b[0m \u001b[0;34m=\u001b[0m \u001b[0mCParserWrapper\u001b[0m\u001b[0;34m(\u001b[0m\u001b[0mself\u001b[0m\u001b[0;34m.\u001b[0m\u001b[0mf\u001b[0m\u001b[0;34m,\u001b[0m \u001b[0;34m**\u001b[0m\u001b[0mself\u001b[0m\u001b[0;34m.\u001b[0m\u001b[0moptions\u001b[0m\u001b[0;34m)\u001b[0m\u001b[0;34m\u001b[0m\u001b[0;34m\u001b[0m\u001b[0m\n\u001b[0m\u001b[1;32m   1115\u001b[0m         \u001b[0;32melse\u001b[0m\u001b[0;34m:\u001b[0m\u001b[0;34m\u001b[0m\u001b[0;34m\u001b[0m\u001b[0m\n\u001b[1;32m   1116\u001b[0m             \u001b[0;32mif\u001b[0m \u001b[0mengine\u001b[0m \u001b[0;34m==\u001b[0m \u001b[0;34m\"python\"\u001b[0m\u001b[0;34m:\u001b[0m\u001b[0;34m\u001b[0m\u001b[0;34m\u001b[0m\u001b[0m\n",
      "\u001b[0;32m/Library/Frameworks/Python.framework/Versions/3.8/lib/python3.8/site-packages/pandas/io/parsers.py\u001b[0m in \u001b[0;36m__init__\u001b[0;34m(self, src, **kwds)\u001b[0m\n\u001b[1;32m   1889\u001b[0m         \u001b[0mkwds\u001b[0m\u001b[0;34m[\u001b[0m\u001b[0;34m\"usecols\"\u001b[0m\u001b[0;34m]\u001b[0m \u001b[0;34m=\u001b[0m \u001b[0mself\u001b[0m\u001b[0;34m.\u001b[0m\u001b[0musecols\u001b[0m\u001b[0;34m\u001b[0m\u001b[0;34m\u001b[0m\u001b[0m\n\u001b[1;32m   1890\u001b[0m \u001b[0;34m\u001b[0m\u001b[0m\n\u001b[0;32m-> 1891\u001b[0;31m         \u001b[0mself\u001b[0m\u001b[0;34m.\u001b[0m\u001b[0m_reader\u001b[0m \u001b[0;34m=\u001b[0m \u001b[0mparsers\u001b[0m\u001b[0;34m.\u001b[0m\u001b[0mTextReader\u001b[0m\u001b[0;34m(\u001b[0m\u001b[0msrc\u001b[0m\u001b[0;34m,\u001b[0m \u001b[0;34m**\u001b[0m\u001b[0mkwds\u001b[0m\u001b[0;34m)\u001b[0m\u001b[0;34m\u001b[0m\u001b[0;34m\u001b[0m\u001b[0m\n\u001b[0m\u001b[1;32m   1892\u001b[0m         \u001b[0mself\u001b[0m\u001b[0;34m.\u001b[0m\u001b[0munnamed_cols\u001b[0m \u001b[0;34m=\u001b[0m \u001b[0mself\u001b[0m\u001b[0;34m.\u001b[0m\u001b[0m_reader\u001b[0m\u001b[0;34m.\u001b[0m\u001b[0munnamed_cols\u001b[0m\u001b[0;34m\u001b[0m\u001b[0;34m\u001b[0m\u001b[0m\n\u001b[1;32m   1893\u001b[0m \u001b[0;34m\u001b[0m\u001b[0m\n",
      "\u001b[0;32mpandas/_libs/parsers.pyx\u001b[0m in \u001b[0;36mpandas._libs.parsers.TextReader.__cinit__\u001b[0;34m()\u001b[0m\n",
      "\u001b[0;32mpandas/_libs/parsers.pyx\u001b[0m in \u001b[0;36mpandas._libs.parsers.TextReader._setup_parser_source\u001b[0;34m()\u001b[0m\n",
      "\u001b[0;31mFileNotFoundError\u001b[0m: [Errno 2] File /Users/danilabobkov/Book333.csv does not exist: '/Users/danilabobkov/Book333.csv'"
     ]
    }
   ],
   "source": [
    "tmrm = pd.read_csv('~/Book333.csv')"
   ]
  },
  {
   "cell_type": "code",
   "execution_count": 312,
   "metadata": {},
   "outputs": [],
   "source": [
    "tmrm = pd.read_csv('~/Book333-cont.csv')"
   ]
  },
  {
   "cell_type": "code",
   "execution_count": 430,
   "metadata": {},
   "outputs": [
    {
     "data": {
      "text/html": [
       "<div>\n",
       "<style scoped>\n",
       "    .dataframe tbody tr th:only-of-type {\n",
       "        vertical-align: middle;\n",
       "    }\n",
       "\n",
       "    .dataframe tbody tr th {\n",
       "        vertical-align: top;\n",
       "    }\n",
       "\n",
       "    .dataframe thead th {\n",
       "        text-align: right;\n",
       "    }\n",
       "</style>\n",
       "<table border=\"1\" class=\"dataframe\">\n",
       "  <thead>\n",
       "    <tr style=\"text-align: right;\">\n",
       "      <th></th>\n",
       "      <th>TMRM</th>\n",
       "      <th>substance</th>\n",
       "    </tr>\n",
       "  </thead>\n",
       "  <tbody>\n",
       "    <tr>\n",
       "      <th>0</th>\n",
       "      <td>274.1</td>\n",
       "      <td>-Ctrl</td>\n",
       "    </tr>\n",
       "    <tr>\n",
       "      <th>1</th>\n",
       "      <td>537.1</td>\n",
       "      <td>-Ctrl</td>\n",
       "    </tr>\n",
       "    <tr>\n",
       "      <th>2</th>\n",
       "      <td>274.3</td>\n",
       "      <td>-Ctrl</td>\n",
       "    </tr>\n",
       "    <tr>\n",
       "      <th>3</th>\n",
       "      <td>307.9</td>\n",
       "      <td>-Ctrl</td>\n",
       "    </tr>\n",
       "    <tr>\n",
       "      <th>4</th>\n",
       "      <td>305.0</td>\n",
       "      <td>-Ctrl</td>\n",
       "    </tr>\n",
       "  </tbody>\n",
       "</table>\n",
       "</div>"
      ],
      "text/plain": [
       "    TMRM substance\n",
       "0  274.1     -Ctrl\n",
       "1  537.1     -Ctrl\n",
       "2  274.3     -Ctrl\n",
       "3  307.9     -Ctrl\n",
       "4  305.0     -Ctrl"
      ]
     },
     "execution_count": 430,
     "metadata": {},
     "output_type": "execute_result"
    }
   ],
   "source": [
    "tmrm.head()"
   ]
  },
  {
   "cell_type": "code",
   "execution_count": 431,
   "metadata": {},
   "outputs": [
    {
     "data": {
      "text/html": [
       "<div>\n",
       "<style scoped>\n",
       "    .dataframe tbody tr th:only-of-type {\n",
       "        vertical-align: middle;\n",
       "    }\n",
       "\n",
       "    .dataframe tbody tr th {\n",
       "        vertical-align: top;\n",
       "    }\n",
       "\n",
       "    .dataframe thead th {\n",
       "        text-align: right;\n",
       "    }\n",
       "</style>\n",
       "<table border=\"1\" class=\"dataframe\">\n",
       "  <thead>\n",
       "    <tr style=\"text-align: right;\">\n",
       "      <th></th>\n",
       "      <th>TMRM</th>\n",
       "    </tr>\n",
       "    <tr>\n",
       "      <th>substance</th>\n",
       "      <th></th>\n",
       "    </tr>\n",
       "  </thead>\n",
       "  <tbody>\n",
       "    <tr>\n",
       "      <th>-Ctrl</th>\n",
       "      <td>3.549083e+02</td>\n",
       "    </tr>\n",
       "    <tr>\n",
       "      <th>Ctrl_DMEM</th>\n",
       "      <td>8.508598e+05</td>\n",
       "    </tr>\n",
       "    <tr>\n",
       "      <th>Ctrl_PBS</th>\n",
       "      <td>9.087619e+05</td>\n",
       "    </tr>\n",
       "    <tr>\n",
       "      <th>N_0.1%</th>\n",
       "      <td>1.044207e+06</td>\n",
       "    </tr>\n",
       "    <tr>\n",
       "      <th>N_1%</th>\n",
       "      <td>1.017992e+06</td>\n",
       "    </tr>\n",
       "    <tr>\n",
       "      <th>N_10%</th>\n",
       "      <td>9.627677e+05</td>\n",
       "    </tr>\n",
       "    <tr>\n",
       "      <th>U_1%</th>\n",
       "      <td>6.877132e+05</td>\n",
       "    </tr>\n",
       "    <tr>\n",
       "      <th>U_10%</th>\n",
       "      <td>7.390095e+05</td>\n",
       "    </tr>\n",
       "  </tbody>\n",
       "</table>\n",
       "</div>"
      ],
      "text/plain": [
       "                   TMRM\n",
       "substance              \n",
       "-Ctrl      3.549083e+02\n",
       "Ctrl_DMEM  8.508598e+05\n",
       "Ctrl_PBS   9.087619e+05\n",
       "N_0.1%     1.044207e+06\n",
       "N_1%       1.017992e+06\n",
       "N_10%      9.627677e+05\n",
       "U_1%       6.877132e+05\n",
       "U_10%      7.390095e+05"
      ]
     },
     "execution_count": 431,
     "metadata": {},
     "output_type": "execute_result"
    }
   ],
   "source": [
    "tmrm.groupby('substance').aggregate({'TMRM' : 'mean'})"
   ]
  },
  {
   "cell_type": "code",
   "execution_count": 508,
   "metadata": {},
   "outputs": [],
   "source": [
    "df = tmrm"
   ]
  },
  {
   "cell_type": "code",
   "execution_count": 509,
   "metadata": {},
   "outputs": [
    {
     "name": "stdout",
     "output_type": "stream",
     "text": [
      "                df        sum_sq       mean_sq          F        PR(>F)\n",
      "C(substance)   7.0  8.929269e+12  1.275610e+12  42.286247  3.533564e-22\n",
      "Residual      67.0  2.021127e+12  3.016607e+10        NaN           NaN\n"
     ]
    }
   ],
   "source": [
    "lm = sfa.ols('TMRM ~ C(substance)', data=df).fit()\n",
    "anova = sa.stats.anova_lm(lm)\n",
    "print(anova)"
   ]
  },
  {
   "cell_type": "code",
   "execution_count": 510,
   "metadata": {},
   "outputs": [
    {
     "data": {
      "text/html": [
       "<div>\n",
       "<style scoped>\n",
       "    .dataframe tbody tr th:only-of-type {\n",
       "        vertical-align: middle;\n",
       "    }\n",
       "\n",
       "    .dataframe tbody tr th {\n",
       "        vertical-align: top;\n",
       "    }\n",
       "\n",
       "    .dataframe thead th {\n",
       "        text-align: right;\n",
       "    }\n",
       "</style>\n",
       "<table border=\"1\" class=\"dataframe\">\n",
       "  <thead>\n",
       "    <tr style=\"text-align: right;\">\n",
       "      <th></th>\n",
       "      <th>-Ctrl</th>\n",
       "      <th>Ctrl_DMEM</th>\n",
       "      <th>Ctrl_PBS</th>\n",
       "      <th>N_0.1%</th>\n",
       "      <th>N_1%</th>\n",
       "      <th>N_10%</th>\n",
       "      <th>U_1%</th>\n",
       "      <th>U_10%</th>\n",
       "    </tr>\n",
       "  </thead>\n",
       "  <tbody>\n",
       "    <tr>\n",
       "      <th>-Ctrl</th>\n",
       "      <td>-1.000000e+00</td>\n",
       "      <td>1.081572e-09</td>\n",
       "      <td>4.984032e-08</td>\n",
       "      <td>2.220297e-09</td>\n",
       "      <td>3.249656e-15</td>\n",
       "      <td>4.336674e-17</td>\n",
       "      <td>8.331541e-22</td>\n",
       "      <td>6.525932e-25</td>\n",
       "    </tr>\n",
       "    <tr>\n",
       "      <th>Ctrl_DMEM</th>\n",
       "      <td>1.081572e-09</td>\n",
       "      <td>-1.000000e+00</td>\n",
       "      <td>1.000000e+00</td>\n",
       "      <td>1.000000e+00</td>\n",
       "      <td>8.554789e-01</td>\n",
       "      <td>1.000000e+00</td>\n",
       "      <td>6.217659e-01</td>\n",
       "      <td>1.000000e+00</td>\n",
       "    </tr>\n",
       "    <tr>\n",
       "      <th>Ctrl_PBS</th>\n",
       "      <td>4.984032e-08</td>\n",
       "      <td>1.000000e+00</td>\n",
       "      <td>-1.000000e+00</td>\n",
       "      <td>1.000000e+00</td>\n",
       "      <td>1.000000e+00</td>\n",
       "      <td>1.000000e+00</td>\n",
       "      <td>6.217659e-01</td>\n",
       "      <td>1.000000e+00</td>\n",
       "    </tr>\n",
       "    <tr>\n",
       "      <th>N_0.1%</th>\n",
       "      <td>2.220297e-09</td>\n",
       "      <td>1.000000e+00</td>\n",
       "      <td>1.000000e+00</td>\n",
       "      <td>-1.000000e+00</td>\n",
       "      <td>1.000000e+00</td>\n",
       "      <td>1.000000e+00</td>\n",
       "      <td>3.348093e-02</td>\n",
       "      <td>9.393813e-02</td>\n",
       "    </tr>\n",
       "    <tr>\n",
       "      <th>N_1%</th>\n",
       "      <td>3.249656e-15</td>\n",
       "      <td>8.554789e-01</td>\n",
       "      <td>1.000000e+00</td>\n",
       "      <td>1.000000e+00</td>\n",
       "      <td>-1.000000e+00</td>\n",
       "      <td>1.000000e+00</td>\n",
       "      <td>4.229287e-05</td>\n",
       "      <td>2.288756e-04</td>\n",
       "    </tr>\n",
       "    <tr>\n",
       "      <th>N_10%</th>\n",
       "      <td>4.336674e-17</td>\n",
       "      <td>1.000000e+00</td>\n",
       "      <td>1.000000e+00</td>\n",
       "      <td>1.000000e+00</td>\n",
       "      <td>1.000000e+00</td>\n",
       "      <td>-1.000000e+00</td>\n",
       "      <td>1.715499e-05</td>\n",
       "      <td>1.326949e-04</td>\n",
       "    </tr>\n",
       "    <tr>\n",
       "      <th>U_1%</th>\n",
       "      <td>8.331541e-22</td>\n",
       "      <td>6.217659e-01</td>\n",
       "      <td>6.217659e-01</td>\n",
       "      <td>3.348093e-02</td>\n",
       "      <td>4.229287e-05</td>\n",
       "      <td>1.715499e-05</td>\n",
       "      <td>-1.000000e+00</td>\n",
       "      <td>9.516961e-02</td>\n",
       "    </tr>\n",
       "    <tr>\n",
       "      <th>U_10%</th>\n",
       "      <td>6.525932e-25</td>\n",
       "      <td>1.000000e+00</td>\n",
       "      <td>1.000000e+00</td>\n",
       "      <td>9.393813e-02</td>\n",
       "      <td>2.288756e-04</td>\n",
       "      <td>1.326949e-04</td>\n",
       "      <td>9.516961e-02</td>\n",
       "      <td>-1.000000e+00</td>\n",
       "    </tr>\n",
       "  </tbody>\n",
       "</table>\n",
       "</div>"
      ],
      "text/plain": [
       "                  -Ctrl     Ctrl_DMEM      Ctrl_PBS       N_0.1%   \\\n",
       "-Ctrl     -1.000000e+00  1.081572e-09  4.984032e-08  2.220297e-09   \n",
       "Ctrl_DMEM  1.081572e-09 -1.000000e+00  1.000000e+00  1.000000e+00   \n",
       "Ctrl_PBS   4.984032e-08  1.000000e+00 -1.000000e+00  1.000000e+00   \n",
       "N_0.1%     2.220297e-09  1.000000e+00  1.000000e+00 -1.000000e+00   \n",
       "N_1%       3.249656e-15  8.554789e-01  1.000000e+00  1.000000e+00   \n",
       "N_10%      4.336674e-17  1.000000e+00  1.000000e+00  1.000000e+00   \n",
       "U_1%       8.331541e-22  6.217659e-01  6.217659e-01  3.348093e-02   \n",
       "U_10%      6.525932e-25  1.000000e+00  1.000000e+00  9.393813e-02   \n",
       "\n",
       "                  N_1%         N_10%           U_1%         U_10%  \n",
       "-Ctrl      3.249656e-15  4.336674e-17  8.331541e-22  6.525932e-25  \n",
       "Ctrl_DMEM  8.554789e-01  1.000000e+00  6.217659e-01  1.000000e+00  \n",
       "Ctrl_PBS   1.000000e+00  1.000000e+00  6.217659e-01  1.000000e+00  \n",
       "N_0.1%     1.000000e+00  1.000000e+00  3.348093e-02  9.393813e-02  \n",
       "N_1%      -1.000000e+00  1.000000e+00  4.229287e-05  2.288756e-04  \n",
       "N_10%      1.000000e+00 -1.000000e+00  1.715499e-05  1.326949e-04  \n",
       "U_1%       4.229287e-05  1.715499e-05 -1.000000e+00  9.516961e-02  \n",
       "U_10%      2.288756e-04  1.326949e-04  9.516961e-02 -1.000000e+00  "
      ]
     },
     "execution_count": 510,
     "metadata": {},
     "output_type": "execute_result"
    }
   ],
   "source": [
    "sp.posthoc_ttest(df, val_col='TMRM', group_col='substance', p_adjust='holm')"
   ]
  },
  {
   "cell_type": "code",
   "execution_count": 511,
   "metadata": {},
   "outputs": [
    {
     "data": {
      "text/plain": [
       "1.899253802016037e-07"
      ]
     },
     "execution_count": 511,
     "metadata": {},
     "output_type": "execute_result"
    }
   ],
   "source": [
    "data = [df.loc[ids, 'TMRM'].values for ids in df.groupby('substance').groups.values()]\n",
    "H, p = ss.kruskal(*data)\n",
    "p"
   ]
  },
  {
   "cell_type": "code",
   "execution_count": 512,
   "metadata": {},
   "outputs": [
    {
     "data": {
      "text/html": [
       "<div>\n",
       "<style scoped>\n",
       "    .dataframe tbody tr th:only-of-type {\n",
       "        vertical-align: middle;\n",
       "    }\n",
       "\n",
       "    .dataframe tbody tr th {\n",
       "        vertical-align: top;\n",
       "    }\n",
       "\n",
       "    .dataframe thead th {\n",
       "        text-align: right;\n",
       "    }\n",
       "</style>\n",
       "<table border=\"1\" class=\"dataframe\">\n",
       "  <thead>\n",
       "    <tr style=\"text-align: right;\">\n",
       "      <th></th>\n",
       "      <th>-Ctrl</th>\n",
       "      <th>Ctrl_DMEM</th>\n",
       "      <th>Ctrl_PBS</th>\n",
       "      <th>N_0.1%</th>\n",
       "      <th>N_1%</th>\n",
       "      <th>N_10%</th>\n",
       "      <th>U_1%</th>\n",
       "      <th>U_10%</th>\n",
       "    </tr>\n",
       "  </thead>\n",
       "  <tbody>\n",
       "    <tr>\n",
       "      <th>-Ctrl</th>\n",
       "      <td>-1.000000e+00</td>\n",
       "      <td>0.000105</td>\n",
       "      <td>0.000005</td>\n",
       "      <td>3.637458e-08</td>\n",
       "      <td>6.036714e-10</td>\n",
       "      <td>1.432701e-08</td>\n",
       "      <td>0.160331</td>\n",
       "      <td>0.000145</td>\n",
       "    </tr>\n",
       "    <tr>\n",
       "      <th>Ctrl_DMEM</th>\n",
       "      <td>1.047967e-04</td>\n",
       "      <td>-1.000000</td>\n",
       "      <td>1.000000</td>\n",
       "      <td>1.000000e+00</td>\n",
       "      <td>1.908515e-01</td>\n",
       "      <td>1.000000e+00</td>\n",
       "      <td>1.000000</td>\n",
       "      <td>1.000000</td>\n",
       "    </tr>\n",
       "    <tr>\n",
       "      <th>Ctrl_PBS</th>\n",
       "      <td>5.042285e-06</td>\n",
       "      <td>1.000000</td>\n",
       "      <td>-1.000000</td>\n",
       "      <td>1.000000e+00</td>\n",
       "      <td>1.000000e+00</td>\n",
       "      <td>1.000000e+00</td>\n",
       "      <td>0.199591</td>\n",
       "      <td>1.000000</td>\n",
       "    </tr>\n",
       "    <tr>\n",
       "      <th>N_0.1%</th>\n",
       "      <td>3.637458e-08</td>\n",
       "      <td>1.000000</td>\n",
       "      <td>1.000000</td>\n",
       "      <td>-1.000000e+00</td>\n",
       "      <td>1.000000e+00</td>\n",
       "      <td>1.000000e+00</td>\n",
       "      <td>0.006053</td>\n",
       "      <td>1.000000</td>\n",
       "    </tr>\n",
       "    <tr>\n",
       "      <th>N_1%</th>\n",
       "      <td>6.036714e-10</td>\n",
       "      <td>0.190851</td>\n",
       "      <td>1.000000</td>\n",
       "      <td>1.000000e+00</td>\n",
       "      <td>-1.000000e+00</td>\n",
       "      <td>1.000000e+00</td>\n",
       "      <td>0.000225</td>\n",
       "      <td>0.152199</td>\n",
       "    </tr>\n",
       "    <tr>\n",
       "      <th>N_10%</th>\n",
       "      <td>1.432701e-08</td>\n",
       "      <td>1.000000</td>\n",
       "      <td>1.000000</td>\n",
       "      <td>1.000000e+00</td>\n",
       "      <td>1.000000e+00</td>\n",
       "      <td>-1.000000e+00</td>\n",
       "      <td>0.002945</td>\n",
       "      <td>0.964001</td>\n",
       "    </tr>\n",
       "    <tr>\n",
       "      <th>U_1%</th>\n",
       "      <td>1.603307e-01</td>\n",
       "      <td>1.000000</td>\n",
       "      <td>0.199591</td>\n",
       "      <td>6.053498e-03</td>\n",
       "      <td>2.253352e-04</td>\n",
       "      <td>2.944917e-03</td>\n",
       "      <td>-1.000000</td>\n",
       "      <td>1.000000</td>\n",
       "    </tr>\n",
       "    <tr>\n",
       "      <th>U_10%</th>\n",
       "      <td>1.453912e-04</td>\n",
       "      <td>1.000000</td>\n",
       "      <td>1.000000</td>\n",
       "      <td>1.000000e+00</td>\n",
       "      <td>1.521991e-01</td>\n",
       "      <td>9.640008e-01</td>\n",
       "      <td>1.000000</td>\n",
       "      <td>-1.000000</td>\n",
       "    </tr>\n",
       "  </tbody>\n",
       "</table>\n",
       "</div>"
      ],
      "text/plain": [
       "                  -Ctrl  Ctrl_DMEM  Ctrl_PBS       N_0.1%          N_1%   \\\n",
       "-Ctrl     -1.000000e+00   0.000105  0.000005  3.637458e-08  6.036714e-10   \n",
       "Ctrl_DMEM  1.047967e-04  -1.000000  1.000000  1.000000e+00  1.908515e-01   \n",
       "Ctrl_PBS   5.042285e-06   1.000000 -1.000000  1.000000e+00  1.000000e+00   \n",
       "N_0.1%     3.637458e-08   1.000000  1.000000 -1.000000e+00  1.000000e+00   \n",
       "N_1%       6.036714e-10   0.190851  1.000000  1.000000e+00 -1.000000e+00   \n",
       "N_10%      1.432701e-08   1.000000  1.000000  1.000000e+00  1.000000e+00   \n",
       "U_1%       1.603307e-01   1.000000  0.199591  6.053498e-03  2.253352e-04   \n",
       "U_10%      1.453912e-04   1.000000  1.000000  1.000000e+00  1.521991e-01   \n",
       "\n",
       "                 N_10%       U_1%     U_10%  \n",
       "-Ctrl      1.432701e-08  0.160331  0.000145  \n",
       "Ctrl_DMEM  1.000000e+00  1.000000  1.000000  \n",
       "Ctrl_PBS   1.000000e+00  0.199591  1.000000  \n",
       "N_0.1%     1.000000e+00  0.006053  1.000000  \n",
       "N_1%       1.000000e+00  0.000225  0.152199  \n",
       "N_10%     -1.000000e+00  0.002945  0.964001  \n",
       "U_1%       2.944917e-03 -1.000000  1.000000  \n",
       "U_10%      9.640008e-01  1.000000 -1.000000  "
      ]
     },
     "execution_count": 512,
     "metadata": {},
     "output_type": "execute_result"
    }
   ],
   "source": [
    "sp.posthoc_conover(df, val_col='TMRM', group_col='substance', p_adjust = 'bonferroni')"
   ]
  },
  {
   "cell_type": "code",
   "execution_count": 513,
   "metadata": {},
   "outputs": [],
   "source": [
    "# color variant 2\n",
    "cmap = ['1', '#fb6a4a',  '#08306b',  '#4292c6', '#c6dbef']\n",
    "heatmap_args = {'cmap': cmap, 'linewidths': 0.25, 'linecolor': '0.5', 'clip_on': False, 'square': True, 'cbar_ax_bbox': [0.80, 0.35, 0.04, 0.3]}"
   ]
  },
  {
   "cell_type": "code",
   "execution_count": null,
   "metadata": {},
   "outputs": [],
   "source": [
    "pc = sp.posthoc_conover(df, val_col='TMRM', group_col='substance', p_adjust='fdr_bh')\n",
    "sp.sign_plot(pc, **heatmap_args)"
   ]
  },
  {
   "cell_type": "code",
   "execution_count": 524,
   "metadata": {},
   "outputs": [
    {
     "data": {
      "text/plain": [
       "(<matplotlib.axes._subplots.AxesSubplot at 0x216124081d0>,\n",
       " <matplotlib.colorbar.ColorbarBase at 0x2161247b7b8>)"
      ]
     },
     "execution_count": 524,
     "metadata": {},
     "output_type": "execute_result"
    },
    {
     "data": {
      "image/png": "[encoded data removed]",
      "text/plain": [
       "<Figure size 432x288 with 2 Axes>"
      ]
     },
     "metadata": {
      "needs_background": "light"
     },
     "output_type": "display_data"
    }
   ],
   "source": [
    "pc = sp.posthoc_tukey(df, val_col='TMRM', group_col='substance')\n",
    "sp.sign_plot(pc, **heatmap_args)"
   ]
  },
  {
   "cell_type": "code",
   "execution_count": 500,
   "metadata": {},
   "outputs": [
    {
     "data": {
      "text/plain": [
       "(<matplotlib.axes._subplots.AxesSubplot at 0x21611105208>,\n",
       " <matplotlib.colorbar.ColorbarBase at 0x2161120f588>)"
      ]
     },
     "execution_count": 500,
     "metadata": {},
     "output_type": "execute_result"
    },
    {
     "data": {
      "image/png": "[encoded data removed]",
      "text/plain": [
       "<Figure size 432x288 with 2 Axes>"
      ]
     },
     "metadata": {
      "needs_background": "light"
     },
     "output_type": "display_data"
    }
   ],
   "source": [
    "sp.sign_plot(sp.posthoc_ttest(df.loc[df.substance != '-Ctrl'], val_col='TMRM', \n",
    "                              group_col='substance', \n",
    "                              p_adjust='holm'), \n",
    "             **heatmap_args)"
   ]
  },
  {
   "cell_type": "code",
   "execution_count": 439,
   "metadata": {
    "scrolled": true
   },
   "outputs": [
    {
     "data": {
      "text/plain": [
       "(<matplotlib.axes._subplots.AxesSubplot at 0x2160eebb080>,\n",
       " <matplotlib.colorbar.ColorbarBase at 0x2160ef2f4e0>)"
      ]
     },
     "execution_count": 439,
     "metadata": {},
     "output_type": "execute_result"
    },
    {
     "data": {
      "image/png": "[encoded data removed]",
      "text/plain": [
       "<Figure size 432x288 with 2 Axes>"
      ]
     },
     "metadata": {
      "needs_background": "light"
     },
     "output_type": "display_data"
    }
   ],
   "source": [
    "pc = sp.posthoc_conover(df, val_col='TMRM', group_col='substance', p_adjust='bonferroni')\n",
    "sp.sign_plot(pc, **heatmap_args)"
   ]
  },
  {
   "cell_type": "code",
   "execution_count": 440,
   "metadata": {},
   "outputs": [
    {
     "data": {
      "text/html": [
       "<div>\n",
       "<style scoped>\n",
       "    .dataframe tbody tr th:only-of-type {\n",
       "        vertical-align: middle;\n",
       "    }\n",
       "\n",
       "    .dataframe tbody tr th {\n",
       "        vertical-align: top;\n",
       "    }\n",
       "\n",
       "    .dataframe thead th {\n",
       "        text-align: right;\n",
       "    }\n",
       "</style>\n",
       "<table border=\"1\" class=\"dataframe\">\n",
       "  <thead>\n",
       "    <tr style=\"text-align: right;\">\n",
       "      <th></th>\n",
       "      <th>-Ctrl</th>\n",
       "      <th>Ctrl_DMEM</th>\n",
       "      <th>Ctrl_PBS</th>\n",
       "      <th>N_0.1%</th>\n",
       "      <th>N_1%</th>\n",
       "      <th>N_10%</th>\n",
       "      <th>U_1%</th>\n",
       "      <th>U_10%</th>\n",
       "    </tr>\n",
       "  </thead>\n",
       "  <tbody>\n",
       "    <tr>\n",
       "      <th>-Ctrl</th>\n",
       "      <td>-1.000000e+00</td>\n",
       "      <td>0.000105</td>\n",
       "      <td>0.000005</td>\n",
       "      <td>3.637458e-08</td>\n",
       "      <td>6.036714e-10</td>\n",
       "      <td>1.432701e-08</td>\n",
       "      <td>0.160331</td>\n",
       "      <td>0.000145</td>\n",
       "    </tr>\n",
       "    <tr>\n",
       "      <th>Ctrl_DMEM</th>\n",
       "      <td>1.047967e-04</td>\n",
       "      <td>-1.000000</td>\n",
       "      <td>1.000000</td>\n",
       "      <td>1.000000e+00</td>\n",
       "      <td>1.908515e-01</td>\n",
       "      <td>1.000000e+00</td>\n",
       "      <td>1.000000</td>\n",
       "      <td>1.000000</td>\n",
       "    </tr>\n",
       "    <tr>\n",
       "      <th>Ctrl_PBS</th>\n",
       "      <td>5.042285e-06</td>\n",
       "      <td>1.000000</td>\n",
       "      <td>-1.000000</td>\n",
       "      <td>1.000000e+00</td>\n",
       "      <td>1.000000e+00</td>\n",
       "      <td>1.000000e+00</td>\n",
       "      <td>0.199591</td>\n",
       "      <td>1.000000</td>\n",
       "    </tr>\n",
       "    <tr>\n",
       "      <th>N_0.1%</th>\n",
       "      <td>3.637458e-08</td>\n",
       "      <td>1.000000</td>\n",
       "      <td>1.000000</td>\n",
       "      <td>-1.000000e+00</td>\n",
       "      <td>1.000000e+00</td>\n",
       "      <td>1.000000e+00</td>\n",
       "      <td>0.006053</td>\n",
       "      <td>1.000000</td>\n",
       "    </tr>\n",
       "    <tr>\n",
       "      <th>N_1%</th>\n",
       "      <td>6.036714e-10</td>\n",
       "      <td>0.190851</td>\n",
       "      <td>1.000000</td>\n",
       "      <td>1.000000e+00</td>\n",
       "      <td>-1.000000e+00</td>\n",
       "      <td>1.000000e+00</td>\n",
       "      <td>0.000225</td>\n",
       "      <td>0.152199</td>\n",
       "    </tr>\n",
       "    <tr>\n",
       "      <th>N_10%</th>\n",
       "      <td>1.432701e-08</td>\n",
       "      <td>1.000000</td>\n",
       "      <td>1.000000</td>\n",
       "      <td>1.000000e+00</td>\n",
       "      <td>1.000000e+00</td>\n",
       "      <td>-1.000000e+00</td>\n",
       "      <td>0.002945</td>\n",
       "      <td>0.964001</td>\n",
       "    </tr>\n",
       "    <tr>\n",
       "      <th>U_1%</th>\n",
       "      <td>1.603307e-01</td>\n",
       "      <td>1.000000</td>\n",
       "      <td>0.199591</td>\n",
       "      <td>6.053498e-03</td>\n",
       "      <td>2.253352e-04</td>\n",
       "      <td>2.944917e-03</td>\n",
       "      <td>-1.000000</td>\n",
       "      <td>1.000000</td>\n",
       "    </tr>\n",
       "    <tr>\n",
       "      <th>U_10%</th>\n",
       "      <td>1.453912e-04</td>\n",
       "      <td>1.000000</td>\n",
       "      <td>1.000000</td>\n",
       "      <td>1.000000e+00</td>\n",
       "      <td>1.521991e-01</td>\n",
       "      <td>9.640008e-01</td>\n",
       "      <td>1.000000</td>\n",
       "      <td>-1.000000</td>\n",
       "    </tr>\n",
       "  </tbody>\n",
       "</table>\n",
       "</div>"
      ],
      "text/plain": [
       "                  -Ctrl  Ctrl_DMEM  Ctrl_PBS       N_0.1%          N_1%   \\\n",
       "-Ctrl     -1.000000e+00   0.000105  0.000005  3.637458e-08  6.036714e-10   \n",
       "Ctrl_DMEM  1.047967e-04  -1.000000  1.000000  1.000000e+00  1.908515e-01   \n",
       "Ctrl_PBS   5.042285e-06   1.000000 -1.000000  1.000000e+00  1.000000e+00   \n",
       "N_0.1%     3.637458e-08   1.000000  1.000000 -1.000000e+00  1.000000e+00   \n",
       "N_1%       6.036714e-10   0.190851  1.000000  1.000000e+00 -1.000000e+00   \n",
       "N_10%      1.432701e-08   1.000000  1.000000  1.000000e+00  1.000000e+00   \n",
       "U_1%       1.603307e-01   1.000000  0.199591  6.053498e-03  2.253352e-04   \n",
       "U_10%      1.453912e-04   1.000000  1.000000  1.000000e+00  1.521991e-01   \n",
       "\n",
       "                 N_10%       U_1%     U_10%  \n",
       "-Ctrl      1.432701e-08  0.160331  0.000145  \n",
       "Ctrl_DMEM  1.000000e+00  1.000000  1.000000  \n",
       "Ctrl_PBS   1.000000e+00  0.199591  1.000000  \n",
       "N_0.1%     1.000000e+00  0.006053  1.000000  \n",
       "N_1%       1.000000e+00  0.000225  0.152199  \n",
       "N_10%     -1.000000e+00  0.002945  0.964001  \n",
       "U_1%       2.944917e-03 -1.000000  1.000000  \n",
       "U_10%      9.640008e-01  1.000000 -1.000000  "
      ]
     },
     "execution_count": 440,
     "metadata": {},
     "output_type": "execute_result"
    }
   ],
   "source": [
    "sp.posthoc_conover(df, val_col='TMRM', group_col='substance', p_adjust='bonferroni')"
   ]
  },
  {
   "cell_type": "code",
   "execution_count": 441,
   "metadata": {},
   "outputs": [
    {
     "name": "stderr",
     "output_type": "stream",
     "text": [
      "c:\\python37\\lib\\site-packages\\scipy\\stats\\morestats.py:1680: UserWarning: approximate p-value will be computed by extrapolation\n",
      "  warnings.warn(\"approximate p-value will be computed by extrapolation\")\n",
      "c:\\python37\\lib\\site-packages\\scipy\\stats\\morestats.py:1680: UserWarning: approximate p-value will be computed by extrapolation\n",
      "  warnings.warn(\"approximate p-value will be computed by extrapolation\")\n",
      "c:\\python37\\lib\\site-packages\\scipy\\stats\\morestats.py:1680: UserWarning: approximate p-value will be computed by extrapolation\n",
      "  warnings.warn(\"approximate p-value will be computed by extrapolation\")\n",
      "c:\\python37\\lib\\site-packages\\scipy\\stats\\morestats.py:1680: UserWarning: approximate p-value will be computed by extrapolation\n",
      "  warnings.warn(\"approximate p-value will be computed by extrapolation\")\n",
      "c:\\python37\\lib\\site-packages\\scipy\\stats\\morestats.py:1680: UserWarning: approximate p-value will be computed by extrapolation\n",
      "  warnings.warn(\"approximate p-value will be computed by extrapolation\")\n",
      "c:\\python37\\lib\\site-packages\\scipy\\stats\\morestats.py:1680: UserWarning: approximate p-value will be computed by extrapolation\n",
      "  warnings.warn(\"approximate p-value will be computed by extrapolation\")\n",
      "c:\\python37\\lib\\site-packages\\scipy\\stats\\morestats.py:1680: UserWarning: approximate p-value will be computed by extrapolation\n",
      "  warnings.warn(\"approximate p-value will be computed by extrapolation\")\n",
      "c:\\python37\\lib\\site-packages\\scipy\\stats\\morestats.py:1680: UserWarning: approximate p-value will be computed by extrapolation\n",
      "  warnings.warn(\"approximate p-value will be computed by extrapolation\")\n",
      "c:\\python37\\lib\\site-packages\\scipy\\stats\\morestats.py:1680: UserWarning: approximate p-value will be computed by extrapolation\n",
      "  warnings.warn(\"approximate p-value will be computed by extrapolation\")\n",
      "c:\\python37\\lib\\site-packages\\scipy\\stats\\morestats.py:1680: UserWarning: approximate p-value will be computed by extrapolation\n",
      "  warnings.warn(\"approximate p-value will be computed by extrapolation\")\n",
      "c:\\python37\\lib\\site-packages\\scipy\\stats\\morestats.py:1680: UserWarning: approximate p-value will be computed by extrapolation\n",
      "  warnings.warn(\"approximate p-value will be computed by extrapolation\")\n",
      "c:\\python37\\lib\\site-packages\\scipy\\stats\\morestats.py:1680: UserWarning: approximate p-value will be computed by extrapolation\n",
      "  warnings.warn(\"approximate p-value will be computed by extrapolation\")\n",
      "c:\\python37\\lib\\site-packages\\scipy\\stats\\morestats.py:1680: UserWarning: approximate p-value will be computed by extrapolation\n",
      "  warnings.warn(\"approximate p-value will be computed by extrapolation\")\n",
      "c:\\python37\\lib\\site-packages\\scipy\\stats\\morestats.py:1680: UserWarning: approximate p-value will be computed by extrapolation\n",
      "  warnings.warn(\"approximate p-value will be computed by extrapolation\")\n",
      "c:\\python37\\lib\\site-packages\\scipy\\stats\\morestats.py:1680: UserWarning: approximate p-value will be computed by extrapolation\n",
      "  warnings.warn(\"approximate p-value will be computed by extrapolation\")\n",
      "c:\\python37\\lib\\site-packages\\scipy\\stats\\morestats.py:1680: UserWarning: approximate p-value will be computed by extrapolation\n",
      "  warnings.warn(\"approximate p-value will be computed by extrapolation\")\n",
      "c:\\python37\\lib\\site-packages\\scipy\\stats\\morestats.py:1680: UserWarning: approximate p-value will be computed by extrapolation\n",
      "  warnings.warn(\"approximate p-value will be computed by extrapolation\")\n"
     ]
    },
    {
     "data": {
      "text/plain": [
       "(<matplotlib.axes._subplots.AxesSubplot at 0x2160ef57358>,\n",
       " <matplotlib.colorbar.ColorbarBase at 0x2160efc6a20>)"
      ]
     },
     "execution_count": 441,
     "metadata": {},
     "output_type": "execute_result"
    },
    {
     "data": {
      "image/png": "[encoded data removed]",
      "text/plain": [
       "<Figure size 432x288 with 2 Axes>"
      ]
     },
     "metadata": {
      "needs_background": "light"
     },
     "output_type": "display_data"
    }
   ],
   "source": [
    "\n",
    "pc1 = sp.posthoc_anderson(df, val_col='TMRM', group_col='substance', p_adjust='bonferroni')\n",
    "sp.sign_plot(pc1, **heatmap_args)"
   ]
  },
  {
   "cell_type": "code",
   "execution_count": 442,
   "metadata": {},
   "outputs": [
    {
     "data": {
      "text/html": [
       "<div>\n",
       "<style scoped>\n",
       "    .dataframe tbody tr th:only-of-type {\n",
       "        vertical-align: middle;\n",
       "    }\n",
       "\n",
       "    .dataframe tbody tr th {\n",
       "        vertical-align: top;\n",
       "    }\n",
       "\n",
       "    .dataframe thead th {\n",
       "        text-align: right;\n",
       "    }\n",
       "</style>\n",
       "<table border=\"1\" class=\"dataframe\">\n",
       "  <thead>\n",
       "    <tr style=\"text-align: right;\">\n",
       "      <th></th>\n",
       "      <th>-Ctrl</th>\n",
       "      <th>Ctrl_DMEM</th>\n",
       "      <th>Ctrl_PBS</th>\n",
       "      <th>N_0.1%</th>\n",
       "      <th>N_1%</th>\n",
       "      <th>N_10%</th>\n",
       "      <th>U_1%</th>\n",
       "      <th>U_10%</th>\n",
       "    </tr>\n",
       "  </thead>\n",
       "  <tbody>\n",
       "    <tr>\n",
       "      <th>-Ctrl</th>\n",
       "      <td>-1.000000</td>\n",
       "      <td>0.021934</td>\n",
       "      <td>0.002938</td>\n",
       "      <td>0.000077</td>\n",
       "      <td>0.000003</td>\n",
       "      <td>0.000037</td>\n",
       "      <td>1.000000</td>\n",
       "      <td>0.026995</td>\n",
       "    </tr>\n",
       "    <tr>\n",
       "      <th>Ctrl_DMEM</th>\n",
       "      <td>0.021934</td>\n",
       "      <td>-1.000000</td>\n",
       "      <td>1.000000</td>\n",
       "      <td>1.000000</td>\n",
       "      <td>1.000000</td>\n",
       "      <td>1.000000</td>\n",
       "      <td>1.000000</td>\n",
       "      <td>1.000000</td>\n",
       "    </tr>\n",
       "    <tr>\n",
       "      <th>Ctrl_PBS</th>\n",
       "      <td>0.002938</td>\n",
       "      <td>1.000000</td>\n",
       "      <td>-1.000000</td>\n",
       "      <td>1.000000</td>\n",
       "      <td>1.000000</td>\n",
       "      <td>1.000000</td>\n",
       "      <td>1.000000</td>\n",
       "      <td>1.000000</td>\n",
       "    </tr>\n",
       "    <tr>\n",
       "      <th>N_0.1%</th>\n",
       "      <td>0.000077</td>\n",
       "      <td>1.000000</td>\n",
       "      <td>1.000000</td>\n",
       "      <td>-1.000000</td>\n",
       "      <td>1.000000</td>\n",
       "      <td>1.000000</td>\n",
       "      <td>0.256231</td>\n",
       "      <td>1.000000</td>\n",
       "    </tr>\n",
       "    <tr>\n",
       "      <th>N_1%</th>\n",
       "      <td>0.000003</td>\n",
       "      <td>1.000000</td>\n",
       "      <td>1.000000</td>\n",
       "      <td>1.000000</td>\n",
       "      <td>-1.000000</td>\n",
       "      <td>1.000000</td>\n",
       "      <td>0.035545</td>\n",
       "      <td>1.000000</td>\n",
       "    </tr>\n",
       "    <tr>\n",
       "      <th>N_10%</th>\n",
       "      <td>0.000037</td>\n",
       "      <td>1.000000</td>\n",
       "      <td>1.000000</td>\n",
       "      <td>1.000000</td>\n",
       "      <td>1.000000</td>\n",
       "      <td>-1.000000</td>\n",
       "      <td>0.168427</td>\n",
       "      <td>1.000000</td>\n",
       "    </tr>\n",
       "    <tr>\n",
       "      <th>U_1%</th>\n",
       "      <td>1.000000</td>\n",
       "      <td>1.000000</td>\n",
       "      <td>1.000000</td>\n",
       "      <td>0.256231</td>\n",
       "      <td>0.035545</td>\n",
       "      <td>0.168427</td>\n",
       "      <td>-1.000000</td>\n",
       "      <td>1.000000</td>\n",
       "    </tr>\n",
       "    <tr>\n",
       "      <th>U_10%</th>\n",
       "      <td>0.026995</td>\n",
       "      <td>1.000000</td>\n",
       "      <td>1.000000</td>\n",
       "      <td>1.000000</td>\n",
       "      <td>1.000000</td>\n",
       "      <td>1.000000</td>\n",
       "      <td>1.000000</td>\n",
       "      <td>-1.000000</td>\n",
       "    </tr>\n",
       "  </tbody>\n",
       "</table>\n",
       "</div>"
      ],
      "text/plain": [
       "              -Ctrl  Ctrl_DMEM  Ctrl_PBS   N_0.1%      N_1%     N_10%   \\\n",
       "-Ctrl     -1.000000   0.021934  0.002938  0.000077  0.000003  0.000037   \n",
       "Ctrl_DMEM  0.021934  -1.000000  1.000000  1.000000  1.000000  1.000000   \n",
       "Ctrl_PBS   0.002938   1.000000 -1.000000  1.000000  1.000000  1.000000   \n",
       "N_0.1%     0.000077   1.000000  1.000000 -1.000000  1.000000  1.000000   \n",
       "N_1%       0.000003   1.000000  1.000000  1.000000 -1.000000  1.000000   \n",
       "N_10%      0.000037   1.000000  1.000000  1.000000  1.000000 -1.000000   \n",
       "U_1%       1.000000   1.000000  1.000000  0.256231  0.035545  0.168427   \n",
       "U_10%      0.026995   1.000000  1.000000  1.000000  1.000000  1.000000   \n",
       "\n",
       "               U_1%     U_10%  \n",
       "-Ctrl      1.000000  0.026995  \n",
       "Ctrl_DMEM  1.000000  1.000000  \n",
       "Ctrl_PBS   1.000000  1.000000  \n",
       "N_0.1%     0.256231  1.000000  \n",
       "N_1%       0.035545  1.000000  \n",
       "N_10%      0.168427  1.000000  \n",
       "U_1%      -1.000000  1.000000  \n",
       "U_10%      1.000000 -1.000000  "
      ]
     },
     "execution_count": 442,
     "metadata": {},
     "output_type": "execute_result"
    }
   ],
   "source": [
    "sp.posthoc_dunn(df, val_col='TMRM', group_col='substance', p_adjust='bonferroni')"
   ]
  },
  {
   "cell_type": "code",
   "execution_count": 443,
   "metadata": {},
   "outputs": [
    {
     "data": {
      "text/plain": [
       "(<matplotlib.axes._subplots.AxesSubplot at 0x2160eff02e8>,\n",
       " <matplotlib.colorbar.ColorbarBase at 0x2160f060be0>)"
      ]
     },
     "execution_count": 443,
     "metadata": {},
     "output_type": "execute_result"
    },
    {
     "data": {
      "image/png": "[encoded data removed]",
      "text/plain": [
       "<Figure size 432x288 with 2 Axes>"
      ]
     },
     "metadata": {
      "needs_background": "light"
     },
     "output_type": "display_data"
    }
   ],
   "source": [
    "pc2 = sp.posthoc_dunn(df, val_col='TMRM', group_col='substance', p_adjust='bonferroni')\n",
    "sp.sign_plot(pc2, **heatmap_args)"
   ]
  },
  {
   "cell_type": "code",
   "execution_count": 444,
   "metadata": {},
   "outputs": [
    {
     "data": {
      "text/html": [
       "<div>\n",
       "<style scoped>\n",
       "    .dataframe tbody tr th:only-of-type {\n",
       "        vertical-align: middle;\n",
       "    }\n",
       "\n",
       "    .dataframe tbody tr th {\n",
       "        vertical-align: top;\n",
       "    }\n",
       "\n",
       "    .dataframe thead th {\n",
       "        text-align: right;\n",
       "    }\n",
       "</style>\n",
       "<table border=\"1\" class=\"dataframe\">\n",
       "  <thead>\n",
       "    <tr style=\"text-align: right;\">\n",
       "      <th></th>\n",
       "      <th>-Ctrl</th>\n",
       "      <th>Ctrl_DMEM</th>\n",
       "      <th>Ctrl_PBS</th>\n",
       "      <th>N_0.1%</th>\n",
       "      <th>N_1%</th>\n",
       "      <th>N_10%</th>\n",
       "      <th>U_1%</th>\n",
       "      <th>U_10%</th>\n",
       "    </tr>\n",
       "  </thead>\n",
       "  <tbody>\n",
       "    <tr>\n",
       "      <th>-Ctrl</th>\n",
       "      <td>-1.000000</td>\n",
       "      <td>0.004018</td>\n",
       "      <td>0.004018</td>\n",
       "      <td>0.004018</td>\n",
       "      <td>0.004018</td>\n",
       "      <td>0.004018</td>\n",
       "      <td>0.004018</td>\n",
       "      <td>0.004018</td>\n",
       "    </tr>\n",
       "    <tr>\n",
       "      <th>Ctrl_DMEM</th>\n",
       "      <td>0.004018</td>\n",
       "      <td>-1.000000</td>\n",
       "      <td>1.000000</td>\n",
       "      <td>1.000000</td>\n",
       "      <td>1.000000</td>\n",
       "      <td>1.000000</td>\n",
       "      <td>1.000000</td>\n",
       "      <td>1.000000</td>\n",
       "    </tr>\n",
       "    <tr>\n",
       "      <th>Ctrl_PBS</th>\n",
       "      <td>0.004018</td>\n",
       "      <td>1.000000</td>\n",
       "      <td>-1.000000</td>\n",
       "      <td>1.000000</td>\n",
       "      <td>1.000000</td>\n",
       "      <td>1.000000</td>\n",
       "      <td>1.000000</td>\n",
       "      <td>1.000000</td>\n",
       "    </tr>\n",
       "    <tr>\n",
       "      <th>N_0.1%</th>\n",
       "      <td>0.004018</td>\n",
       "      <td>1.000000</td>\n",
       "      <td>1.000000</td>\n",
       "      <td>-1.000000</td>\n",
       "      <td>1.000000</td>\n",
       "      <td>1.000000</td>\n",
       "      <td>0.953937</td>\n",
       "      <td>1.000000</td>\n",
       "    </tr>\n",
       "    <tr>\n",
       "      <th>N_1%</th>\n",
       "      <td>0.004018</td>\n",
       "      <td>1.000000</td>\n",
       "      <td>1.000000</td>\n",
       "      <td>1.000000</td>\n",
       "      <td>-1.000000</td>\n",
       "      <td>1.000000</td>\n",
       "      <td>0.011544</td>\n",
       "      <td>0.011544</td>\n",
       "    </tr>\n",
       "    <tr>\n",
       "      <th>N_10%</th>\n",
       "      <td>0.004018</td>\n",
       "      <td>1.000000</td>\n",
       "      <td>1.000000</td>\n",
       "      <td>1.000000</td>\n",
       "      <td>1.000000</td>\n",
       "      <td>-1.000000</td>\n",
       "      <td>0.011544</td>\n",
       "      <td>0.011544</td>\n",
       "    </tr>\n",
       "    <tr>\n",
       "      <th>U_1%</th>\n",
       "      <td>0.004018</td>\n",
       "      <td>1.000000</td>\n",
       "      <td>1.000000</td>\n",
       "      <td>0.953937</td>\n",
       "      <td>0.011544</td>\n",
       "      <td>0.011544</td>\n",
       "      <td>-1.000000</td>\n",
       "      <td>0.292440</td>\n",
       "    </tr>\n",
       "    <tr>\n",
       "      <th>U_10%</th>\n",
       "      <td>0.004018</td>\n",
       "      <td>1.000000</td>\n",
       "      <td>1.000000</td>\n",
       "      <td>1.000000</td>\n",
       "      <td>0.011544</td>\n",
       "      <td>0.011544</td>\n",
       "      <td>0.292440</td>\n",
       "      <td>-1.000000</td>\n",
       "    </tr>\n",
       "  </tbody>\n",
       "</table>\n",
       "</div>"
      ],
      "text/plain": [
       "              -Ctrl  Ctrl_DMEM  Ctrl_PBS   N_0.1%      N_1%     N_10%   \\\n",
       "-Ctrl     -1.000000   0.004018  0.004018  0.004018  0.004018  0.004018   \n",
       "Ctrl_DMEM  0.004018  -1.000000  1.000000  1.000000  1.000000  1.000000   \n",
       "Ctrl_PBS   0.004018   1.000000 -1.000000  1.000000  1.000000  1.000000   \n",
       "N_0.1%     0.004018   1.000000  1.000000 -1.000000  1.000000  1.000000   \n",
       "N_1%       0.004018   1.000000  1.000000  1.000000 -1.000000  1.000000   \n",
       "N_10%      0.004018   1.000000  1.000000  1.000000  1.000000 -1.000000   \n",
       "U_1%       0.004018   1.000000  1.000000  0.953937  0.011544  0.011544   \n",
       "U_10%      0.004018   1.000000  1.000000  1.000000  0.011544  0.011544   \n",
       "\n",
       "               U_1%     U_10%  \n",
       "-Ctrl      0.004018  0.004018  \n",
       "Ctrl_DMEM  1.000000  1.000000  \n",
       "Ctrl_PBS   1.000000  1.000000  \n",
       "N_0.1%     0.953937  1.000000  \n",
       "N_1%       0.011544  0.011544  \n",
       "N_10%      0.011544  0.011544  \n",
       "U_1%      -1.000000  0.292440  \n",
       "U_10%      0.292440 -1.000000  "
      ]
     },
     "execution_count": 444,
     "metadata": {},
     "output_type": "execute_result"
    }
   ],
   "source": [
    "sp.posthoc_mannwhitney(df, val_col='TMRM', group_col='substance', p_adjust='bonferroni')"
   ]
  },
  {
   "cell_type": "code",
   "execution_count": 445,
   "metadata": {},
   "outputs": [
    {
     "data": {
      "text/plain": [
       "(<matplotlib.axes._subplots.AxesSubplot at 0x2160f08a470>,\n",
       " <matplotlib.colorbar.ColorbarBase at 0x2160f0ff048>)"
      ]
     },
     "execution_count": 445,
     "metadata": {},
     "output_type": "execute_result"
    },
    {
     "data": {
      "image/png": "[encoded data removed]",
      "text/plain": [
       "<Figure size 432x288 with 2 Axes>"
      ]
     },
     "metadata": {
      "needs_background": "light"
     },
     "output_type": "display_data"
    }
   ],
   "source": [
    "pc3 = sp.posthoc_dunn(df, val_col='TMRM', group_col='substance', p_adjust='bonferroni')\n",
    "sp.sign_plot(pc3, **heatmap_args)"
   ]
  },
  {
   "cell_type": "code",
   "execution_count": 446,
   "metadata": {},
   "outputs": [
    {
     "data": {
      "text/plain": [
       "(<matplotlib.axes._subplots.AxesSubplot at 0x2160f11d358>,\n",
       " <matplotlib.colorbar.ColorbarBase at 0x2160f1990f0>)"
      ]
     },
     "execution_count": 446,
     "metadata": {},
     "output_type": "execute_result"
    },
    {
     "data": {
      "image/png": "[encoded data removed]",
      "text/plain": [
       "<Figure size 432x288 with 2 Axes>"
      ]
     },
     "metadata": {
      "needs_background": "light"
     },
     "output_type": "display_data"
    }
   ],
   "source": [
    "pc3 = sp.posthoc_mannwhitney(df, val_col='TMRM', group_col='substance', p_adjust='fdr_bh')\n",
    "sp.sign_plot(pc3, **heatmap_args)"
   ]
  },
  {
   "cell_type": "code",
   "execution_count": 447,
   "metadata": {},
   "outputs": [
    {
     "data": {
      "text/plain": [
       "(<matplotlib.axes._subplots.AxesSubplot at 0x2160f1b4ba8>,\n",
       " <matplotlib.colorbar.ColorbarBase at 0x2160f22e588>)"
      ]
     },
     "execution_count": 447,
     "metadata": {},
     "output_type": "execute_result"
    },
    {
     "data": {
      "image/png": "[encoded data removed]",
      "text/plain": [
       "<Figure size 432x288 with 2 Axes>"
      ]
     },
     "metadata": {
      "needs_background": "light"
     },
     "output_type": "display_data"
    }
   ],
   "source": [
    "sp.posthoc_scheffe(df, val_col='TMRM', group_col='substance', p_adjust='fdr_bh')\n",
    "pc3 = sp.posthoc_scheffe(df, val_col='TMRM', group_col='substance', p_adjust='fdr_bh')\n",
    "sp.sign_plot(pc3, **heatmap_args)"
   ]
  },
  {
   "cell_type": "code",
   "execution_count": 449,
   "metadata": {
    "scrolled": true
   },
   "outputs": [
    {
     "data": {
      "text/plain": [
       "(<matplotlib.axes._subplots.AxesSubplot at 0x2160f2d7828>,\n",
       " <matplotlib.colorbar.ColorbarBase at 0x2160f353588>)"
      ]
     },
     "execution_count": 449,
     "metadata": {},
     "output_type": "execute_result"
    },
    {
     "data": {
      "image/png": "[encoded data removed]",
      "text/plain": [
       "<Figure size 432x288 with 2 Axes>"
      ]
     },
     "metadata": {
      "needs_background": "light"
     },
     "output_type": "display_data"
    }
   ],
   "source": [
    "sp.sign_plot(sp.posthoc_ttest(df, val_col='TMRM', group_col='substance', p_adjust='holm'), **heatmap_args)"
   ]
  },
  {
   "cell_type": "code",
   "execution_count": 450,
   "metadata": {},
   "outputs": [
    {
     "data": {
      "text/plain": [
       "(<matplotlib.axes._subplots.AxesSubplot at 0x2160f37b160>,\n",
       " <matplotlib.colorbar.ColorbarBase at 0x2160f3e8780>)"
      ]
     },
     "execution_count": 450,
     "metadata": {},
     "output_type": "execute_result"
    },
    {
     "data": {
      "image/png": "[encoded data removed]",
      "text/plain": [
       "<Figure size 432x288 with 2 Axes>"
      ]
     },
     "metadata": {
      "needs_background": "light"
     },
     "output_type": "display_data"
    }
   ],
   "source": [
    "sp.sign_plot(sp.posthoc_ttest(df, val_col='TMRM', group_col='substance', p_adjust='bonferroni'), **heatmap_args)"
   ]
  },
  {
   "cell_type": "code",
   "execution_count": 451,
   "metadata": {},
   "outputs": [
    {
     "data": {
      "text/plain": [
       "1.899253802016037e-07"
      ]
     },
     "execution_count": 451,
     "metadata": {},
     "output_type": "execute_result"
    }
   ],
   "source": [
    "data = [df.loc[ids, 'TMRM'].values for ids in df.groupby('substance').groups.values()]\n",
    "H, p = ss.kruskal(*data)\n",
    "p"
   ]
  },
  {
   "cell_type": "code",
   "execution_count": 452,
   "metadata": {},
   "outputs": [
    {
     "ename": "ValueError",
     "evalue": "Unequal N in wilcoxon.  Aborting.",
     "output_type": "error",
     "traceback": [
      "\u001b[1;31m---------------------------------------------------------------------------\u001b[0m",
      "\u001b[1;31mValueError\u001b[0m                                Traceback (most recent call last)",
      "\u001b[1;32m<ipython-input-452-5aaab39dc77c>\u001b[0m in \u001b[0;36m<module>\u001b[1;34m\u001b[0m\n\u001b[1;32m----> 1\u001b[1;33m \u001b[0msp\u001b[0m\u001b[1;33m.\u001b[0m\u001b[0msign_plot\u001b[0m\u001b[1;33m(\u001b[0m\u001b[0msp\u001b[0m\u001b[1;33m.\u001b[0m\u001b[0mposthoc_wilcoxon\u001b[0m\u001b[1;33m(\u001b[0m\u001b[0mdf\u001b[0m\u001b[1;33m,\u001b[0m \u001b[0mval_col\u001b[0m\u001b[1;33m=\u001b[0m\u001b[1;34m'TMRM'\u001b[0m\u001b[1;33m,\u001b[0m \u001b[0mgroup_col\u001b[0m\u001b[1;33m=\u001b[0m\u001b[1;34m'substance'\u001b[0m\u001b[1;33m,\u001b[0m \u001b[0mp_adjust\u001b[0m\u001b[1;33m=\u001b[0m\u001b[1;32mNone\u001b[0m\u001b[1;33m)\u001b[0m\u001b[1;33m,\u001b[0m \u001b[1;33m**\u001b[0m\u001b[0mheatmap_args\u001b[0m\u001b[1;33m)\u001b[0m\u001b[1;33m\u001b[0m\u001b[0m\n\u001b[0m",
      "\u001b[1;32mc:\\python37\\lib\\site-packages\\scikit_posthocs\\_posthocs.py\u001b[0m in \u001b[0;36mposthoc_wilcoxon\u001b[1;34m(a, val_col, group_col, zero_method, correction, p_adjust, sort)\u001b[0m\n\u001b[0;32m   2075\u001b[0m         vs[i, j] = ss.wilcoxon(x.loc[x[_group_col] == groups[i], _val_col],\n\u001b[0;32m   2076\u001b[0m                                \u001b[0mx\u001b[0m\u001b[1;33m.\u001b[0m\u001b[0mloc\u001b[0m\u001b[1;33m[\u001b[0m\u001b[0mx\u001b[0m\u001b[1;33m[\u001b[0m\u001b[0m_group_col\u001b[0m\u001b[1;33m]\u001b[0m \u001b[1;33m==\u001b[0m \u001b[0mgroups\u001b[0m\u001b[1;33m[\u001b[0m\u001b[0mj\u001b[0m\u001b[1;33m]\u001b[0m\u001b[1;33m,\u001b[0m \u001b[0m_val_col\u001b[0m\u001b[1;33m]\u001b[0m\u001b[1;33m,\u001b[0m\u001b[1;33m\u001b[0m\u001b[0m\n\u001b[1;32m-> 2077\u001b[1;33m                                zero_method=zero_method, correction=correction)[1]\n\u001b[0m\u001b[0;32m   2078\u001b[0m \u001b[1;33m\u001b[0m\u001b[0m\n\u001b[0;32m   2079\u001b[0m     \u001b[1;32mif\u001b[0m \u001b[0mp_adjust\u001b[0m\u001b[1;33m:\u001b[0m\u001b[1;33m\u001b[0m\u001b[0m\n",
      "\u001b[1;32mc:\\python37\\lib\\site-packages\\scipy\\stats\\morestats.py\u001b[0m in \u001b[0;36mwilcoxon\u001b[1;34m(x, y, zero_method, correction)\u001b[0m\n\u001b[0;32m   2377\u001b[0m         \u001b[0mx\u001b[0m\u001b[1;33m,\u001b[0m \u001b[0my\u001b[0m \u001b[1;33m=\u001b[0m \u001b[0mmap\u001b[0m\u001b[1;33m(\u001b[0m\u001b[0masarray\u001b[0m\u001b[1;33m,\u001b[0m \u001b[1;33m(\u001b[0m\u001b[0mx\u001b[0m\u001b[1;33m,\u001b[0m \u001b[0my\u001b[0m\u001b[1;33m)\u001b[0m\u001b[1;33m)\u001b[0m\u001b[1;33m\u001b[0m\u001b[0m\n\u001b[0;32m   2378\u001b[0m         \u001b[1;32mif\u001b[0m \u001b[0mlen\u001b[0m\u001b[1;33m(\u001b[0m\u001b[0mx\u001b[0m\u001b[1;33m)\u001b[0m \u001b[1;33m!=\u001b[0m \u001b[0mlen\u001b[0m\u001b[1;33m(\u001b[0m\u001b[0my\u001b[0m\u001b[1;33m)\u001b[0m\u001b[1;33m:\u001b[0m\u001b[1;33m\u001b[0m\u001b[0m\n\u001b[1;32m-> 2379\u001b[1;33m             \u001b[1;32mraise\u001b[0m \u001b[0mValueError\u001b[0m\u001b[1;33m(\u001b[0m\u001b[1;34m'Unequal N in wilcoxon.  Aborting.'\u001b[0m\u001b[1;33m)\u001b[0m\u001b[1;33m\u001b[0m\u001b[0m\n\u001b[0m\u001b[0;32m   2380\u001b[0m         \u001b[0md\u001b[0m \u001b[1;33m=\u001b[0m \u001b[0mx\u001b[0m \u001b[1;33m-\u001b[0m \u001b[0my\u001b[0m\u001b[1;33m\u001b[0m\u001b[0m\n\u001b[0;32m   2381\u001b[0m \u001b[1;33m\u001b[0m\u001b[0m\n",
      "\u001b[1;31mValueError\u001b[0m: Unequal N in wilcoxon.  Aborting."
     ]
    }
   ],
   "source": [
    "sp.sign_plot(sp.posthoc_wilcoxon(df, val_col='TMRM', group_col='substance', p_adjust=None), **heatmap_args)"
   ]
  },
  {
   "cell_type": "code",
   "execution_count": 453,
   "metadata": {},
   "outputs": [
    {
     "data": {
      "text/plain": [
       "(<matplotlib.axes._subplots.AxesSubplot at 0x2160f42d710>,\n",
       " <matplotlib.colorbar.ColorbarBase at 0x2160f49ecf8>)"
      ]
     },
     "execution_count": 453,
     "metadata": {},
     "output_type": "execute_result"
    },
    {
     "data": {
      "image/png": "[encoded data removed]",
      "text/plain": [
       "<Figure size 432x288 with 2 Axes>"
      ]
     },
     "metadata": {
      "needs_background": "light"
     },
     "output_type": "display_data"
    }
   ],
   "source": [
    "sp.sign_plot(sp.posthoc_vanwaerden(df, val_col='TMRM', group_col='substance', p_adjust=None), **heatmap_args)"
   ]
  },
  {
   "cell_type": "code",
   "execution_count": 454,
   "metadata": {},
   "outputs": [
    {
     "data": {
      "text/plain": [
       "((<matplotlib.axes._subplots.AxesSubplot at 0x2160f4c2828>,\n",
       "  <matplotlib.colorbar.ColorbarBase at 0x2160f5400b8>),)"
      ]
     },
     "execution_count": 454,
     "metadata": {},
     "output_type": "execute_result"
    },
    {
     "data": {
      "image/png": "[encoded data removed]",
      "text/plain": [
       "<Figure size 432x288 with 2 Axes>"
      ]
     },
     "metadata": {
      "needs_background": "light"
     },
     "output_type": "display_data"
    }
   ],
   "source": [
    "sp.sign_plot(sp.posthoc_vanwaerden(df, val_col='TMRM', group_col='substance', p_adjust='fdr_bh'), **heatmap_args),"
   ]
  },
  {
   "cell_type": "code",
   "execution_count": 460,
   "metadata": {},
   "outputs": [
    {
     "data": {
      "text/plain": [
       "((<matplotlib.axes._subplots.AxesSubplot at 0x2160f693358>,\n",
       "  <matplotlib.colorbar.ColorbarBase at 0x2160f7049e8>),)"
      ]
     },
     "execution_count": 460,
     "metadata": {},
     "output_type": "execute_result"
    },
    {
     "data": {
      "image/png": "[encoded data removed]",
      "text/plain": [
       "<Figure size 432x288 with 2 Axes>"
      ]
     },
     "metadata": {
      "needs_background": "light"
     },
     "output_type": "display_data"
    }
   ],
   "source": [
    "sp.sign_plot(sp.posthoc_ttest(df, val_col='TMRM', group_col='substance', p_adjust='bonferroni'), **heatmap_args),"
   ]
  },
  {
   "cell_type": "code",
   "execution_count": 461,
   "metadata": {},
   "outputs": [
    {
     "data": {
      "text/plain": [
       "((<matplotlib.axes._subplots.AxesSubplot at 0x2160f727550>,\n",
       "  <matplotlib.colorbar.ColorbarBase at 0x2160f797cc0>),)"
      ]
     },
     "execution_count": 461,
     "metadata": {},
     "output_type": "execute_result"
    },
    {
     "data": {
      "image/png": "[encoded data removed]",
      "text/plain": [
       "<Figure size 432x288 with 2 Axes>"
      ]
     },
     "metadata": {
      "needs_background": "light"
     },
     "output_type": "display_data"
    }
   ],
   "source": [
    "sp.sign_plot(sp.posthoc_ttest(df, val_col='TMRM', group_col='substance', p_adjust='simes-hochberg'), **heatmap_args),"
   ]
  },
  {
   "cell_type": "code",
   "execution_count": 507,
   "metadata": {},
   "outputs": [
    {
     "data": {
      "text/plain": [
       "((<matplotlib.axes._subplots.AxesSubplot at 0x216112506d8>,\n",
       "  <matplotlib.colorbar.ColorbarBase at 0x216112c4cf8>),)"
      ]
     },
     "execution_count": 507,
     "metadata": {},
     "output_type": "execute_result"
    },
    {
     "data": {
      "image/png": "[encoded data removed]",
      "text/plain": [
       "<Figure size 432x288 with 2 Axes>"
      ]
     },
     "metadata": {
      "needs_background": "light"
     },
     "output_type": "display_data"
    }
   ],
   "source": [
    "sp.sign_plot(sp.posthoc_ttest(df, val_col='TMRM', group_col='substance', p_adjust='hommel'), **heatmap_args),"
   ]
  },
  {
   "cell_type": "code",
   "execution_count": 487,
   "metadata": {},
   "outputs": [
    {
     "ename": "KeyError",
     "evalue": "'TMRM'",
     "output_type": "error",
     "traceback": [
      "\u001b[1;31m---------------------------------------------------------------------------\u001b[0m",
      "\u001b[1;31mKeyError\u001b[0m                                  Traceback (most recent call last)",
      "\u001b[1;32m<ipython-input-487-db7371a868ca>\u001b[0m in \u001b[0;36m<module>\u001b[1;34m\u001b[0m\n\u001b[1;32m----> 1\u001b[1;33m \u001b[0msp\u001b[0m\u001b[1;33m.\u001b[0m\u001b[0msign_plot\u001b[0m\u001b[1;33m(\u001b[0m\u001b[0msp\u001b[0m\u001b[1;33m.\u001b[0m\u001b[0mposthoc_ttest\u001b[0m\u001b[1;33m(\u001b[0m\u001b[0mdf\u001b[0m\u001b[1;33m,\u001b[0m \u001b[0mval_col\u001b[0m\u001b[1;33m=\u001b[0m\u001b[1;34m'TMRM'\u001b[0m\u001b[1;33m,\u001b[0m \u001b[0mgroup_col\u001b[0m\u001b[1;33m=\u001b[0m\u001b[1;34m'substance'\u001b[0m\u001b[1;33m,\u001b[0m \u001b[0mp_adjust\u001b[0m\u001b[1;33m=\u001b[0m\u001b[1;34m'fdr_tsbky'\u001b[0m\u001b[1;33m)\u001b[0m\u001b[1;33m,\u001b[0m \u001b[1;33m**\u001b[0m\u001b[0mheatmap_args\u001b[0m\u001b[1;33m)\u001b[0m\u001b[1;33m,\u001b[0m\u001b[1;33m\u001b[0m\u001b[0m\n\u001b[0m",
      "\u001b[1;32mc:\\python37\\lib\\site-packages\\scikit_posthocs\\_posthocs.py\u001b[0m in \u001b[0;36mposthoc_ttest\u001b[1;34m(a, val_col, group_col, pool_sd, equal_var, p_adjust, sort)\u001b[0m\n\u001b[0;32m   1786\u001b[0m             \u001b[0mx\u001b[0m\u001b[1;33m[\u001b[0m\u001b[0mgroup_col\u001b[0m\u001b[1;33m]\u001b[0m \u001b[1;33m=\u001b[0m \u001b[0mCategorical\u001b[0m\u001b[1;33m(\u001b[0m\u001b[0mx\u001b[0m\u001b[1;33m[\u001b[0m\u001b[0mgroup_col\u001b[0m\u001b[1;33m]\u001b[0m\u001b[1;33m,\u001b[0m \u001b[0mcategories\u001b[0m\u001b[1;33m=\u001b[0m\u001b[0mx\u001b[0m\u001b[1;33m[\u001b[0m\u001b[0mgroup_col\u001b[0m\u001b[1;33m]\u001b[0m\u001b[1;33m.\u001b[0m\u001b[0munique\u001b[0m\u001b[1;33m(\u001b[0m\u001b[1;33m)\u001b[0m\u001b[1;33m,\u001b[0m \u001b[0mordered\u001b[0m\u001b[1;33m=\u001b[0m\u001b[1;32mTrue\u001b[0m\u001b[1;33m)\u001b[0m\u001b[1;33m\u001b[0m\u001b[0m\n\u001b[0;32m   1787\u001b[0m \u001b[1;33m\u001b[0m\u001b[0m\n\u001b[1;32m-> 1788\u001b[1;33m         \u001b[0mx\u001b[0m\u001b[1;33m.\u001b[0m\u001b[0msort_values\u001b[0m\u001b[1;33m(\u001b[0m\u001b[0mby\u001b[0m\u001b[1;33m=\u001b[0m\u001b[1;33m[\u001b[0m\u001b[0mgroup_col\u001b[0m\u001b[1;33m,\u001b[0m \u001b[0mval_col\u001b[0m\u001b[1;33m]\u001b[0m\u001b[1;33m,\u001b[0m \u001b[0mascending\u001b[0m\u001b[1;33m=\u001b[0m\u001b[1;32mTrue\u001b[0m\u001b[1;33m,\u001b[0m \u001b[0minplace\u001b[0m\u001b[1;33m=\u001b[0m\u001b[1;32mTrue\u001b[0m\u001b[1;33m)\u001b[0m\u001b[1;33m\u001b[0m\u001b[0m\n\u001b[0m\u001b[0;32m   1789\u001b[0m         \u001b[0mx_lens\u001b[0m \u001b[1;33m=\u001b[0m \u001b[0mx\u001b[0m\u001b[1;33m.\u001b[0m\u001b[0mgroupby\u001b[0m\u001b[1;33m(\u001b[0m\u001b[0mby\u001b[0m\u001b[1;33m=\u001b[0m\u001b[0mgroup_col\u001b[0m\u001b[1;33m)\u001b[0m\u001b[1;33m[\u001b[0m\u001b[0mval_col\u001b[0m\u001b[1;33m]\u001b[0m\u001b[1;33m.\u001b[0m\u001b[0mcount\u001b[0m\u001b[1;33m(\u001b[0m\u001b[1;33m)\u001b[0m\u001b[1;33m.\u001b[0m\u001b[0mvalues\u001b[0m\u001b[1;33m\u001b[0m\u001b[0m\n\u001b[0;32m   1790\u001b[0m         \u001b[0mx_lens_cumsum\u001b[0m \u001b[1;33m=\u001b[0m \u001b[0mnp\u001b[0m\u001b[1;33m.\u001b[0m\u001b[0minsert\u001b[0m\u001b[1;33m(\u001b[0m\u001b[0mnp\u001b[0m\u001b[1;33m.\u001b[0m\u001b[0mcumsum\u001b[0m\u001b[1;33m(\u001b[0m\u001b[0mx_lens\u001b[0m\u001b[1;33m)\u001b[0m\u001b[1;33m,\u001b[0m \u001b[1;36m0\u001b[0m\u001b[1;33m,\u001b[0m \u001b[1;36m0\u001b[0m\u001b[1;33m)\u001b[0m\u001b[1;33m[\u001b[0m\u001b[1;33m:\u001b[0m\u001b[1;33m-\u001b[0m\u001b[1;36m1\u001b[0m\u001b[1;33m]\u001b[0m\u001b[1;33m\u001b[0m\u001b[0m\n",
      "\u001b[1;32mc:\\python37\\lib\\site-packages\\pandas\\core\\frame.py\u001b[0m in \u001b[0;36msort_values\u001b[1;34m(self, by, axis, ascending, inplace, kind, na_position)\u001b[0m\n\u001b[0;32m   4409\u001b[0m             \u001b[1;32mfor\u001b[0m \u001b[0mx\u001b[0m \u001b[1;32min\u001b[0m \u001b[0mby\u001b[0m\u001b[1;33m:\u001b[0m\u001b[1;33m\u001b[0m\u001b[0m\n\u001b[0;32m   4410\u001b[0m                 k = self._get_label_or_level_values(x, axis=axis,\n\u001b[1;32m-> 4411\u001b[1;33m                                                     stacklevel=stacklevel)\n\u001b[0m\u001b[0;32m   4412\u001b[0m                 \u001b[0mkeys\u001b[0m\u001b[1;33m.\u001b[0m\u001b[0mappend\u001b[0m\u001b[1;33m(\u001b[0m\u001b[0mk\u001b[0m\u001b[1;33m)\u001b[0m\u001b[1;33m\u001b[0m\u001b[0m\n\u001b[0;32m   4413\u001b[0m             indexer = lexsort_indexer(keys, orders=ascending,\n",
      "\u001b[1;32mc:\\python37\\lib\\site-packages\\pandas\\core\\generic.py\u001b[0m in \u001b[0;36m_get_label_or_level_values\u001b[1;34m(self, key, axis, stacklevel)\u001b[0m\n\u001b[0;32m   1380\u001b[0m             \u001b[0mvalues\u001b[0m \u001b[1;33m=\u001b[0m \u001b[0mself\u001b[0m\u001b[1;33m.\u001b[0m\u001b[0maxes\u001b[0m\u001b[1;33m[\u001b[0m\u001b[0maxis\u001b[0m\u001b[1;33m]\u001b[0m\u001b[1;33m.\u001b[0m\u001b[0mget_level_values\u001b[0m\u001b[1;33m(\u001b[0m\u001b[0mkey\u001b[0m\u001b[1;33m)\u001b[0m\u001b[1;33m.\u001b[0m\u001b[0m_values\u001b[0m\u001b[1;33m\u001b[0m\u001b[0m\n\u001b[0;32m   1381\u001b[0m         \u001b[1;32melse\u001b[0m\u001b[1;33m:\u001b[0m\u001b[1;33m\u001b[0m\u001b[0m\n\u001b[1;32m-> 1382\u001b[1;33m             \u001b[1;32mraise\u001b[0m \u001b[0mKeyError\u001b[0m\u001b[1;33m(\u001b[0m\u001b[0mkey\u001b[0m\u001b[1;33m)\u001b[0m\u001b[1;33m\u001b[0m\u001b[0m\n\u001b[0m\u001b[0;32m   1383\u001b[0m \u001b[1;33m\u001b[0m\u001b[0m\n\u001b[0;32m   1384\u001b[0m         \u001b[1;31m# Check for duplicates\u001b[0m\u001b[1;33m\u001b[0m\u001b[1;33m\u001b[0m\u001b[0m\n",
      "\u001b[1;31mKeyError\u001b[0m: 'TMRM'"
     ]
    }
   ],
   "source": [
    "sp.sign_plot(sp.posthoc_ttest(df, val_col='TMRM', group_col='substance', p_adjust='fdr_tsbky'), **heatmap_args),"
   ]
  },
  {
   "cell_type": "code",
   "execution_count": 470,
   "metadata": {},
   "outputs": [],
   "source": [
    "mtt = pd.read_csv('~/mtt.csv')"
   ]
  },
  {
   "cell_type": "code",
   "execution_count": 481,
   "metadata": {},
   "outputs": [],
   "source": [
    "df = mtt"
   ]
  },
  {
   "cell_type": "code",
   "execution_count": 488,
   "metadata": {},
   "outputs": [
    {
     "data": {
      "text/plain": [
       "(<matplotlib.axes._subplots.AxesSubplot at 0x21610d33828>,\n",
       " <matplotlib.colorbar.ColorbarBase at 0x21610da48d0>)"
      ]
     },
     "execution_count": 488,
     "metadata": {},
     "output_type": "execute_result"
    },
    {
     "data": {
      "image/png": "[encoded data removed]",
      "text/plain": [
       "<Figure size 432x288 with 2 Axes>"
      ]
     },
     "metadata": {
      "needs_background": "light"
     },
     "output_type": "display_data"
    }
   ],
   "source": [
    "sp.sign_plot(sp.posthoc_ttest(df, val_col='MTT', group_col='substance', p_adjust=None), **heatmap_args)"
   ]
  },
  {
   "cell_type": "code",
   "execution_count": 485,
   "metadata": {},
   "outputs": [
    {
     "name": "stdout",
     "output_type": "stream",
     "text": [
      "                df    sum_sq   mean_sq          F        PR(>F)\n",
      "C(substance)   6.0  3.386560  0.564427  20.548814  3.828794e-10\n",
      "Residual      35.0  0.961366  0.027468        NaN           NaN\n"
     ]
    }
   ],
   "source": [
    "lm = sfa.ols('MTT ~ C(substance)', data=df).fit()\n",
    "anova = sa.stats.anova_lm(lm)\n",
    "print(anova)"
   ]
  },
  {
   "cell_type": "code",
   "execution_count": 484,
   "metadata": {},
   "outputs": [
    {
     "data": {
      "text/plain": [
       "0.010256593661381552"
      ]
     },
     "execution_count": 484,
     "metadata": {},
     "output_type": "execute_result"
    }
   ],
   "source": [
    "data = [df.loc[ids, 'MTT'].values for ids in df.groupby('substance').groups.values()]\n",
    "H, p = ss.kruskal(*data)\n",
    "p"
   ]
  },
  {
   "cell_type": "code",
   "execution_count": 483,
   "metadata": {},
   "outputs": [
    {
     "data": {
      "text/html": [
       "<div>\n",
       "<style scoped>\n",
       "    .dataframe tbody tr th:only-of-type {\n",
       "        vertical-align: middle;\n",
       "    }\n",
       "\n",
       "    .dataframe tbody tr th {\n",
       "        vertical-align: top;\n",
       "    }\n",
       "\n",
       "    .dataframe thead th {\n",
       "        text-align: right;\n",
       "    }\n",
       "</style>\n",
       "<table border=\"1\" class=\"dataframe\">\n",
       "  <thead>\n",
       "    <tr style=\"text-align: right;\">\n",
       "      <th></th>\n",
       "      <th>DMSO</th>\n",
       "      <th>PBS20</th>\n",
       "      <th>control</th>\n",
       "      <th>neoton1</th>\n",
       "      <th>neoton10</th>\n",
       "      <th>unifusol2</th>\n",
       "      <th>unifusol20</th>\n",
       "    </tr>\n",
       "  </thead>\n",
       "  <tbody>\n",
       "    <tr>\n",
       "      <th>DMSO</th>\n",
       "      <td>-1.000000e+00</td>\n",
       "      <td>1.402381e-07</td>\n",
       "      <td>0.000167</td>\n",
       "      <td>3.919752e-10</td>\n",
       "      <td>7.428527e-10</td>\n",
       "      <td>6.033646e-07</td>\n",
       "      <td>0.001457</td>\n",
       "    </tr>\n",
       "    <tr>\n",
       "      <th>PBS20</th>\n",
       "      <td>1.402381e-07</td>\n",
       "      <td>-1.000000e+00</td>\n",
       "      <td>1.000000</td>\n",
       "      <td>1.000000e+00</td>\n",
       "      <td>1.000000e+00</td>\n",
       "      <td>1.000000e+00</td>\n",
       "      <td>1.000000</td>\n",
       "    </tr>\n",
       "    <tr>\n",
       "      <th>control</th>\n",
       "      <td>1.667002e-04</td>\n",
       "      <td>1.000000e+00</td>\n",
       "      <td>-1.000000</td>\n",
       "      <td>1.000000e+00</td>\n",
       "      <td>1.000000e+00</td>\n",
       "      <td>1.000000e+00</td>\n",
       "      <td>1.000000</td>\n",
       "    </tr>\n",
       "    <tr>\n",
       "      <th>neoton1</th>\n",
       "      <td>3.919752e-10</td>\n",
       "      <td>1.000000e+00</td>\n",
       "      <td>1.000000</td>\n",
       "      <td>-1.000000e+00</td>\n",
       "      <td>1.000000e+00</td>\n",
       "      <td>1.000000e+00</td>\n",
       "      <td>1.000000</td>\n",
       "    </tr>\n",
       "    <tr>\n",
       "      <th>neoton10</th>\n",
       "      <td>7.428527e-10</td>\n",
       "      <td>1.000000e+00</td>\n",
       "      <td>1.000000</td>\n",
       "      <td>1.000000e+00</td>\n",
       "      <td>-1.000000e+00</td>\n",
       "      <td>1.000000e+00</td>\n",
       "      <td>1.000000</td>\n",
       "    </tr>\n",
       "    <tr>\n",
       "      <th>unifusol2</th>\n",
       "      <td>6.033646e-07</td>\n",
       "      <td>1.000000e+00</td>\n",
       "      <td>1.000000</td>\n",
       "      <td>1.000000e+00</td>\n",
       "      <td>1.000000e+00</td>\n",
       "      <td>-1.000000e+00</td>\n",
       "      <td>1.000000</td>\n",
       "    </tr>\n",
       "    <tr>\n",
       "      <th>unifusol20</th>\n",
       "      <td>1.457134e-03</td>\n",
       "      <td>1.000000e+00</td>\n",
       "      <td>1.000000</td>\n",
       "      <td>1.000000e+00</td>\n",
       "      <td>1.000000e+00</td>\n",
       "      <td>1.000000e+00</td>\n",
       "      <td>-1.000000</td>\n",
       "    </tr>\n",
       "  </tbody>\n",
       "</table>\n",
       "</div>"
      ],
      "text/plain": [
       "                    DMSO         PBS20   control       neoton1      neoton10  \\\n",
       "DMSO       -1.000000e+00  1.402381e-07  0.000167  3.919752e-10  7.428527e-10   \n",
       "PBS20       1.402381e-07 -1.000000e+00  1.000000  1.000000e+00  1.000000e+00   \n",
       "control     1.667002e-04  1.000000e+00 -1.000000  1.000000e+00  1.000000e+00   \n",
       "neoton1     3.919752e-10  1.000000e+00  1.000000 -1.000000e+00  1.000000e+00   \n",
       "neoton10    7.428527e-10  1.000000e+00  1.000000  1.000000e+00 -1.000000e+00   \n",
       "unifusol2   6.033646e-07  1.000000e+00  1.000000  1.000000e+00  1.000000e+00   \n",
       "unifusol20  1.457134e-03  1.000000e+00  1.000000  1.000000e+00  1.000000e+00   \n",
       "\n",
       "               unifusol2  unifusol20  \n",
       "DMSO        6.033646e-07    0.001457  \n",
       "PBS20       1.000000e+00    1.000000  \n",
       "control     1.000000e+00    1.000000  \n",
       "neoton1     1.000000e+00    1.000000  \n",
       "neoton10    1.000000e+00    1.000000  \n",
       "unifusol2  -1.000000e+00    1.000000  \n",
       "unifusol20  1.000000e+00   -1.000000  "
      ]
     },
     "execution_count": 483,
     "metadata": {},
     "output_type": "execute_result"
    }
   ],
   "source": [
    "sp.posthoc_ttest(df, val_col='MTT', group_col='substance', p_adjust='holm')"
   ]
  },
  {
   "cell_type": "code",
   "execution_count": 489,
   "metadata": {},
   "outputs": [
    {
     "data": {
      "text/plain": [
       "(<matplotlib.axes._subplots.AxesSubplot at 0x21610dca160>,\n",
       " <matplotlib.colorbar.ColorbarBase at 0x21610e3b208>)"
      ]
     },
     "execution_count": 489,
     "metadata": {},
     "output_type": "execute_result"
    },
    {
     "data": {
      "image/png": "[encoded data removed]",
      "text/plain": [
       "<Figure size 432x288 with 2 Axes>"
      ]
     },
     "metadata": {
      "needs_background": "light"
     },
     "output_type": "display_data"
    }
   ],
   "source": [
    "sp.sign_plot(sp.posthoc_vanwaerden(df, val_col='MTT', group_col='substance', p_adjust='fdr_bh'), **heatmap_args)"
   ]
  },
  {
   "cell_type": "code",
   "execution_count": 490,
   "metadata": {},
   "outputs": [
    {
     "name": "stderr",
     "output_type": "stream",
     "text": [
      "c:\\python37\\lib\\site-packages\\scipy\\stats\\morestats.py:2388: UserWarning: Warning: sample size too small for normal approximation.\n",
      "  warnings.warn(\"Warning: sample size too small for normal approximation.\")\n",
      "c:\\python37\\lib\\site-packages\\scipy\\stats\\morestats.py:2388: UserWarning: Warning: sample size too small for normal approximation.\n",
      "  warnings.warn(\"Warning: sample size too small for normal approximation.\")\n",
      "c:\\python37\\lib\\site-packages\\scipy\\stats\\morestats.py:2388: UserWarning: Warning: sample size too small for normal approximation.\n",
      "  warnings.warn(\"Warning: sample size too small for normal approximation.\")\n",
      "c:\\python37\\lib\\site-packages\\scipy\\stats\\morestats.py:2388: UserWarning: Warning: sample size too small for normal approximation.\n",
      "  warnings.warn(\"Warning: sample size too small for normal approximation.\")\n",
      "c:\\python37\\lib\\site-packages\\scipy\\stats\\morestats.py:2388: UserWarning: Warning: sample size too small for normal approximation.\n",
      "  warnings.warn(\"Warning: sample size too small for normal approximation.\")\n",
      "c:\\python37\\lib\\site-packages\\scipy\\stats\\morestats.py:2388: UserWarning: Warning: sample size too small for normal approximation.\n",
      "  warnings.warn(\"Warning: sample size too small for normal approximation.\")\n",
      "c:\\python37\\lib\\site-packages\\scipy\\stats\\morestats.py:2388: UserWarning: Warning: sample size too small for normal approximation.\n",
      "  warnings.warn(\"Warning: sample size too small for normal approximation.\")\n",
      "c:\\python37\\lib\\site-packages\\scipy\\stats\\morestats.py:2388: UserWarning: Warning: sample size too small for normal approximation.\n",
      "  warnings.warn(\"Warning: sample size too small for normal approximation.\")\n",
      "c:\\python37\\lib\\site-packages\\scipy\\stats\\morestats.py:2388: UserWarning: Warning: sample size too small for normal approximation.\n",
      "  warnings.warn(\"Warning: sample size too small for normal approximation.\")\n",
      "c:\\python37\\lib\\site-packages\\scipy\\stats\\morestats.py:2388: UserWarning: Warning: sample size too small for normal approximation.\n",
      "  warnings.warn(\"Warning: sample size too small for normal approximation.\")\n",
      "c:\\python37\\lib\\site-packages\\scipy\\stats\\morestats.py:2388: UserWarning: Warning: sample size too small for normal approximation.\n",
      "  warnings.warn(\"Warning: sample size too small for normal approximation.\")\n",
      "c:\\python37\\lib\\site-packages\\scipy\\stats\\morestats.py:2388: UserWarning: Warning: sample size too small for normal approximation.\n",
      "  warnings.warn(\"Warning: sample size too small for normal approximation.\")\n",
      "c:\\python37\\lib\\site-packages\\scipy\\stats\\morestats.py:2388: UserWarning: Warning: sample size too small for normal approximation.\n",
      "  warnings.warn(\"Warning: sample size too small for normal approximation.\")\n",
      "c:\\python37\\lib\\site-packages\\scipy\\stats\\morestats.py:2388: UserWarning: Warning: sample size too small for normal approximation.\n",
      "  warnings.warn(\"Warning: sample size too small for normal approximation.\")\n",
      "c:\\python37\\lib\\site-packages\\scipy\\stats\\morestats.py:2388: UserWarning: Warning: sample size too small for normal approximation.\n",
      "  warnings.warn(\"Warning: sample size too small for normal approximation.\")\n",
      "c:\\python37\\lib\\site-packages\\scipy\\stats\\morestats.py:2388: UserWarning: Warning: sample size too small for normal approximation.\n",
      "  warnings.warn(\"Warning: sample size too small for normal approximation.\")\n",
      "c:\\python37\\lib\\site-packages\\scipy\\stats\\morestats.py:2388: UserWarning: Warning: sample size too small for normal approximation.\n",
      "  warnings.warn(\"Warning: sample size too small for normal approximation.\")\n",
      "c:\\python37\\lib\\site-packages\\scipy\\stats\\morestats.py:2388: UserWarning: Warning: sample size too small for normal approximation.\n",
      "  warnings.warn(\"Warning: sample size too small for normal approximation.\")\n",
      "c:\\python37\\lib\\site-packages\\scipy\\stats\\morestats.py:2388: UserWarning: Warning: sample size too small for normal approximation.\n",
      "  warnings.warn(\"Warning: sample size too small for normal approximation.\")\n",
      "c:\\python37\\lib\\site-packages\\scipy\\stats\\morestats.py:2388: UserWarning: Warning: sample size too small for normal approximation.\n",
      "  warnings.warn(\"Warning: sample size too small for normal approximation.\")\n",
      "c:\\python37\\lib\\site-packages\\scipy\\stats\\morestats.py:2388: UserWarning: Warning: sample size too small for normal approximation.\n",
      "  warnings.warn(\"Warning: sample size too small for normal approximation.\")\n"
     ]
    },
    {
     "data": {
      "text/plain": [
       "(<matplotlib.axes._subplots.AxesSubplot at 0x21610e5b5c0>,\n",
       " <matplotlib.colorbar.ColorbarBase at 0x21610ec7a90>)"
      ]
     },
     "execution_count": 490,
     "metadata": {},
     "output_type": "execute_result"
    },
    {
     "data": {
      "image/png": "[encoded data removed]",
      "text/plain": [
       "<Figure size 432x288 with 2 Axes>"
      ]
     },
     "metadata": {
      "needs_background": "light"
     },
     "output_type": "display_data"
    }
   ],
   "source": [
    "sp.sign_plot(sp.posthoc_wilcoxon(df, val_col='MTT', group_col='substance', p_adjust='fdr_bh'), **heatmap_args)"
   ]
  },
  {
   "cell_type": "code",
   "execution_count": 491,
   "metadata": {},
   "outputs": [
    {
     "data": {
      "text/plain": [
       "0.010256593661381552"
      ]
     },
     "execution_count": 491,
     "metadata": {},
     "output_type": "execute_result"
    }
   ],
   "source": [
    "data = [df.loc[ids, 'MTT'].values for ids in df.groupby('substance').groups.values()]\n",
    "H, p = ss.kruskal(*data)\n",
    "p"
   ]
  },
  {
   "cell_type": "code",
   "execution_count": 506,
   "metadata": {},
   "outputs": [
    {
     "ename": "KeyError",
     "evalue": "'MTT'",
     "output_type": "error",
     "traceback": [
      "\u001b[1;31m---------------------------------------------------------------------------\u001b[0m",
      "\u001b[1;31mKeyError\u001b[0m                                  Traceback (most recent call last)",
      "\u001b[1;32m<ipython-input-506-40cde2c500a2>\u001b[0m in \u001b[0;36m<module>\u001b[1;34m\u001b[0m\n\u001b[0;32m      1\u001b[0m \u001b[1;33m\u001b[0m\u001b[0m\n\u001b[1;32m----> 2\u001b[1;33m \u001b[0msp\u001b[0m\u001b[1;33m.\u001b[0m\u001b[0msign_plot\u001b[0m\u001b[1;33m(\u001b[0m\u001b[0msp\u001b[0m\u001b[1;33m.\u001b[0m\u001b[0mposthoc_ttest\u001b[0m\u001b[1;33m(\u001b[0m\u001b[0mdf\u001b[0m\u001b[1;33m,\u001b[0m \u001b[0mval_col\u001b[0m\u001b[1;33m=\u001b[0m\u001b[1;34m'MTT'\u001b[0m\u001b[1;33m,\u001b[0m \u001b[0mgroup_col\u001b[0m\u001b[1;33m=\u001b[0m\u001b[1;34m'substance'\u001b[0m\u001b[1;33m,\u001b[0m \u001b[0mp_adjust\u001b[0m\u001b[1;33m=\u001b[0m\u001b[1;34m'holm'\u001b[0m\u001b[1;33m)\u001b[0m\u001b[1;33m,\u001b[0m \u001b[1;33m**\u001b[0m\u001b[0mheatmap_args\u001b[0m\u001b[1;33m)\u001b[0m\u001b[1;33m\u001b[0m\u001b[0m\n\u001b[0m",
      "\u001b[1;32mc:\\python37\\lib\\site-packages\\scikit_posthocs\\_posthocs.py\u001b[0m in \u001b[0;36mposthoc_ttest\u001b[1;34m(a, val_col, group_col, pool_sd, equal_var, p_adjust, sort)\u001b[0m\n\u001b[0;32m   1786\u001b[0m             \u001b[0mx\u001b[0m\u001b[1;33m[\u001b[0m\u001b[0mgroup_col\u001b[0m\u001b[1;33m]\u001b[0m \u001b[1;33m=\u001b[0m \u001b[0mCategorical\u001b[0m\u001b[1;33m(\u001b[0m\u001b[0mx\u001b[0m\u001b[1;33m[\u001b[0m\u001b[0mgroup_col\u001b[0m\u001b[1;33m]\u001b[0m\u001b[1;33m,\u001b[0m \u001b[0mcategories\u001b[0m\u001b[1;33m=\u001b[0m\u001b[0mx\u001b[0m\u001b[1;33m[\u001b[0m\u001b[0mgroup_col\u001b[0m\u001b[1;33m]\u001b[0m\u001b[1;33m.\u001b[0m\u001b[0munique\u001b[0m\u001b[1;33m(\u001b[0m\u001b[1;33m)\u001b[0m\u001b[1;33m,\u001b[0m \u001b[0mordered\u001b[0m\u001b[1;33m=\u001b[0m\u001b[1;32mTrue\u001b[0m\u001b[1;33m)\u001b[0m\u001b[1;33m\u001b[0m\u001b[0m\n\u001b[0;32m   1787\u001b[0m \u001b[1;33m\u001b[0m\u001b[0m\n\u001b[1;32m-> 1788\u001b[1;33m         \u001b[0mx\u001b[0m\u001b[1;33m.\u001b[0m\u001b[0msort_values\u001b[0m\u001b[1;33m(\u001b[0m\u001b[0mby\u001b[0m\u001b[1;33m=\u001b[0m\u001b[1;33m[\u001b[0m\u001b[0mgroup_col\u001b[0m\u001b[1;33m,\u001b[0m \u001b[0mval_col\u001b[0m\u001b[1;33m]\u001b[0m\u001b[1;33m,\u001b[0m \u001b[0mascending\u001b[0m\u001b[1;33m=\u001b[0m\u001b[1;32mTrue\u001b[0m\u001b[1;33m,\u001b[0m \u001b[0minplace\u001b[0m\u001b[1;33m=\u001b[0m\u001b[1;32mTrue\u001b[0m\u001b[1;33m)\u001b[0m\u001b[1;33m\u001b[0m\u001b[0m\n\u001b[0m\u001b[0;32m   1789\u001b[0m         \u001b[0mx_lens\u001b[0m \u001b[1;33m=\u001b[0m \u001b[0mx\u001b[0m\u001b[1;33m.\u001b[0m\u001b[0mgroupby\u001b[0m\u001b[1;33m(\u001b[0m\u001b[0mby\u001b[0m\u001b[1;33m=\u001b[0m\u001b[0mgroup_col\u001b[0m\u001b[1;33m)\u001b[0m\u001b[1;33m[\u001b[0m\u001b[0mval_col\u001b[0m\u001b[1;33m]\u001b[0m\u001b[1;33m.\u001b[0m\u001b[0mcount\u001b[0m\u001b[1;33m(\u001b[0m\u001b[1;33m)\u001b[0m\u001b[1;33m.\u001b[0m\u001b[0mvalues\u001b[0m\u001b[1;33m\u001b[0m\u001b[0m\n\u001b[0;32m   1790\u001b[0m         \u001b[0mx_lens_cumsum\u001b[0m \u001b[1;33m=\u001b[0m \u001b[0mnp\u001b[0m\u001b[1;33m.\u001b[0m\u001b[0minsert\u001b[0m\u001b[1;33m(\u001b[0m\u001b[0mnp\u001b[0m\u001b[1;33m.\u001b[0m\u001b[0mcumsum\u001b[0m\u001b[1;33m(\u001b[0m\u001b[0mx_lens\u001b[0m\u001b[1;33m)\u001b[0m\u001b[1;33m,\u001b[0m \u001b[1;36m0\u001b[0m\u001b[1;33m,\u001b[0m \u001b[1;36m0\u001b[0m\u001b[1;33m)\u001b[0m\u001b[1;33m[\u001b[0m\u001b[1;33m:\u001b[0m\u001b[1;33m-\u001b[0m\u001b[1;36m1\u001b[0m\u001b[1;33m]\u001b[0m\u001b[1;33m\u001b[0m\u001b[0m\n",
      "\u001b[1;32mc:\\python37\\lib\\site-packages\\pandas\\core\\frame.py\u001b[0m in \u001b[0;36msort_values\u001b[1;34m(self, by, axis, ascending, inplace, kind, na_position)\u001b[0m\n\u001b[0;32m   4409\u001b[0m             \u001b[1;32mfor\u001b[0m \u001b[0mx\u001b[0m \u001b[1;32min\u001b[0m \u001b[0mby\u001b[0m\u001b[1;33m:\u001b[0m\u001b[1;33m\u001b[0m\u001b[0m\n\u001b[0;32m   4410\u001b[0m                 k = self._get_label_or_level_values(x, axis=axis,\n\u001b[1;32m-> 4411\u001b[1;33m                                                     stacklevel=stacklevel)\n\u001b[0m\u001b[0;32m   4412\u001b[0m                 \u001b[0mkeys\u001b[0m\u001b[1;33m.\u001b[0m\u001b[0mappend\u001b[0m\u001b[1;33m(\u001b[0m\u001b[0mk\u001b[0m\u001b[1;33m)\u001b[0m\u001b[1;33m\u001b[0m\u001b[0m\n\u001b[0;32m   4413\u001b[0m             indexer = lexsort_indexer(keys, orders=ascending,\n",
      "\u001b[1;32mc:\\python37\\lib\\site-packages\\pandas\\core\\generic.py\u001b[0m in \u001b[0;36m_get_label_or_level_values\u001b[1;34m(self, key, axis, stacklevel)\u001b[0m\n\u001b[0;32m   1380\u001b[0m             \u001b[0mvalues\u001b[0m \u001b[1;33m=\u001b[0m \u001b[0mself\u001b[0m\u001b[1;33m.\u001b[0m\u001b[0maxes\u001b[0m\u001b[1;33m[\u001b[0m\u001b[0maxis\u001b[0m\u001b[1;33m]\u001b[0m\u001b[1;33m.\u001b[0m\u001b[0mget_level_values\u001b[0m\u001b[1;33m(\u001b[0m\u001b[0mkey\u001b[0m\u001b[1;33m)\u001b[0m\u001b[1;33m.\u001b[0m\u001b[0m_values\u001b[0m\u001b[1;33m\u001b[0m\u001b[0m\n\u001b[0;32m   1381\u001b[0m         \u001b[1;32melse\u001b[0m\u001b[1;33m:\u001b[0m\u001b[1;33m\u001b[0m\u001b[0m\n\u001b[1;32m-> 1382\u001b[1;33m             \u001b[1;32mraise\u001b[0m \u001b[0mKeyError\u001b[0m\u001b[1;33m(\u001b[0m\u001b[0mkey\u001b[0m\u001b[1;33m)\u001b[0m\u001b[1;33m\u001b[0m\u001b[0m\n\u001b[0m\u001b[0;32m   1383\u001b[0m \u001b[1;33m\u001b[0m\u001b[0m\n\u001b[0;32m   1384\u001b[0m         \u001b[1;31m# Check for duplicates\u001b[0m\u001b[1;33m\u001b[0m\u001b[1;33m\u001b[0m\u001b[0m\n",
      "\u001b[1;31mKeyError\u001b[0m: 'MTT'"
     ]
    }
   ],
   "source": [
    "\n",
    "sp.sign_plot(sp.posthoc_ttest(df, val_col='MTT', group_col='substance', p_adjust='holm'), **heatmap_args)"
   ]
  },
  {
   "cell_type": "code",
   "execution_count": 498,
   "metadata": {},
   "outputs": [
    {
     "data": {
      "text/plain": [
       "(<matplotlib.axes._subplots.AxesSubplot at 0x21611105240>,\n",
       " <matplotlib.colorbar.ColorbarBase at 0x21611178da0>)"
      ]
     },
     "execution_count": 498,
     "metadata": {},
     "output_type": "execute_result"
    },
    {
     "data": {
      "image/png": "[encoded data removed]",
      "text/plain": [
       "<Figure size 432x288 with 2 Axes>"
      ]
     },
     "metadata": {
      "needs_background": "light"
     },
     "output_type": "display_data"
    }
   ],
   "source": [
    "sp.sign_plot(sp.posthoc_ttest(df.loc[df.substance != 'DMSO'], val_col='MTT', \n",
    "                              group_col='substance', \n",
    "                              p_adjust='holm'), \n",
    "             **heatmap_args)"
   ]
  },
  {
   "cell_type": "code",
   "execution_count": 496,
   "metadata": {},
   "outputs": [
    {
     "data": {
      "text/html": [
       "<div>\n",
       "<style scoped>\n",
       "    .dataframe tbody tr th:only-of-type {\n",
       "        vertical-align: middle;\n",
       "    }\n",
       "\n",
       "    .dataframe tbody tr th {\n",
       "        vertical-align: top;\n",
       "    }\n",
       "\n",
       "    .dataframe thead th {\n",
       "        text-align: right;\n",
       "    }\n",
       "</style>\n",
       "<table border=\"1\" class=\"dataframe\">\n",
       "  <thead>\n",
       "    <tr style=\"text-align: right;\">\n",
       "      <th></th>\n",
       "      <th>MTT</th>\n",
       "      <th>substance</th>\n",
       "    </tr>\n",
       "  </thead>\n",
       "  <tbody>\n",
       "    <tr>\n",
       "      <th>6</th>\n",
       "      <td>1.119</td>\n",
       "      <td>control</td>\n",
       "    </tr>\n",
       "    <tr>\n",
       "      <th>7</th>\n",
       "      <td>1.008</td>\n",
       "      <td>control</td>\n",
       "    </tr>\n",
       "    <tr>\n",
       "      <th>8</th>\n",
       "      <td>0.782</td>\n",
       "      <td>control</td>\n",
       "    </tr>\n",
       "    <tr>\n",
       "      <th>9</th>\n",
       "      <td>0.652</td>\n",
       "      <td>control</td>\n",
       "    </tr>\n",
       "    <tr>\n",
       "      <th>10</th>\n",
       "      <td>0.632</td>\n",
       "      <td>control</td>\n",
       "    </tr>\n",
       "    <tr>\n",
       "      <th>11</th>\n",
       "      <td>0.563</td>\n",
       "      <td>control</td>\n",
       "    </tr>\n",
       "    <tr>\n",
       "      <th>12</th>\n",
       "      <td>0.880</td>\n",
       "      <td>neoton1</td>\n",
       "    </tr>\n",
       "    <tr>\n",
       "      <th>13</th>\n",
       "      <td>0.950</td>\n",
       "      <td>neoton1</td>\n",
       "    </tr>\n",
       "    <tr>\n",
       "      <th>14</th>\n",
       "      <td>0.848</td>\n",
       "      <td>neoton1</td>\n",
       "    </tr>\n",
       "    <tr>\n",
       "      <th>15</th>\n",
       "      <td>0.803</td>\n",
       "      <td>neoton1</td>\n",
       "    </tr>\n",
       "    <tr>\n",
       "      <th>16</th>\n",
       "      <td>0.925</td>\n",
       "      <td>neoton1</td>\n",
       "    </tr>\n",
       "    <tr>\n",
       "      <th>17</th>\n",
       "      <td>0.800</td>\n",
       "      <td>neoton1</td>\n",
       "    </tr>\n",
       "    <tr>\n",
       "      <th>18</th>\n",
       "      <td>0.854</td>\n",
       "      <td>neoton10</td>\n",
       "    </tr>\n",
       "    <tr>\n",
       "      <th>19</th>\n",
       "      <td>0.850</td>\n",
       "      <td>neoton10</td>\n",
       "    </tr>\n",
       "    <tr>\n",
       "      <th>20</th>\n",
       "      <td>0.911</td>\n",
       "      <td>neoton10</td>\n",
       "    </tr>\n",
       "    <tr>\n",
       "      <th>21</th>\n",
       "      <td>0.844</td>\n",
       "      <td>neoton10</td>\n",
       "    </tr>\n",
       "    <tr>\n",
       "      <th>22</th>\n",
       "      <td>0.738</td>\n",
       "      <td>neoton10</td>\n",
       "    </tr>\n",
       "    <tr>\n",
       "      <th>23</th>\n",
       "      <td>0.767</td>\n",
       "      <td>neoton10</td>\n",
       "    </tr>\n",
       "    <tr>\n",
       "      <th>24</th>\n",
       "      <td>0.913</td>\n",
       "      <td>unifusol2</td>\n",
       "    </tr>\n",
       "    <tr>\n",
       "      <th>25</th>\n",
       "      <td>0.966</td>\n",
       "      <td>unifusol2</td>\n",
       "    </tr>\n",
       "    <tr>\n",
       "      <th>26</th>\n",
       "      <td>0.873</td>\n",
       "      <td>unifusol2</td>\n",
       "    </tr>\n",
       "    <tr>\n",
       "      <th>27</th>\n",
       "      <td>0.733</td>\n",
       "      <td>unifusol2</td>\n",
       "    </tr>\n",
       "    <tr>\n",
       "      <th>28</th>\n",
       "      <td>0.621</td>\n",
       "      <td>unifusol2</td>\n",
       "    </tr>\n",
       "    <tr>\n",
       "      <th>29</th>\n",
       "      <td>0.848</td>\n",
       "      <td>unifusol2</td>\n",
       "    </tr>\n",
       "    <tr>\n",
       "      <th>30</th>\n",
       "      <td>0.957</td>\n",
       "      <td>unifusol20</td>\n",
       "    </tr>\n",
       "    <tr>\n",
       "      <th>31</th>\n",
       "      <td>1.352</td>\n",
       "      <td>unifusol20</td>\n",
       "    </tr>\n",
       "    <tr>\n",
       "      <th>32</th>\n",
       "      <td>1.078</td>\n",
       "      <td>unifusol20</td>\n",
       "    </tr>\n",
       "    <tr>\n",
       "      <th>33</th>\n",
       "      <td>0.553</td>\n",
       "      <td>unifusol20</td>\n",
       "    </tr>\n",
       "    <tr>\n",
       "      <th>34</th>\n",
       "      <td>0.524</td>\n",
       "      <td>unifusol20</td>\n",
       "    </tr>\n",
       "    <tr>\n",
       "      <th>35</th>\n",
       "      <td>0.754</td>\n",
       "      <td>unifusol20</td>\n",
       "    </tr>\n",
       "    <tr>\n",
       "      <th>36</th>\n",
       "      <td>0.908</td>\n",
       "      <td>PBS20</td>\n",
       "    </tr>\n",
       "    <tr>\n",
       "      <th>37</th>\n",
       "      <td>0.943</td>\n",
       "      <td>PBS20</td>\n",
       "    </tr>\n",
       "    <tr>\n",
       "      <th>38</th>\n",
       "      <td>1.122</td>\n",
       "      <td>PBS20</td>\n",
       "    </tr>\n",
       "    <tr>\n",
       "      <th>39</th>\n",
       "      <td>0.899</td>\n",
       "      <td>PBS20</td>\n",
       "    </tr>\n",
       "    <tr>\n",
       "      <th>40</th>\n",
       "      <td>0.750</td>\n",
       "      <td>PBS20</td>\n",
       "    </tr>\n",
       "    <tr>\n",
       "      <th>41</th>\n",
       "      <td>0.870</td>\n",
       "      <td>PBS20</td>\n",
       "    </tr>\n",
       "  </tbody>\n",
       "</table>\n",
       "</div>"
      ],
      "text/plain": [
       "      MTT   substance\n",
       "6   1.119     control\n",
       "7   1.008     control\n",
       "8   0.782     control\n",
       "9   0.652     control\n",
       "10  0.632     control\n",
       "11  0.563     control\n",
       "12  0.880     neoton1\n",
       "13  0.950     neoton1\n",
       "14  0.848     neoton1\n",
       "15  0.803     neoton1\n",
       "16  0.925     neoton1\n",
       "17  0.800     neoton1\n",
       "18  0.854    neoton10\n",
       "19  0.850    neoton10\n",
       "20  0.911    neoton10\n",
       "21  0.844    neoton10\n",
       "22  0.738    neoton10\n",
       "23  0.767    neoton10\n",
       "24  0.913   unifusol2\n",
       "25  0.966   unifusol2\n",
       "26  0.873   unifusol2\n",
       "27  0.733   unifusol2\n",
       "28  0.621   unifusol2\n",
       "29  0.848   unifusol2\n",
       "30  0.957  unifusol20\n",
       "31  1.352  unifusol20\n",
       "32  1.078  unifusol20\n",
       "33  0.553  unifusol20\n",
       "34  0.524  unifusol20\n",
       "35  0.754  unifusol20\n",
       "36  0.908       PBS20\n",
       "37  0.943       PBS20\n",
       "38  1.122       PBS20\n",
       "39  0.899       PBS20\n",
       "40  0.750       PBS20\n",
       "41  0.870       PBS20"
      ]
     },
     "execution_count": 496,
     "metadata": {},
     "output_type": "execute_result"
    }
   ],
   "source": [
    "df.loc[df.substance != 'DMSO']"
   ]
  },
  {
   "cell_type": "code",
   "execution_count": 505,
   "metadata": {},
   "outputs": [
    {
     "ename": "KeyError",
     "evalue": "'MTT'",
     "output_type": "error",
     "traceback": [
      "\u001b[1;31m---------------------------------------------------------------------------\u001b[0m",
      "\u001b[1;31mKeyError\u001b[0m                                  Traceback (most recent call last)",
      "\u001b[1;32m<ipython-input-505-57d161d882ab>\u001b[0m in \u001b[0;36m<module>\u001b[1;34m\u001b[0m\n\u001b[0;32m      1\u001b[0m sp.sign_plot(sp.posthoc_ttest(df.loc[df.substance != 'DMSO'], val_col='MTT', \n\u001b[0;32m      2\u001b[0m                               \u001b[0mgroup_col\u001b[0m\u001b[1;33m=\u001b[0m\u001b[1;34m'substance'\u001b[0m\u001b[1;33m,\u001b[0m\u001b[1;33m\u001b[0m\u001b[0m\n\u001b[1;32m----> 3\u001b[1;33m                               p_adjust='holm'), \n\u001b[0m\u001b[0;32m      4\u001b[0m              **heatmap_args)\n",
      "\u001b[1;32mc:\\python37\\lib\\site-packages\\scikit_posthocs\\_posthocs.py\u001b[0m in \u001b[0;36mposthoc_ttest\u001b[1;34m(a, val_col, group_col, pool_sd, equal_var, p_adjust, sort)\u001b[0m\n\u001b[0;32m   1786\u001b[0m             \u001b[0mx\u001b[0m\u001b[1;33m[\u001b[0m\u001b[0mgroup_col\u001b[0m\u001b[1;33m]\u001b[0m \u001b[1;33m=\u001b[0m \u001b[0mCategorical\u001b[0m\u001b[1;33m(\u001b[0m\u001b[0mx\u001b[0m\u001b[1;33m[\u001b[0m\u001b[0mgroup_col\u001b[0m\u001b[1;33m]\u001b[0m\u001b[1;33m,\u001b[0m \u001b[0mcategories\u001b[0m\u001b[1;33m=\u001b[0m\u001b[0mx\u001b[0m\u001b[1;33m[\u001b[0m\u001b[0mgroup_col\u001b[0m\u001b[1;33m]\u001b[0m\u001b[1;33m.\u001b[0m\u001b[0munique\u001b[0m\u001b[1;33m(\u001b[0m\u001b[1;33m)\u001b[0m\u001b[1;33m,\u001b[0m \u001b[0mordered\u001b[0m\u001b[1;33m=\u001b[0m\u001b[1;32mTrue\u001b[0m\u001b[1;33m)\u001b[0m\u001b[1;33m\u001b[0m\u001b[0m\n\u001b[0;32m   1787\u001b[0m \u001b[1;33m\u001b[0m\u001b[0m\n\u001b[1;32m-> 1788\u001b[1;33m         \u001b[0mx\u001b[0m\u001b[1;33m.\u001b[0m\u001b[0msort_values\u001b[0m\u001b[1;33m(\u001b[0m\u001b[0mby\u001b[0m\u001b[1;33m=\u001b[0m\u001b[1;33m[\u001b[0m\u001b[0mgroup_col\u001b[0m\u001b[1;33m,\u001b[0m \u001b[0mval_col\u001b[0m\u001b[1;33m]\u001b[0m\u001b[1;33m,\u001b[0m \u001b[0mascending\u001b[0m\u001b[1;33m=\u001b[0m\u001b[1;32mTrue\u001b[0m\u001b[1;33m,\u001b[0m \u001b[0minplace\u001b[0m\u001b[1;33m=\u001b[0m\u001b[1;32mTrue\u001b[0m\u001b[1;33m)\u001b[0m\u001b[1;33m\u001b[0m\u001b[0m\n\u001b[0m\u001b[0;32m   1789\u001b[0m         \u001b[0mx_lens\u001b[0m \u001b[1;33m=\u001b[0m \u001b[0mx\u001b[0m\u001b[1;33m.\u001b[0m\u001b[0mgroupby\u001b[0m\u001b[1;33m(\u001b[0m\u001b[0mby\u001b[0m\u001b[1;33m=\u001b[0m\u001b[0mgroup_col\u001b[0m\u001b[1;33m)\u001b[0m\u001b[1;33m[\u001b[0m\u001b[0mval_col\u001b[0m\u001b[1;33m]\u001b[0m\u001b[1;33m.\u001b[0m\u001b[0mcount\u001b[0m\u001b[1;33m(\u001b[0m\u001b[1;33m)\u001b[0m\u001b[1;33m.\u001b[0m\u001b[0mvalues\u001b[0m\u001b[1;33m\u001b[0m\u001b[0m\n\u001b[0;32m   1790\u001b[0m         \u001b[0mx_lens_cumsum\u001b[0m \u001b[1;33m=\u001b[0m \u001b[0mnp\u001b[0m\u001b[1;33m.\u001b[0m\u001b[0minsert\u001b[0m\u001b[1;33m(\u001b[0m\u001b[0mnp\u001b[0m\u001b[1;33m.\u001b[0m\u001b[0mcumsum\u001b[0m\u001b[1;33m(\u001b[0m\u001b[0mx_lens\u001b[0m\u001b[1;33m)\u001b[0m\u001b[1;33m,\u001b[0m \u001b[1;36m0\u001b[0m\u001b[1;33m,\u001b[0m \u001b[1;36m0\u001b[0m\u001b[1;33m)\u001b[0m\u001b[1;33m[\u001b[0m\u001b[1;33m:\u001b[0m\u001b[1;33m-\u001b[0m\u001b[1;36m1\u001b[0m\u001b[1;33m]\u001b[0m\u001b[1;33m\u001b[0m\u001b[0m\n",
      "\u001b[1;32mc:\\python37\\lib\\site-packages\\pandas\\core\\frame.py\u001b[0m in \u001b[0;36msort_values\u001b[1;34m(self, by, axis, ascending, inplace, kind, na_position)\u001b[0m\n\u001b[0;32m   4409\u001b[0m             \u001b[1;32mfor\u001b[0m \u001b[0mx\u001b[0m \u001b[1;32min\u001b[0m \u001b[0mby\u001b[0m\u001b[1;33m:\u001b[0m\u001b[1;33m\u001b[0m\u001b[0m\n\u001b[0;32m   4410\u001b[0m                 k = self._get_label_or_level_values(x, axis=axis,\n\u001b[1;32m-> 4411\u001b[1;33m                                                     stacklevel=stacklevel)\n\u001b[0m\u001b[0;32m   4412\u001b[0m                 \u001b[0mkeys\u001b[0m\u001b[1;33m.\u001b[0m\u001b[0mappend\u001b[0m\u001b[1;33m(\u001b[0m\u001b[0mk\u001b[0m\u001b[1;33m)\u001b[0m\u001b[1;33m\u001b[0m\u001b[0m\n\u001b[0;32m   4413\u001b[0m             indexer = lexsort_indexer(keys, orders=ascending,\n",
      "\u001b[1;32mc:\\python37\\lib\\site-packages\\pandas\\core\\generic.py\u001b[0m in \u001b[0;36m_get_label_or_level_values\u001b[1;34m(self, key, axis, stacklevel)\u001b[0m\n\u001b[0;32m   1380\u001b[0m             \u001b[0mvalues\u001b[0m \u001b[1;33m=\u001b[0m \u001b[0mself\u001b[0m\u001b[1;33m.\u001b[0m\u001b[0maxes\u001b[0m\u001b[1;33m[\u001b[0m\u001b[0maxis\u001b[0m\u001b[1;33m]\u001b[0m\u001b[1;33m.\u001b[0m\u001b[0mget_level_values\u001b[0m\u001b[1;33m(\u001b[0m\u001b[0mkey\u001b[0m\u001b[1;33m)\u001b[0m\u001b[1;33m.\u001b[0m\u001b[0m_values\u001b[0m\u001b[1;33m\u001b[0m\u001b[0m\n\u001b[0;32m   1381\u001b[0m         \u001b[1;32melse\u001b[0m\u001b[1;33m:\u001b[0m\u001b[1;33m\u001b[0m\u001b[0m\n\u001b[1;32m-> 1382\u001b[1;33m             \u001b[1;32mraise\u001b[0m \u001b[0mKeyError\u001b[0m\u001b[1;33m(\u001b[0m\u001b[0mkey\u001b[0m\u001b[1;33m)\u001b[0m\u001b[1;33m\u001b[0m\u001b[0m\n\u001b[0m\u001b[0;32m   1383\u001b[0m \u001b[1;33m\u001b[0m\u001b[0m\n\u001b[0;32m   1384\u001b[0m         \u001b[1;31m# Check for duplicates\u001b[0m\u001b[1;33m\u001b[0m\u001b[1;33m\u001b[0m\u001b[0m\n",
      "\u001b[1;31mKeyError\u001b[0m: 'MTT'"
     ]
    }
   ],
   "source": [
    "sp.sign_plot(sp.posthoc_ttest(df.loc[df.substance != 'DMSO'], val_col='MTT', \n",
    "                              group_col='substance', \n",
    "                              p_adjust='holm'), \n",
    "             **heatmap_args)"
   ]
  },
  {
   "cell_type": "code",
   "execution_count": null,
   "metadata": {},
   "outputs": [],
   "source": []
  }
 ],
 "metadata": {
  "kernelspec": {
   "display_name": "Python 3.8.1 64-bit",
   "language": "python",
   "name": "python38164bit994bc67492474195916a410ea38f396d"
  },
  "language_info": {
   "codemirror_mode": {
    "name": "ipython",
    "version": 3
   },
   "file_extension": ".py",
   "mimetype": "text/x-python",
   "name": "python",
   "nbconvert_exporter": "python",
   "pygments_lexer": "ipython3",
   "version": "3.8.1"
  }
 },
 "nbformat": 4,
 "nbformat_minor": 4
}
